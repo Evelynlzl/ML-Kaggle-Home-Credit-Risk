{
 "cells": [
  {
   "cell_type": "code",
   "execution_count": 1,
   "id": "1cdee5e6508a2b36",
   "metadata": {
    "ExecuteTime": {
     "end_time": "2024-01-04T23:00:06.532453300Z",
     "start_time": "2024-01-04T23:00:05.523455Z"
    }
   },
   "outputs": [],
   "source": [
    "import pandas as pd\n",
    "import numpy as np\n",
    "import matplotlib.pyplot as plt\n",
    "import seaborn as sns\n",
    "from sklearn.metrics import roc_auc_score,roc_curve\n",
    "import lightgbm as lgb"
   ]
  },
  {
   "cell_type": "code",
   "execution_count": 2,
   "id": "9238f659bc066126",
   "metadata": {
    "ExecuteTime": {
     "end_time": "2024-01-04T23:00:06.552453800Z",
     "start_time": "2024-01-04T23:00:06.530456500Z"
    }
   },
   "outputs": [],
   "source": [
    "# ML\n",
    "## Verify lightgbm can run\n",
    "from sklearn.model_selection import train_test_split"
   ]
  },
  {
   "cell_type": "code",
   "execution_count": 3,
   "id": "6a363a885fe09ebf",
   "metadata": {
    "ExecuteTime": {
     "end_time": "2024-01-04T23:00:55.448926600Z",
     "start_time": "2024-01-04T23:00:06.548457700Z"
    }
   },
   "outputs": [],
   "source": [
    "all_data = pd.read_csv('./src/all_data.csv', index_col=0)"
   ]
  },
  {
   "cell_type": "code",
   "execution_count": 4,
   "id": "f63f9c7f240ebd91",
   "metadata": {
    "ExecuteTime": {
     "end_time": "2024-01-04T23:00:57.132928400Z",
     "start_time": "2024-01-04T23:00:55.532923600Z"
    }
   },
   "outputs": [],
   "source": [
    "feature_engineered = pd.read_csv('./src/potential_features.csv', index_col=0)"
   ]
  },
  {
   "cell_type": "code",
   "execution_count": 5,
   "id": "a688864bf59913b7",
   "metadata": {
    "ExecuteTime": {
     "end_time": "2024-01-04T23:00:57.294922800Z",
     "start_time": "2024-01-04T23:00:57.177927900Z"
    }
   },
   "outputs": [
    {
     "data": {
      "text/html": [
       "<div>\n",
       "<style scoped>\n",
       "    .dataframe tbody tr th:only-of-type {\n",
       "        vertical-align: middle;\n",
       "    }\n",
       "\n",
       "    .dataframe tbody tr th {\n",
       "        vertical-align: top;\n",
       "    }\n",
       "\n",
       "    .dataframe thead th {\n",
       "        text-align: right;\n",
       "    }\n",
       "</style>\n",
       "<table border=\"1\" class=\"dataframe\">\n",
       "  <thead>\n",
       "    <tr style=\"text-align: right;\">\n",
       "      <th></th>\n",
       "      <th>APP_NAME_CONTRACT_TYPE</th>\n",
       "      <th>APP_CODE_GENDER_F</th>\n",
       "      <th>APP_CODE_GENDER_M</th>\n",
       "      <th>APP_CODE_GENDER_XNA</th>\n",
       "      <th>APP_FLAG_OWN_CAR</th>\n",
       "      <th>APP_FLAG_OWN_REALTY</th>\n",
       "      <th>APP_NAME_TYPE_SUITE_Children</th>\n",
       "      <th>APP_NAME_TYPE_SUITE_Family</th>\n",
       "      <th>APP_NAME_TYPE_SUITE_Groupofpeople</th>\n",
       "      <th>APP_NAME_TYPE_SUITE_Other_A</th>\n",
       "      <th>...</th>\n",
       "      <th>normalized_days_to_instalment</th>\n",
       "      <th>normalized_days_to_instalment_binary_01</th>\n",
       "      <th>normalized_days_to_instalment_binary_03</th>\n",
       "      <th>normalized_days_to_instalment_binary_06</th>\n",
       "      <th>payment_relative_income_binary_03</th>\n",
       "      <th>payment_relative_income_binary_07</th>\n",
       "      <th>avg_credit_approval_per_month</th>\n",
       "      <th>Pct_good_p_in_credit_curr</th>\n",
       "      <th>document_complete</th>\n",
       "      <th>PERCENTAGE_MIN_MISSED_PAYMENTS</th>\n",
       "    </tr>\n",
       "    <tr>\n",
       "      <th>SK_ID_CURR</th>\n",
       "      <th></th>\n",
       "      <th></th>\n",
       "      <th></th>\n",
       "      <th></th>\n",
       "      <th></th>\n",
       "      <th></th>\n",
       "      <th></th>\n",
       "      <th></th>\n",
       "      <th></th>\n",
       "      <th></th>\n",
       "      <th></th>\n",
       "      <th></th>\n",
       "      <th></th>\n",
       "      <th></th>\n",
       "      <th></th>\n",
       "      <th></th>\n",
       "      <th></th>\n",
       "      <th></th>\n",
       "      <th></th>\n",
       "      <th></th>\n",
       "      <th></th>\n",
       "    </tr>\n",
       "  </thead>\n",
       "  <tbody>\n",
       "    <tr>\n",
       "      <th>100002</th>\n",
       "      <td>1</td>\n",
       "      <td>0.0</td>\n",
       "      <td>1.0</td>\n",
       "      <td>0.0</td>\n",
       "      <td>1</td>\n",
       "      <td>1</td>\n",
       "      <td>0.0</td>\n",
       "      <td>0.0</td>\n",
       "      <td>0.0</td>\n",
       "      <td>0.0</td>\n",
       "      <td>...</td>\n",
       "      <td>0.001767</td>\n",
       "      <td>0</td>\n",
       "      <td>1</td>\n",
       "      <td>1</td>\n",
       "      <td>1</td>\n",
       "      <td>0</td>\n",
       "      <td>-3.902934e+05</td>\n",
       "      <td>0.863262</td>\n",
       "      <td>1</td>\n",
       "      <td>-1.0</td>\n",
       "    </tr>\n",
       "    <tr>\n",
       "      <th>100003</th>\n",
       "      <td>1</td>\n",
       "      <td>1.0</td>\n",
       "      <td>0.0</td>\n",
       "      <td>0.0</td>\n",
       "      <td>1</td>\n",
       "      <td>0</td>\n",
       "      <td>0.0</td>\n",
       "      <td>1.0</td>\n",
       "      <td>0.0</td>\n",
       "      <td>0.0</td>\n",
       "      <td>...</td>\n",
       "      <td>0.000111</td>\n",
       "      <td>0</td>\n",
       "      <td>1</td>\n",
       "      <td>1</td>\n",
       "      <td>1</td>\n",
       "      <td>1</td>\n",
       "      <td>-3.850621e+06</td>\n",
       "      <td>0.873211</td>\n",
       "      <td>1</td>\n",
       "      <td>-1.0</td>\n",
       "    </tr>\n",
       "    <tr>\n",
       "      <th>100004</th>\n",
       "      <td>0</td>\n",
       "      <td>0.0</td>\n",
       "      <td>1.0</td>\n",
       "      <td>0.0</td>\n",
       "      <td>0</td>\n",
       "      <td>1</td>\n",
       "      <td>0.0</td>\n",
       "      <td>0.0</td>\n",
       "      <td>0.0</td>\n",
       "      <td>0.0</td>\n",
       "      <td>...</td>\n",
       "      <td>0.001080</td>\n",
       "      <td>0</td>\n",
       "      <td>1</td>\n",
       "      <td>1</td>\n",
       "      <td>0</td>\n",
       "      <td>0</td>\n",
       "      <td>-2.752104e+04</td>\n",
       "      <td>1.000000</td>\n",
       "      <td>0</td>\n",
       "      <td>-1.0</td>\n",
       "    </tr>\n",
       "    <tr>\n",
       "      <th>100006</th>\n",
       "      <td>1</td>\n",
       "      <td>1.0</td>\n",
       "      <td>0.0</td>\n",
       "      <td>0.0</td>\n",
       "      <td>1</td>\n",
       "      <td>1</td>\n",
       "      <td>0.0</td>\n",
       "      <td>0.0</td>\n",
       "      <td>0.0</td>\n",
       "      <td>0.0</td>\n",
       "      <td>...</td>\n",
       "      <td>0.000308</td>\n",
       "      <td>0</td>\n",
       "      <td>1</td>\n",
       "      <td>1</td>\n",
       "      <td>1</td>\n",
       "      <td>1</td>\n",
       "      <td>2.407439e+06</td>\n",
       "      <td>0.949845</td>\n",
       "      <td>1</td>\n",
       "      <td>0.0</td>\n",
       "    </tr>\n",
       "    <tr>\n",
       "      <th>100007</th>\n",
       "      <td>1</td>\n",
       "      <td>0.0</td>\n",
       "      <td>1.0</td>\n",
       "      <td>0.0</td>\n",
       "      <td>1</td>\n",
       "      <td>1</td>\n",
       "      <td>0.0</td>\n",
       "      <td>0.0</td>\n",
       "      <td>0.0</td>\n",
       "      <td>0.0</td>\n",
       "      <td>...</td>\n",
       "      <td>0.000287</td>\n",
       "      <td>0</td>\n",
       "      <td>1</td>\n",
       "      <td>1</td>\n",
       "      <td>1</td>\n",
       "      <td>1</td>\n",
       "      <td>1.110654e+06</td>\n",
       "      <td>1.000000</td>\n",
       "      <td>1</td>\n",
       "      <td>-1.0</td>\n",
       "    </tr>\n",
       "  </tbody>\n",
       "</table>\n",
       "<p>5 rows × 740 columns</p>\n",
       "</div>"
      ],
      "text/plain": [
       "            APP_NAME_CONTRACT_TYPE  APP_CODE_GENDER_F  APP_CODE_GENDER_M  \\\n",
       "SK_ID_CURR                                                                 \n",
       "100002                           1                0.0                1.0   \n",
       "100003                           1                1.0                0.0   \n",
       "100004                           0                0.0                1.0   \n",
       "100006                           1                1.0                0.0   \n",
       "100007                           1                0.0                1.0   \n",
       "\n",
       "            APP_CODE_GENDER_XNA  APP_FLAG_OWN_CAR  APP_FLAG_OWN_REALTY  \\\n",
       "SK_ID_CURR                                                               \n",
       "100002                      0.0                 1                    1   \n",
       "100003                      0.0                 1                    0   \n",
       "100004                      0.0                 0                    1   \n",
       "100006                      0.0                 1                    1   \n",
       "100007                      0.0                 1                    1   \n",
       "\n",
       "            APP_NAME_TYPE_SUITE_Children  APP_NAME_TYPE_SUITE_Family  \\\n",
       "SK_ID_CURR                                                             \n",
       "100002                               0.0                         0.0   \n",
       "100003                               0.0                         1.0   \n",
       "100004                               0.0                         0.0   \n",
       "100006                               0.0                         0.0   \n",
       "100007                               0.0                         0.0   \n",
       "\n",
       "            APP_NAME_TYPE_SUITE_Groupofpeople  APP_NAME_TYPE_SUITE_Other_A  \\\n",
       "SK_ID_CURR                                                                   \n",
       "100002                                    0.0                          0.0   \n",
       "100003                                    0.0                          0.0   \n",
       "100004                                    0.0                          0.0   \n",
       "100006                                    0.0                          0.0   \n",
       "100007                                    0.0                          0.0   \n",
       "\n",
       "            ...  normalized_days_to_instalment  \\\n",
       "SK_ID_CURR  ...                                  \n",
       "100002      ...                       0.001767   \n",
       "100003      ...                       0.000111   \n",
       "100004      ...                       0.001080   \n",
       "100006      ...                       0.000308   \n",
       "100007      ...                       0.000287   \n",
       "\n",
       "            normalized_days_to_instalment_binary_01  \\\n",
       "SK_ID_CURR                                            \n",
       "100002                                            0   \n",
       "100003                                            0   \n",
       "100004                                            0   \n",
       "100006                                            0   \n",
       "100007                                            0   \n",
       "\n",
       "            normalized_days_to_instalment_binary_03  \\\n",
       "SK_ID_CURR                                            \n",
       "100002                                            1   \n",
       "100003                                            1   \n",
       "100004                                            1   \n",
       "100006                                            1   \n",
       "100007                                            1   \n",
       "\n",
       "            normalized_days_to_instalment_binary_06  \\\n",
       "SK_ID_CURR                                            \n",
       "100002                                            1   \n",
       "100003                                            1   \n",
       "100004                                            1   \n",
       "100006                                            1   \n",
       "100007                                            1   \n",
       "\n",
       "            payment_relative_income_binary_03  \\\n",
       "SK_ID_CURR                                      \n",
       "100002                                      1   \n",
       "100003                                      1   \n",
       "100004                                      0   \n",
       "100006                                      1   \n",
       "100007                                      1   \n",
       "\n",
       "            payment_relative_income_binary_07  avg_credit_approval_per_month  \\\n",
       "SK_ID_CURR                                                                     \n",
       "100002                                      0                  -3.902934e+05   \n",
       "100003                                      1                  -3.850621e+06   \n",
       "100004                                      0                  -2.752104e+04   \n",
       "100006                                      1                   2.407439e+06   \n",
       "100007                                      1                   1.110654e+06   \n",
       "\n",
       "            Pct_good_p_in_credit_curr  document_complete  \\\n",
       "SK_ID_CURR                                                 \n",
       "100002                       0.863262                  1   \n",
       "100003                       0.873211                  1   \n",
       "100004                       1.000000                  0   \n",
       "100006                       0.949845                  1   \n",
       "100007                       1.000000                  1   \n",
       "\n",
       "            PERCENTAGE_MIN_MISSED_PAYMENTS  \n",
       "SK_ID_CURR                                  \n",
       "100002                                -1.0  \n",
       "100003                                -1.0  \n",
       "100004                                -1.0  \n",
       "100006                                 0.0  \n",
       "100007                                -1.0  \n",
       "\n",
       "[5 rows x 740 columns]"
      ]
     },
     "execution_count": 5,
     "metadata": {},
     "output_type": "execute_result"
    }
   ],
   "source": [
    "all_data.head()"
   ]
  },
  {
   "cell_type": "markdown",
   "id": "5dc5bad7e084ffcb",
   "metadata": {},
   "source": [
    "## Train Test Split"
   ]
  },
  {
   "cell_type": "code",
   "execution_count": 5,
   "id": "2384688a7d66397",
   "metadata": {
    "ExecuteTime": {
     "end_time": "2024-01-04T23:00:59.887921300Z",
     "start_time": "2024-01-04T23:00:57.293922800Z"
    }
   },
   "outputs": [],
   "source": [
    "train, test = train_test_split(all_data, test_size=0.2, random_state=42, stratify=all_data['TARGET'])"
   ]
  },
  {
   "cell_type": "markdown",
   "id": "134530d277a1debf",
   "metadata": {},
   "source": [
    "## LGBM for feature filtering"
   ]
  },
  {
   "cell_type": "code",
   "execution_count": null,
   "id": "initial_id",
   "metadata": {
    "ExecuteTime": {
     "end_time": "2024-01-04T23:05:25.723197800Z",
     "start_time": "2024-01-04T23:00:59.895923400Z"
    }
   },
   "outputs": [],
   "source": [
    "# load data using lightgbm\n",
    "train_data = lgb.Dataset(train.drop('TARGET', axis=1), label=train['TARGET'])\n",
    "# lightgbm parameters\n",
    "params = {\"force_col_wise\": True, 'random_state': 42, 'objective': 'binary', 'metric': 'auc',\n",
    "          'n_jobs': 1}  # njobs = 1 to avoid multithreading, keep reproducability\n",
    "# lightgbm training\n",
    "gbm = lgb.train(params, train_data, num_boost_round=1000)\n",
    "# plot feature importance\n",
    "lgb.plot_importance(gbm, figsize=(12, 150))"
   ]
  },
  {
   "cell_type": "markdown",
   "id": "b5b2e01876083f2b",
   "metadata": {},
   "source": [
    "## Select important features"
   ]
  },
  {
   "cell_type": "code",
   "execution_count": 6,
   "id": "5b7f6812496e6626",
   "metadata": {
    "ExecuteTime": {
     "end_time": "2024-01-04T23:05:27.085197800Z",
     "start_time": "2024-01-04T23:05:25.723197800Z"
    }
   },
   "outputs": [
    {
     "ename": "NameError",
     "evalue": "name 'gbm' is not defined",
     "output_type": "error",
     "traceback": [
      "\u001b[0;31m---------------------------------------------------------------------------\u001b[0m",
      "\u001b[0;31mNameError\u001b[0m                                 Traceback (most recent call last)",
      "Cell \u001b[0;32mIn[6], line 4\u001b[0m\n\u001b[1;32m      2\u001b[0m feature_importance \u001b[38;5;241m=\u001b[39m pd\u001b[38;5;241m.\u001b[39mDataFrame()\n\u001b[1;32m      3\u001b[0m feature_importance[\u001b[38;5;124m'\u001b[39m\u001b[38;5;124mFeature\u001b[39m\u001b[38;5;124m'\u001b[39m] \u001b[38;5;241m=\u001b[39m all_data\u001b[38;5;241m.\u001b[39mdrop(\u001b[38;5;124m'\u001b[39m\u001b[38;5;124mTARGET\u001b[39m\u001b[38;5;124m'\u001b[39m,axis\u001b[38;5;241m=\u001b[39m\u001b[38;5;241m1\u001b[39m)\u001b[38;5;241m.\u001b[39mcolumns\n\u001b[0;32m----> 4\u001b[0m feature_importance[\u001b[38;5;124m'\u001b[39m\u001b[38;5;124mImportance\u001b[39m\u001b[38;5;124m'\u001b[39m] \u001b[38;5;241m=\u001b[39m gbm\u001b[38;5;241m.\u001b[39mfeature_importance()\n",
      "\u001b[0;31mNameError\u001b[0m: name 'gbm' is not defined"
     ]
    }
   ],
   "source": [
    "# select the top 100 features\n",
    "feature_importance = pd.DataFrame()\n",
    "feature_importance['Feature'] = all_data.drop('TARGET',axis=1).columns\n",
    "feature_importance['Importance'] = gbm.feature_importance()"
   ]
  },
  {
   "cell_type": "code",
   "execution_count": null,
   "id": "1a7c56b64a0e5ce3",
   "metadata": {
    "ExecuteTime": {
     "end_time": "2024-01-04T23:05:29.412212500Z",
     "start_time": "2024-01-04T23:05:27.089197600Z"
    }
   },
   "outputs": [],
   "source": [
    "important_features = pd.DataFrame(gbm.feature_importance(), index=train.drop('TARGET',axis=1).columns, columns=['importance']).sort_values(\n",
    "    by='importance', ascending=False)\n",
    "# important_features['importance'] = important_features['importance'] / important_features['importance'].sum()\n",
    "important_features_name = important_features[important_features['importance'] >3].index.tolist()"
   ]
  },
  {
   "cell_type": "code",
   "execution_count": 10,
   "id": "30b8ad882082f2b",
   "metadata": {
    "ExecuteTime": {
     "end_time": "2024-01-04T23:05:29.433209300Z",
     "start_time": "2024-01-04T23:05:29.412212500Z"
    }
   },
   "outputs": [
    {
     "data": {
      "text/plain": [
       "537"
      ]
     },
     "execution_count": 10,
     "metadata": {},
     "output_type": "execute_result"
    }
   ],
   "source": [
    "len(important_features_name)"
   ]
  },
  {
   "cell_type": "code",
   "execution_count": 11,
   "id": "6ef3bd8e8c1b912f",
   "metadata": {
    "ExecuteTime": {
     "end_time": "2024-01-04T23:05:29.485210400Z",
     "start_time": "2024-01-04T23:05:29.429210Z"
    }
   },
   "outputs": [
    {
     "data": {
      "text/html": [
       "<div>\n",
       "<style scoped>\n",
       "    .dataframe tbody tr th:only-of-type {\n",
       "        vertical-align: middle;\n",
       "    }\n",
       "\n",
       "    .dataframe tbody tr th {\n",
       "        vertical-align: top;\n",
       "    }\n",
       "\n",
       "    .dataframe thead th {\n",
       "        text-align: right;\n",
       "    }\n",
       "</style>\n",
       "<table border=\"1\" class=\"dataframe\">\n",
       "  <thead>\n",
       "    <tr style=\"text-align: right;\">\n",
       "      <th></th>\n",
       "      <th>importance</th>\n",
       "    </tr>\n",
       "  </thead>\n",
       "  <tbody>\n",
       "    <tr>\n",
       "      <th>APP_EXT_SOURCE_2</th>\n",
       "      <td>473</td>\n",
       "    </tr>\n",
       "    <tr>\n",
       "      <th>APP_DAYS_BIRTH</th>\n",
       "      <td>432</td>\n",
       "    </tr>\n",
       "    <tr>\n",
       "      <th>APP_DAYS_ID_PUBLISH</th>\n",
       "      <td>390</td>\n",
       "    </tr>\n",
       "    <tr>\n",
       "      <th>APP_AMT_ANNUITY</th>\n",
       "      <td>364</td>\n",
       "    </tr>\n",
       "    <tr>\n",
       "      <th>APP_EXT_SOURCE_3</th>\n",
       "      <td>362</td>\n",
       "    </tr>\n",
       "    <tr>\n",
       "      <th>...</th>\n",
       "      <td>...</td>\n",
       "    </tr>\n",
       "    <tr>\n",
       "      <th>PREV_APP_RATE_INTEREST_PRIMARY_mean</th>\n",
       "      <td>0</td>\n",
       "    </tr>\n",
       "    <tr>\n",
       "      <th>APP_OCCUPATION_TYPE_Realtyagents</th>\n",
       "      <td>0</td>\n",
       "    </tr>\n",
       "    <tr>\n",
       "      <th>PREV_APP_RATE_DOWN_PAYMENT_NA_count</th>\n",
       "      <td>0</td>\n",
       "    </tr>\n",
       "    <tr>\n",
       "      <th>BUREAU_CREDIT_CURRENCY_currency4</th>\n",
       "      <td>0</td>\n",
       "    </tr>\n",
       "    <tr>\n",
       "      <th>APP_DAYS_EMPLOYED_NAN_FLAG</th>\n",
       "      <td>0</td>\n",
       "    </tr>\n",
       "  </tbody>\n",
       "</table>\n",
       "<p>739 rows × 1 columns</p>\n",
       "</div>"
      ],
      "text/plain": [
       "                                     importance\n",
       "APP_EXT_SOURCE_2                            473\n",
       "APP_DAYS_BIRTH                              432\n",
       "APP_DAYS_ID_PUBLISH                         390\n",
       "APP_AMT_ANNUITY                             364\n",
       "APP_EXT_SOURCE_3                            362\n",
       "...                                         ...\n",
       "PREV_APP_RATE_INTEREST_PRIMARY_mean           0\n",
       "APP_OCCUPATION_TYPE_Realtyagents              0\n",
       "PREV_APP_RATE_DOWN_PAYMENT_NA_count           0\n",
       "BUREAU_CREDIT_CURRENCY_currency4              0\n",
       "APP_DAYS_EMPLOYED_NAN_FLAG                    0\n",
       "\n",
       "[739 rows x 1 columns]"
      ]
     },
     "execution_count": 11,
     "metadata": {},
     "output_type": "execute_result"
    }
   ],
   "source": [
    "important_features"
   ]
  },
  {
   "cell_type": "markdown",
   "id": "c3e9caf457c03311",
   "metadata": {},
   "source": [
    "## Feature Engineering Passed Default LightGBM Features"
   ]
  },
  {
   "cell_type": "code",
   "execution_count": 12,
   "id": "e4023379a5075922",
   "metadata": {
    "ExecuteTime": {
     "end_time": "2024-01-04T23:05:29.489211Z",
     "start_time": "2024-01-04T23:05:29.446211100Z"
    }
   },
   "outputs": [
    {
     "data": {
      "text/html": [
       "<div>\n",
       "<style scoped>\n",
       "    .dataframe tbody tr th:only-of-type {\n",
       "        vertical-align: middle;\n",
       "    }\n",
       "\n",
       "    .dataframe tbody tr th {\n",
       "        vertical-align: top;\n",
       "    }\n",
       "\n",
       "    .dataframe thead th {\n",
       "        text-align: right;\n",
       "    }\n",
       "</style>\n",
       "<table border=\"1\" class=\"dataframe\">\n",
       "  <thead>\n",
       "    <tr style=\"text-align: right;\">\n",
       "      <th></th>\n",
       "      <th>importance</th>\n",
       "    </tr>\n",
       "  </thead>\n",
       "  <tbody>\n",
       "    <tr>\n",
       "      <th>max_overpayment_ratio_02</th>\n",
       "      <td>282</td>\n",
       "    </tr>\n",
       "    <tr>\n",
       "      <th>normalized_days_to_instalment</th>\n",
       "      <td>254</td>\n",
       "    </tr>\n",
       "    <tr>\n",
       "      <th>Pct_good_p_in_credit_curr</th>\n",
       "      <td>248</td>\n",
       "    </tr>\n",
       "    <tr>\n",
       "      <th>avg_credit_approval_per_month</th>\n",
       "      <td>217</td>\n",
       "    </tr>\n",
       "    <tr>\n",
       "      <th>DEBT_CREDIT_RATIO</th>\n",
       "      <td>204</td>\n",
       "    </tr>\n",
       "    <tr>\n",
       "      <th>overpayment_amount_ratio_01</th>\n",
       "      <td>160</td>\n",
       "    </tr>\n",
       "    <tr>\n",
       "      <th>PERCENTAGE_MIN_MISSED_PAYMENTS</th>\n",
       "      <td>48</td>\n",
       "    </tr>\n",
       "    <tr>\n",
       "      <th>document_complete</th>\n",
       "      <td>41</td>\n",
       "    </tr>\n",
       "    <tr>\n",
       "      <th>source_1_3_zero</th>\n",
       "      <td>40</td>\n",
       "    </tr>\n",
       "    <tr>\n",
       "      <th>normalized_max_overdue</th>\n",
       "      <td>18</td>\n",
       "    </tr>\n",
       "    <tr>\n",
       "      <th>unstable_id03</th>\n",
       "      <td>12</td>\n",
       "    </tr>\n",
       "    <tr>\n",
       "      <th>unstable_phone01</th>\n",
       "      <td>12</td>\n",
       "    </tr>\n",
       "    <tr>\n",
       "      <th>min_overpayment_amount_ratio_04</th>\n",
       "      <td>10</td>\n",
       "    </tr>\n",
       "    <tr>\n",
       "      <th>unstable_reg07</th>\n",
       "      <td>10</td>\n",
       "    </tr>\n",
       "    <tr>\n",
       "      <th>payment_relative_income_binary_07</th>\n",
       "      <td>7</td>\n",
       "    </tr>\n",
       "    <tr>\n",
       "      <th>unstable_reg05</th>\n",
       "      <td>6</td>\n",
       "    </tr>\n",
       "    <tr>\n",
       "      <th>payment_relative_income_binary_03</th>\n",
       "      <td>5</td>\n",
       "    </tr>\n",
       "    <tr>\n",
       "      <th>extra_credit</th>\n",
       "      <td>5</td>\n",
       "    </tr>\n",
       "    <tr>\n",
       "      <th>unstable_phone02</th>\n",
       "      <td>4</td>\n",
       "    </tr>\n",
       "  </tbody>\n",
       "</table>\n",
       "</div>"
      ],
      "text/plain": [
       "                                   importance\n",
       "max_overpayment_ratio_02                  282\n",
       "normalized_days_to_instalment             254\n",
       "Pct_good_p_in_credit_curr                 248\n",
       "avg_credit_approval_per_month             217\n",
       "DEBT_CREDIT_RATIO                         204\n",
       "overpayment_amount_ratio_01               160\n",
       "PERCENTAGE_MIN_MISSED_PAYMENTS             48\n",
       "document_complete                          41\n",
       "source_1_3_zero                            40\n",
       "normalized_max_overdue                     18\n",
       "unstable_id03                              12\n",
       "unstable_phone01                           12\n",
       "min_overpayment_amount_ratio_04            10\n",
       "unstable_reg07                             10\n",
       "payment_relative_income_binary_07           7\n",
       "unstable_reg05                              6\n",
       "payment_relative_income_binary_03           5\n",
       "extra_credit                                5\n",
       "unstable_phone02                            4"
      ]
     },
     "execution_count": 12,
     "metadata": {},
     "output_type": "execute_result"
    }
   ],
   "source": [
    "important_features.loc[np.intersect1d(important_features_name, feature_engineered.columns)].sort_values(by='importance', ascending=False)"
   ]
  },
  {
   "cell_type": "code",
   "execution_count": 13,
   "id": "d4d5ba252122f93b",
   "metadata": {
    "ExecuteTime": {
     "end_time": "2024-01-04T23:05:29.519209Z",
     "start_time": "2024-01-04T23:05:29.476211200Z"
    }
   },
   "outputs": [
    {
     "data": {
      "text/plain": [
       "29"
      ]
     },
     "execution_count": 13,
     "metadata": {},
     "output_type": "execute_result"
    }
   ],
   "source": [
    "len(feature_engineered.columns)"
   ]
  },
  {
   "cell_type": "code",
   "execution_count": 14,
   "id": "a3194f39df635756",
   "metadata": {
    "ExecuteTime": {
     "end_time": "2024-01-04T23:05:29.619210500Z",
     "start_time": "2024-01-04T23:05:29.492209200Z"
    }
   },
   "outputs": [],
   "source": [
    "# only use important feature to train and test"
   ]
  },
  {
   "cell_type": "markdown",
   "id": "f1fb9bbb651e254c",
   "metadata": {},
   "source": [
    "## Default LightGBM"
   ]
  },
  {
   "cell_type": "markdown",
   "id": "7a21b6dd750ae5c1",
   "metadata": {},
   "source": [
    "### Train"
   ]
  },
  {
   "cell_type": "code",
   "execution_count": 7,
   "id": "4c32e4a9cc931378",
   "metadata": {
    "ExecuteTime": {
     "end_time": "2024-01-04T23:05:30.949210300Z",
     "start_time": "2024-01-04T23:05:29.848209100Z"
    }
   },
   "outputs": [
    {
     "ename": "NameError",
     "evalue": "name 'important_features_name' is not defined",
     "output_type": "error",
     "traceback": [
      "\u001b[0;31m---------------------------------------------------------------------------\u001b[0m",
      "\u001b[0;31mNameError\u001b[0m                                 Traceback (most recent call last)",
      "Cell \u001b[0;32mIn[7], line 1\u001b[0m\n\u001b[0;32m----> 1\u001b[0m train_data \u001b[38;5;241m=\u001b[39m lgb\u001b[38;5;241m.\u001b[39mDataset(train[important_features_name], label\u001b[38;5;241m=\u001b[39mtrain[\u001b[38;5;124m'\u001b[39m\u001b[38;5;124mTARGET\u001b[39m\u001b[38;5;124m'\u001b[39m])\n",
      "\u001b[0;31mNameError\u001b[0m: name 'important_features_name' is not defined"
     ]
    }
   ],
   "source": [
    "train_data = lgb.Dataset(train[important_features_name], label=train['TARGET'])"
   ]
  },
  {
   "cell_type": "code",
   "execution_count": 16,
   "id": "9377d3a1ebcbb1d5",
   "metadata": {
    "ExecuteTime": {
     "end_time": "2024-01-04T23:09:14.309436600Z",
     "start_time": "2024-01-04T23:05:29.888210100Z"
    }
   },
   "outputs": [
    {
     "name": "stdout",
     "output_type": "stream",
     "text": [
      "[LightGBM] [Info] Number of positive: 19860, number of negative: 226148\n",
      "[LightGBM] [Info] Total Bins 71923\n",
      "[LightGBM] [Info] Number of data points in the train set: 246008, number of used features: 537\n",
      "[LightGBM] [Info] [binary:BoostFromScore]: pavg=0.080729 -> initscore=-2.432482\n",
      "[LightGBM] [Info] Start training from score -2.432482\n"
     ]
    }
   ],
   "source": [
    "gbm = lgb.train(params, train_data, num_boost_round=1000)"
   ]
  },
  {
   "cell_type": "code",
   "execution_count": 17,
   "id": "4a0e45dc58b554ba",
   "metadata": {
    "ExecuteTime": {
     "end_time": "2024-01-04T23:09:14.376435300Z",
     "start_time": "2024-01-04T23:09:14.334439200Z"
    }
   },
   "outputs": [],
   "source": [
    "def ROC_plot(model,model_name):\n",
    "    pred = model.predict(test[important_features_name])\n",
    "    fpr, tpr, thresholds = roc_curve(test['TARGET'], pred)\n",
    "    plt.plot(fpr, tpr, label=f'ROC curve (area = {roc_auc_score(test[\"TARGET\"], pred):.4f})')\n",
    "    plt.plot([0, 1], [0, 1], 'k--')\n",
    "    plt.xlabel('False Positive Rate')\n",
    "    plt.ylabel('True Positive Rate')\n",
    "    plt.title(f'OOS ROC Curve for {model_name}')\n",
    "    plt.legend(loc=\"lower right\")\n",
    "    plt.show()"
   ]
  },
  {
   "cell_type": "code",
   "execution_count": 18,
   "id": "ece5ae9ae941eb3a",
   "metadata": {
    "ExecuteTime": {
     "end_time": "2024-01-04T23:09:16.435854Z",
     "start_time": "2024-01-04T23:09:14.352437200Z"
    }
   },
   "outputs": [
    {
     "data": {
      "image/png": "[encoded data removed]",
      "text/plain": [
       "<Figure size 640x480 with 1 Axes>"
      ]
     },
     "metadata": {},
     "output_type": "display_data"
    }
   ],
   "source": [
    "ROC_plot(gbm,'Default LightGBM')"
   ]
  },
  {
   "cell_type": "markdown",
   "id": "4a4198ca56ced313",
   "metadata": {},
   "source": [
    "### Onboarding Profit"
   ]
  },
  {
   "cell_type": "code",
   "execution_count": 19,
   "id": "3c524c2ad017adc4",
   "metadata": {
    "ExecuteTime": {
     "end_time": "2024-01-04T23:09:19.926189900Z",
     "start_time": "2024-01-04T23:09:16.404826100Z"
    }
   },
   "outputs": [],
   "source": [
    "# from profit on boarding\n",
    "application_pnl = pd.read_csv('./src/application_character_with_pnl.csv', index_col=0)\n",
    "application = pd.read_csv('./src/application_train.csv', index_col=0)"
   ]
  },
  {
   "cell_type": "code",
   "execution_count": 20,
   "id": "c3ad1ff45d7976a1",
   "metadata": {
    "ExecuteTime": {
     "end_time": "2024-01-04T23:09:20.001213500Z",
     "start_time": "2024-01-04T23:09:19.936226200Z"
    }
   },
   "outputs": [
    {
     "data": {
      "text/html": [
       "<div>\n",
       "<style scoped>\n",
       "    .dataframe tbody tr th:only-of-type {\n",
       "        vertical-align: middle;\n",
       "    }\n",
       "\n",
       "    .dataframe tbody tr th {\n",
       "        vertical-align: top;\n",
       "    }\n",
       "\n",
       "    .dataframe thead th {\n",
       "        text-align: right;\n",
       "    }\n",
       "</style>\n",
       "<table border=\"1\" class=\"dataframe\">\n",
       "  <thead>\n",
       "    <tr style=\"text-align: right;\">\n",
       "      <th></th>\n",
       "      <th>AMT_ANNUITY</th>\n",
       "      <th>AMT_CREDIT</th>\n",
       "      <th>AMT_GOODS_PRICE</th>\n",
       "      <th>HOUR_APPR_PROCESS_START</th>\n",
       "      <th>NAME_TYPE_SUITE</th>\n",
       "      <th>WEEKDAY_APPR_PROCESS_START</th>\n",
       "      <th>Distance</th>\n",
       "      <th>TARGET</th>\n",
       "      <th>NAME_CONTRACT_TYPE</th>\n",
       "      <th>CLOSEST_PREVIOUS_LOAN_PROFIT</th>\n",
       "    </tr>\n",
       "    <tr>\n",
       "      <th>SK_ID_CURR</th>\n",
       "      <th></th>\n",
       "      <th></th>\n",
       "      <th></th>\n",
       "      <th></th>\n",
       "      <th></th>\n",
       "      <th></th>\n",
       "      <th></th>\n",
       "      <th></th>\n",
       "      <th></th>\n",
       "      <th></th>\n",
       "    </tr>\n",
       "  </thead>\n",
       "  <tbody>\n",
       "    <tr>\n",
       "      <th>100002</th>\n",
       "      <td>0.090032</td>\n",
       "      <td>0.090287</td>\n",
       "      <td>0.077441</td>\n",
       "      <td>0.434783</td>\n",
       "      <td>0.000000</td>\n",
       "      <td>0.333333</td>\n",
       "      <td>1.025875</td>\n",
       "      <td>1</td>\n",
       "      <td>Cash loans</td>\n",
       "      <td>-350635.125590</td>\n",
       "    </tr>\n",
       "    <tr>\n",
       "      <th>100003</th>\n",
       "      <td>0.132924</td>\n",
       "      <td>0.311736</td>\n",
       "      <td>0.271605</td>\n",
       "      <td>0.478261</td>\n",
       "      <td>0.166667</td>\n",
       "      <td>0.000000</td>\n",
       "      <td>1.361192</td>\n",
       "      <td>0</td>\n",
       "      <td>Cash loans</td>\n",
       "      <td>497317.952788</td>\n",
       "    </tr>\n",
       "    <tr>\n",
       "      <th>100004</th>\n",
       "      <td>0.020025</td>\n",
       "      <td>0.022472</td>\n",
       "      <td>0.023569</td>\n",
       "      <td>0.391304</td>\n",
       "      <td>0.000000</td>\n",
       "      <td>0.000000</td>\n",
       "      <td>0.457370</td>\n",
       "      <td>0</td>\n",
       "      <td>Revolving loans</td>\n",
       "      <td>200.763725</td>\n",
       "    </tr>\n",
       "    <tr>\n",
       "      <th>100006</th>\n",
       "      <td>0.109477</td>\n",
       "      <td>0.066837</td>\n",
       "      <td>0.063973</td>\n",
       "      <td>0.739130</td>\n",
       "      <td>0.000000</td>\n",
       "      <td>0.333333</td>\n",
       "      <td>1.312751</td>\n",
       "      <td>0</td>\n",
       "      <td>Cash loans</td>\n",
       "      <td>49068.551471</td>\n",
       "    </tr>\n",
       "    <tr>\n",
       "      <th>100007</th>\n",
       "      <td>0.078975</td>\n",
       "      <td>0.116854</td>\n",
       "      <td>0.117845</td>\n",
       "      <td>0.478261</td>\n",
       "      <td>0.000000</td>\n",
       "      <td>0.500000</td>\n",
       "      <td>1.291935</td>\n",
       "      <td>0</td>\n",
       "      <td>Cash loans</td>\n",
       "      <td>123169.954206</td>\n",
       "    </tr>\n",
       "  </tbody>\n",
       "</table>\n",
       "</div>"
      ],
      "text/plain": [
       "            AMT_ANNUITY  AMT_CREDIT  AMT_GOODS_PRICE  HOUR_APPR_PROCESS_START  \\\n",
       "SK_ID_CURR                                                                      \n",
       "100002         0.090032    0.090287         0.077441                 0.434783   \n",
       "100003         0.132924    0.311736         0.271605                 0.478261   \n",
       "100004         0.020025    0.022472         0.023569                 0.391304   \n",
       "100006         0.109477    0.066837         0.063973                 0.739130   \n",
       "100007         0.078975    0.116854         0.117845                 0.478261   \n",
       "\n",
       "            NAME_TYPE_SUITE  WEEKDAY_APPR_PROCESS_START  Distance  TARGET  \\\n",
       "SK_ID_CURR                                                                  \n",
       "100002             0.000000                    0.333333  1.025875       1   \n",
       "100003             0.166667                    0.000000  1.361192       0   \n",
       "100004             0.000000                    0.000000  0.457370       0   \n",
       "100006             0.000000                    0.333333  1.312751       0   \n",
       "100007             0.000000                    0.500000  1.291935       0   \n",
       "\n",
       "           NAME_CONTRACT_TYPE  CLOSEST_PREVIOUS_LOAN_PROFIT  \n",
       "SK_ID_CURR                                                   \n",
       "100002             Cash loans                -350635.125590  \n",
       "100003             Cash loans                 497317.952788  \n",
       "100004        Revolving loans                    200.763725  \n",
       "100006             Cash loans                  49068.551471  \n",
       "100007             Cash loans                 123169.954206  "
      ]
     },
     "execution_count": 20,
     "metadata": {},
     "output_type": "execute_result"
    }
   ],
   "source": [
    "application_pnl.head()"
   ]
  },
  {
   "cell_type": "code",
   "execution_count": 87,
   "id": "6526c3f236b7074a",
   "metadata": {
    "ExecuteTime": {
     "end_time": "2024-01-05T03:44:09.040986900Z",
     "start_time": "2024-01-05T03:44:08.617944200Z"
    }
   },
   "outputs": [],
   "source": [
    "def onboarding_profit_margin(pred,thresholds):\n",
    "    profit =application_pnl.loc[test.index]['CLOSEST_PREVIOUS_LOAN_PROFIT'].values\n",
    "    loan_amount = application.loc[test.index]['AMT_CREDIT'].values\n",
    "    return [((pred<th).astype(int)*profit).sum()/((pred<th).astype(int)*loan_amount).sum() for th in thresholds]\n",
    "def onboarding_loan_amount(pred,thresholds):\n",
    "    loan_amount = application.loc[test.index]['AMT_CREDIT'].values\n",
    "    return [((pred<th).astype(int)*loan_amount).sum() for th in thresholds]"
   ]
  },
  {
   "cell_type": "code",
   "execution_count": 89,
   "id": "4d2bc11ecdf793c1",
   "metadata": {
    "ExecuteTime": {
     "end_time": "2024-01-05T03:44:35.638400600Z",
     "start_time": "2024-01-05T03:44:35.200366600Z"
    }
   },
   "outputs": [],
   "source": [
    "def Onboarding_plot(model,model_name):\n",
    "    pred = model.predict(test[important_features_name])\n",
    "    _, _, thresholds = roc_curve(test['TARGET'], pred)\n",
    "    profit_margin = onboarding_profit_margin(pred, thresholds)\n",
    "    loan_amount = onboarding_loan_amount(pred, thresholds)\n",
    "    fig, ax1 = plt.subplots()\n",
    "    color = 'tab:red'\n",
    "    ax1.set_xlabel('Thresholds')\n",
    "    ax1.set_ylabel('Expected Profit Margin', color=color)\n",
    "    ax1.plot(thresholds, profit_margin, color=color)\n",
    "    ax1.tick_params(axis='y', labelcolor=color)\n",
    "    ax2 = ax1.twinx()  # instantiate a second axes that shares the same x-axis\n",
    "    color = 'tab:blue'\n",
    "    ax2.set_ylabel('Loan Amount', color=color)  # we already handled the x-label with ax1\n",
    "    ax2.plot(thresholds, loan_amount, color=color)\n",
    "    ax2.tick_params(axis='y', labelcolor=color)\n",
    "    fig.tight_layout()  # otherwise the right y-label is slightly clipped\n",
    "    plt.title(f'Onboarding Profit Margin and Loan Amount for {model_name}')\n",
    "    plt.xlim(0,1)\n",
    "    plt.show()"
   ]
  },
  {
   "cell_type": "code",
   "execution_count": 90,
   "id": "578261d294177af1",
   "metadata": {
    "ExecuteTime": {
     "end_time": "2024-01-05T03:44:45.150100900Z",
     "start_time": "2024-01-05T03:44:37.944917700Z"
    }
   },
   "outputs": [
    {
     "name": "stderr",
     "output_type": "stream",
     "text": [
      "C:\\Users\\kevin\\AppData\\Local\\Temp\\ipykernel_4460\\2982743558.py:5: RuntimeWarning: invalid value encountered in scalar divide\n",
      "  return [((pred<th).astype(int)*profit).sum()/((pred<th).astype(int)*loan_amount).sum() for th in thresholds]\n"
     ]
    },
    {
     "data": {
      "image/png": "[encoded data removed]",
      "text/plain": [
       "<Figure size 640x480 with 2 Axes>"
      ]
     },
     "metadata": {},
     "output_type": "display_data"
    }
   ],
   "source": [
    "Onboarding_plot(gbm,'Default LightGBM')"
   ]
  },
  {
   "cell_type": "markdown",
   "id": "c0974a122f6adea9",
   "metadata": {},
   "source": [
    "## Lightgbm Tuning"
   ]
  },
  {
   "cell_type": "code",
   "execution_count": 24,
   "id": "4c082b8211c1d3a1",
   "metadata": {
    "ExecuteTime": {
     "end_time": "2024-01-04T23:09:30.493707400Z",
     "start_time": "2024-01-04T23:09:27.232118800Z"
    }
   },
   "outputs": [
    {
     "name": "stderr",
     "output_type": "stream",
     "text": [
      "[I 2024-01-04 18:09:30,458] A new study created in memory with name: no-name-f087780e-136e-4967-84a3-87ab8b9821d4\n"
     ]
    }
   ],
   "source": [
    "from optuna.integration.lightgbm import LightGBMTunerCV as tunerCV\n",
    "\n",
    "params = {\"force_col_wise\": True, 'random_state': 42, 'objective': 'binary', 'metric': 'auc'}\n",
    "train_data = lgb.Dataset(train[important_features_name], label=train['TARGET'])\n",
    "gbm_tuned_cv = tunerCV(params, train_data, num_boost_round=1000, verbose_eval=100, early_stopping_rounds=10,nfold=5,return_cvbooster=True,stratified=True,seed=42)"
   ]
  },
  {
   "cell_type": "code",
   "execution_count": 25,
   "id": "8cabac864fb010ad",
   "metadata": {
    "ExecuteTime": {
     "end_time": "2024-01-05T01:05:07.260852800Z",
     "start_time": "2024-01-04T23:09:30.484670700Z"
    }
   },
   "outputs": [
    {
     "name": "stderr",
     "output_type": "stream",
     "text": [
      "feature_fraction, val_score: -inf:   0%|          | 0/7 [00:00<?, ?it/s]"
     ]
    },
    {
     "name": "stdout",
     "output_type": "stream",
     "text": [
      "[LightGBM] [Info] Number of positive: 15888, number of negative: 180918\n",
      "[LightGBM] [Info] Total Bins 71923\n",
      "[LightGBM] [Info] Number of data points in the train set: 196806, number of used features: 537\n",
      "[LightGBM] [Info] Number of positive: 15888, number of negative: 180918\n",
      "[LightGBM] [Info] Total Bins 71923\n",
      "[LightGBM] [Info] Number of data points in the train set: 196806, number of used features: 537\n",
      "[LightGBM] [Info] Number of positive: 15888, number of negative: 180918\n",
      "[LightGBM] [Info] Total Bins 71923\n",
      "[LightGBM] [Info] Number of data points in the train set: 196806, number of used features: 537\n",
      "[LightGBM] [Info] Number of positive: 15888, number of negative: 180919\n",
      "[LightGBM] [Info] Total Bins 71923\n",
      "[LightGBM] [Info] Number of data points in the train set: 196807, number of used features: 537\n",
      "[LightGBM] [Info] Number of positive: 15888, number of negative: 180919\n",
      "[LightGBM] [Info] Total Bins 71923\n",
      "[LightGBM] [Info] Number of data points in the train set: 196807, number of used features: 537\n",
      "[LightGBM] [Info] [binary:BoostFromScore]: pavg=0.080729 -> initscore=-2.432480\n",
      "[LightGBM] [Info] Start training from score -2.432480\n",
      "[LightGBM] [Info] [binary:BoostFromScore]: pavg=0.080729 -> initscore=-2.432480\n",
      "[LightGBM] [Info] Start training from score -2.432480\n",
      "[LightGBM] [Info] [binary:BoostFromScore]: pavg=0.080729 -> initscore=-2.432480\n",
      "[LightGBM] [Info] Start training from score -2.432480\n",
      "[LightGBM] [Info] [binary:BoostFromScore]: pavg=0.080729 -> initscore=-2.432485\n",
      "[LightGBM] [Info] Start training from score -2.432485\n",
      "[LightGBM] [Info] [binary:BoostFromScore]: pavg=0.080729 -> initscore=-2.432485\n",
      "[LightGBM] [Info] Start training from score -2.432485\n",
      "Training until validation scores don't improve for 10 rounds\n",
      "[100]\tcv_agg's valid auc: 0.779437 + 0.00244906\n"
     ]
    },
    {
     "name": "stderr",
     "output_type": "stream",
     "text": [
      "feature_fraction, val_score: 0.780160:  14%|#4        | 1/7 [01:08<06:53, 68.92s/it][I 2024-01-04 18:10:39,431] Trial 0 finished with value: 0.780159582377651 and parameters: {'feature_fraction': 0.8999999999999999}. Best is trial 0 with value: 0.780159582377651.\n",
      "feature_fraction, val_score: 0.780160:  14%|#4        | 1/7 [01:08<06:53, 68.92s/it]"
     ]
    },
    {
     "name": "stdout",
     "output_type": "stream",
     "text": [
      "Early stopping, best iteration is:\n",
      "[115]\tcv_agg's valid auc: 0.78016 + 0.00247781\n",
      "[LightGBM] [Info] Number of positive: 15888, number of negative: 180918\n",
      "[LightGBM] [Info] Total Bins 71923\n",
      "[LightGBM] [Info] Number of data points in the train set: 196806, number of used features: 537\n",
      "[LightGBM] [Info] Number of positive: 15888, number of negative: 180918\n",
      "[LightGBM] [Info] Total Bins 71923\n",
      "[LightGBM] [Info] Number of data points in the train set: 196806, number of used features: 537\n",
      "[LightGBM] [Info] Number of positive: 15888, number of negative: 180918\n",
      "[LightGBM] [Info] Total Bins 71923\n",
      "[LightGBM] [Info] Number of data points in the train set: 196806, number of used features: 537\n",
      "[LightGBM] [Info] Number of positive: 15888, number of negative: 180919\n",
      "[LightGBM] [Info] Total Bins 71923\n",
      "[LightGBM] [Info] Number of data points in the train set: 196807, number of used features: 537\n",
      "[LightGBM] [Info] Number of positive: 15888, number of negative: 180919\n",
      "[LightGBM] [Info] Total Bins 71923\n",
      "[LightGBM] [Info] Number of data points in the train set: 196807, number of used features: 537\n",
      "[LightGBM] [Info] [binary:BoostFromScore]: pavg=0.080729 -> initscore=-2.432480\n",
      "[LightGBM] [Info] Start training from score -2.432480\n",
      "[LightGBM] [Info] [binary:BoostFromScore]: pavg=0.080729 -> initscore=-2.432480\n",
      "[LightGBM] [Info] Start training from score -2.432480\n",
      "[LightGBM] [Info] [binary:BoostFromScore]: pavg=0.080729 -> initscore=-2.432480\n",
      "[LightGBM] [Info] Start training from score -2.432480\n",
      "[LightGBM] [Info] [binary:BoostFromScore]: pavg=0.080729 -> initscore=-2.432485\n",
      "[LightGBM] [Info] Start training from score -2.432485\n",
      "[LightGBM] [Info] [binary:BoostFromScore]: pavg=0.080729 -> initscore=-2.432485\n",
      "[LightGBM] [Info] Start training from score -2.432485\n",
      "Training until validation scores don't improve for 10 rounds\n",
      "[100]\tcv_agg's valid auc: 0.779537 + 0.00318483\n",
      "Early stopping, best iteration is:\n",
      "[153]\tcv_agg's valid auc: 0.780283 + 0.0033247\n"
     ]
    },
    {
     "name": "stderr",
     "output_type": "stream",
     "text": [
      "feature_fraction, val_score: 0.780283:  29%|##8       | 2/7 [02:34<06:32, 78.56s/it][I 2024-01-04 18:12:04,717] Trial 1 finished with value: 0.7802832627949751 and parameters: {'feature_fraction': 1.0}. Best is trial 1 with value: 0.7802832627949751.\n",
      "feature_fraction, val_score: 0.780283:  29%|##8       | 2/7 [02:34<06:32, 78.56s/it]"
     ]
    },
    {
     "name": "stdout",
     "output_type": "stream",
     "text": [
      "[LightGBM] [Info] Number of positive: 15888, number of negative: 180918\n",
      "[LightGBM] [Info] Total Bins 71923\n",
      "[LightGBM] [Info] Number of data points in the train set: 196806, number of used features: 537\n",
      "[LightGBM] [Info] Number of positive: 15888, number of negative: 180918\n",
      "[LightGBM] [Info] Total Bins 71923\n",
      "[LightGBM] [Info] Number of data points in the train set: 196806, number of used features: 537\n",
      "[LightGBM] [Info] Number of positive: 15888, number of negative: 180918\n",
      "[LightGBM] [Info] Total Bins 71923\n",
      "[LightGBM] [Info] Number of data points in the train set: 196806, number of used features: 537\n",
      "[LightGBM] [Info] Number of positive: 15888, number of negative: 180919\n",
      "[LightGBM] [Info] Total Bins 71923\n",
      "[LightGBM] [Info] Number of data points in the train set: 196807, number of used features: 537\n",
      "[LightGBM] [Info] Number of positive: 15888, number of negative: 180919\n",
      "[LightGBM] [Info] Total Bins 71923\n",
      "[LightGBM] [Info] Number of data points in the train set: 196807, number of used features: 537\n",
      "[LightGBM] [Info] [binary:BoostFromScore]: pavg=0.080729 -> initscore=-2.432480\n",
      "[LightGBM] [Info] Start training from score -2.432480\n",
      "[LightGBM] [Info] [binary:BoostFromScore]: pavg=0.080729 -> initscore=-2.432480\n",
      "[LightGBM] [Info] Start training from score -2.432480\n",
      "[LightGBM] [Info] [binary:BoostFromScore]: pavg=0.080729 -> initscore=-2.432480\n",
      "[LightGBM] [Info] Start training from score -2.432480\n",
      "[LightGBM] [Info] [binary:BoostFromScore]: pavg=0.080729 -> initscore=-2.432485\n",
      "[LightGBM] [Info] Start training from score -2.432485\n",
      "[LightGBM] [Info] [binary:BoostFromScore]: pavg=0.080729 -> initscore=-2.432485\n",
      "[LightGBM] [Info] Start training from score -2.432485\n",
      "Training until validation scores don't improve for 10 rounds\n",
      "[100]\tcv_agg's valid auc: 0.779725 + 0.00214343\n"
     ]
    },
    {
     "name": "stderr",
     "output_type": "stream",
     "text": [
      "feature_fraction, val_score: 0.780503:  43%|####2     | 3/7 [03:38<04:48, 72.22s/it][I 2024-01-04 18:13:09,385] Trial 2 finished with value: 0.7805030230290336 and parameters: {'feature_fraction': 0.8}. Best is trial 2 with value: 0.7805030230290336.\n",
      "feature_fraction, val_score: 0.780503:  43%|####2     | 3/7 [03:38<04:48, 72.22s/it]"
     ]
    },
    {
     "name": "stdout",
     "output_type": "stream",
     "text": [
      "Early stopping, best iteration is:\n",
      "[126]\tcv_agg's valid auc: 0.780503 + 0.002212\n",
      "[LightGBM] [Info] Number of positive: 15888, number of negative: 180918\n",
      "[LightGBM] [Info] Total Bins 71923\n",
      "[LightGBM] [Info] Number of data points in the train set: 196806, number of used features: 537\n",
      "[LightGBM] [Info] Number of positive: 15888, number of negative: 180918\n",
      "[LightGBM] [Info] Total Bins 71923\n",
      "[LightGBM] [Info] Number of data points in the train set: 196806, number of used features: 537\n",
      "[LightGBM] [Info] Number of positive: 15888, number of negative: 180918\n",
      "[LightGBM] [Info] Total Bins 71923\n",
      "[LightGBM] [Info] Number of data points in the train set: 196806, number of used features: 537\n",
      "[LightGBM] [Info] Number of positive: 15888, number of negative: 180919\n",
      "[LightGBM] [Info] Total Bins 71923\n",
      "[LightGBM] [Info] Number of data points in the train set: 196807, number of used features: 537\n",
      "[LightGBM] [Info] Number of positive: 15888, number of negative: 180919\n",
      "[LightGBM] [Info] Total Bins 71923\n",
      "[LightGBM] [Info] Number of data points in the train set: 196807, number of used features: 537\n",
      "[LightGBM] [Info] [binary:BoostFromScore]: pavg=0.080729 -> initscore=-2.432480\n",
      "[LightGBM] [Info] Start training from score -2.432480\n",
      "[LightGBM] [Info] [binary:BoostFromScore]: pavg=0.080729 -> initscore=-2.432480\n",
      "[LightGBM] [Info] Start training from score -2.432480\n",
      "[LightGBM] [Info] [binary:BoostFromScore]: pavg=0.080729 -> initscore=-2.432480\n",
      "[LightGBM] [Info] Start training from score -2.432480\n",
      "[LightGBM] [Info] [binary:BoostFromScore]: pavg=0.080729 -> initscore=-2.432485\n",
      "[LightGBM] [Info] Start training from score -2.432485\n",
      "[LightGBM] [Info] [binary:BoostFromScore]: pavg=0.080729 -> initscore=-2.432485\n",
      "[LightGBM] [Info] Start training from score -2.432485\n",
      "Training until validation scores don't improve for 10 rounds\n",
      "[100]\tcv_agg's valid auc: 0.77969 + 0.00191635\n"
     ]
    },
    {
     "name": "stderr",
     "output_type": "stream",
     "text": [
      "feature_fraction, val_score: 0.780941:  43%|####2     | 3/7 [04:52<04:48, 72.22s/it]"
     ]
    },
    {
     "name": "stdout",
     "output_type": "stream",
     "text": [
      "Early stopping, best iteration is:\n",
      "[139]\tcv_agg's valid auc: 0.780941 + 0.00208127\n"
     ]
    },
    {
     "name": "stderr",
     "output_type": "stream",
     "text": [
      "feature_fraction, val_score: 0.780941:  57%|#####7    | 4/7 [04:52<03:38, 72.96s/it][I 2024-01-04 18:14:23,474] Trial 3 finished with value: 0.7809409832707477 and parameters: {'feature_fraction': 0.5}. Best is trial 3 with value: 0.7809409832707477.\n",
      "feature_fraction, val_score: 0.780941:  57%|#####7    | 4/7 [04:52<03:38, 72.96s/it]"
     ]
    },
    {
     "name": "stdout",
     "output_type": "stream",
     "text": [
      "[LightGBM] [Info] Number of positive: 15888, number of negative: 180918\n",
      "[LightGBM] [Info] Total Bins 71923\n",
      "[LightGBM] [Info] Number of data points in the train set: 196806, number of used features: 537\n",
      "[LightGBM] [Info] Number of positive: 15888, number of negative: 180918\n",
      "[LightGBM] [Info] Total Bins 71923\n",
      "[LightGBM] [Info] Number of data points in the train set: 196806, number of used features: 537\n",
      "[LightGBM] [Info] Number of positive: 15888, number of negative: 180918\n",
      "[LightGBM] [Info] Total Bins 71923\n",
      "[LightGBM] [Info] Number of data points in the train set: 196806, number of used features: 537\n",
      "[LightGBM] [Info] Number of positive: 15888, number of negative: 180919\n",
      "[LightGBM] [Info] Total Bins 71923\n",
      "[LightGBM] [Info] Number of data points in the train set: 196807, number of used features: 537\n",
      "[LightGBM] [Info] Number of positive: 15888, number of negative: 180919\n",
      "[LightGBM] [Info] Total Bins 71923\n",
      "[LightGBM] [Info] Number of data points in the train set: 196807, number of used features: 537\n",
      "[LightGBM] [Info] [binary:BoostFromScore]: pavg=0.080729 -> initscore=-2.432480\n",
      "[LightGBM] [Info] Start training from score -2.432480\n",
      "[LightGBM] [Info] [binary:BoostFromScore]: pavg=0.080729 -> initscore=-2.432480\n",
      "[LightGBM] [Info] Start training from score -2.432480\n",
      "[LightGBM] [Info] [binary:BoostFromScore]: pavg=0.080729 -> initscore=-2.432480\n",
      "[LightGBM] [Info] Start training from score -2.432480\n",
      "[LightGBM] [Info] [binary:BoostFromScore]: pavg=0.080729 -> initscore=-2.432485\n",
      "[LightGBM] [Info] Start training from score -2.432485\n",
      "[LightGBM] [Info] [binary:BoostFromScore]: pavg=0.080729 -> initscore=-2.432485\n",
      "[LightGBM] [Info] Start training from score -2.432485\n",
      "Training until validation scores don't improve for 10 rounds\n",
      "[100]\tcv_agg's valid auc: 0.77974 + 0.00205248\n",
      "Early stopping, best iteration is:\n",
      "[129]\tcv_agg's valid auc: 0.780947 + 0.00187214\n"
     ]
    },
    {
     "name": "stderr",
     "output_type": "stream",
     "text": [
      "feature_fraction, val_score: 0.780947:  71%|#######1  | 5/7 [05:56<02:18, 69.49s/it][I 2024-01-04 18:15:26,819] Trial 4 finished with value: 0.7809466638579429 and parameters: {'feature_fraction': 0.6}. Best is trial 4 with value: 0.7809466638579429.\n",
      "feature_fraction, val_score: 0.780947:  71%|#######1  | 5/7 [05:56<02:18, 69.49s/it]"
     ]
    },
    {
     "name": "stdout",
     "output_type": "stream",
     "text": [
      "[LightGBM] [Info] Number of positive: 15888, number of negative: 180918\n",
      "[LightGBM] [Info] Total Bins 71923\n",
      "[LightGBM] [Info] Number of data points in the train set: 196806, number of used features: 537\n",
      "[LightGBM] [Info] Number of positive: 15888, number of negative: 180918\n",
      "[LightGBM] [Info] Total Bins 71923\n",
      "[LightGBM] [Info] Number of data points in the train set: 196806, number of used features: 537\n",
      "[LightGBM] [Info] Number of positive: 15888, number of negative: 180918\n",
      "[LightGBM] [Info] Total Bins 71923\n",
      "[LightGBM] [Info] Number of data points in the train set: 196806, number of used features: 537\n",
      "[LightGBM] [Info] Number of positive: 15888, number of negative: 180919\n",
      "[LightGBM] [Info] Total Bins 71923\n",
      "[LightGBM] [Info] Number of data points in the train set: 196807, number of used features: 537\n",
      "[LightGBM] [Info] Number of positive: 15888, number of negative: 180919\n",
      "[LightGBM] [Info] Total Bins 71923\n",
      "[LightGBM] [Info] Number of data points in the train set: 196807, number of used features: 537\n",
      "[LightGBM] [Info] [binary:BoostFromScore]: pavg=0.080729 -> initscore=-2.432480\n",
      "[LightGBM] [Info] Start training from score -2.432480\n",
      "[LightGBM] [Info] [binary:BoostFromScore]: pavg=0.080729 -> initscore=-2.432480\n",
      "[LightGBM] [Info] Start training from score -2.432480\n",
      "[LightGBM] [Info] [binary:BoostFromScore]: pavg=0.080729 -> initscore=-2.432480\n",
      "[LightGBM] [Info] Start training from score -2.432480\n",
      "[LightGBM] [Info] [binary:BoostFromScore]: pavg=0.080729 -> initscore=-2.432485\n",
      "[LightGBM] [Info] Start training from score -2.432485\n",
      "[LightGBM] [Info] [binary:BoostFromScore]: pavg=0.080729 -> initscore=-2.432485\n",
      "[LightGBM] [Info] Start training from score -2.432485\n",
      "Training until validation scores don't improve for 10 rounds\n",
      "[100]\tcv_agg's valid auc: 0.779476 + 0.00274445\n"
     ]
    },
    {
     "name": "stderr",
     "output_type": "stream",
     "text": [
      "feature_fraction, val_score: 0.780947:  86%|########5 | 6/7 [07:00<01:07, 67.60s/it][I 2024-01-04 18:16:30,925] Trial 5 finished with value: 0.7807517168058267 and parameters: {'feature_fraction': 0.4}. Best is trial 4 with value: 0.7809466638579429.\n"
     ]
    },
    {
     "name": "stdout",
     "output_type": "stream",
     "text": [
      "Early stopping, best iteration is:\n",
      "[141]\tcv_agg's valid auc: 0.780752 + 0.00264345\n"
     ]
    },
    {
     "name": "stderr",
     "output_type": "stream",
     "text": [
      "feature_fraction, val_score: 0.780947:  86%|########5 | 6/7 [07:00<01:07, 67.60s/it]"
     ]
    },
    {
     "name": "stdout",
     "output_type": "stream",
     "text": [
      "[LightGBM] [Info] Number of positive: 15888, number of negative: 180918\n",
      "[LightGBM] [Info] Total Bins 71923\n",
      "[LightGBM] [Info] Number of data points in the train set: 196806, number of used features: 537\n",
      "[LightGBM] [Info] Number of positive: 15888, number of negative: 180918\n",
      "[LightGBM] [Info] Total Bins 71923\n",
      "[LightGBM] [Info] Number of data points in the train set: 196806, number of used features: 537\n",
      "[LightGBM] [Info] Number of positive: 15888, number of negative: 180918\n",
      "[LightGBM] [Info] Total Bins 71923\n",
      "[LightGBM] [Info] Number of data points in the train set: 196806, number of used features: 537\n",
      "[LightGBM] [Info] Number of positive: 15888, number of negative: 180919\n",
      "[LightGBM] [Info] Total Bins 71923\n",
      "[LightGBM] [Info] Number of data points in the train set: 196807, number of used features: 537\n",
      "[LightGBM] [Info] Number of positive: 15888, number of negative: 180919\n",
      "[LightGBM] [Info] Total Bins 71923\n",
      "[LightGBM] [Info] Number of data points in the train set: 196807, number of used features: 537\n",
      "[LightGBM] [Info] [binary:BoostFromScore]: pavg=0.080729 -> initscore=-2.432480\n",
      "[LightGBM] [Info] Start training from score -2.432480\n",
      "[LightGBM] [Info] [binary:BoostFromScore]: pavg=0.080729 -> initscore=-2.432480\n",
      "[LightGBM] [Info] Start training from score -2.432480\n",
      "[LightGBM] [Info] [binary:BoostFromScore]: pavg=0.080729 -> initscore=-2.432480\n",
      "[LightGBM] [Info] Start training from score -2.432480\n",
      "[LightGBM] [Info] [binary:BoostFromScore]: pavg=0.080729 -> initscore=-2.432485\n",
      "[LightGBM] [Info] Start training from score -2.432485\n",
      "[LightGBM] [Info] [binary:BoostFromScore]: pavg=0.080729 -> initscore=-2.432485\n",
      "[LightGBM] [Info] Start training from score -2.432485\n",
      "Training until validation scores don't improve for 10 rounds\n",
      "[100]\tcv_agg's valid auc: 0.77992 + 0.00229261\n"
     ]
    },
    {
     "name": "stderr",
     "output_type": "stream",
     "text": [
      "feature_fraction, val_score: 0.781018:  86%|########5 | 6/7 [08:07<01:07, 67.60s/it]"
     ]
    },
    {
     "name": "stdout",
     "output_type": "stream",
     "text": [
      "Early stopping, best iteration is:\n",
      "[151]\tcv_agg's valid auc: 0.781018 + 0.00254728\n"
     ]
    },
    {
     "name": "stderr",
     "output_type": "stream",
     "text": [
      "feature_fraction, val_score: 0.781018: 100%|##########| 7/7 [08:07<00:00, 67.33s/it][I 2024-01-04 18:17:37,521] Trial 6 finished with value: 0.7810179426799706 and parameters: {'feature_fraction': 0.7}. Best is trial 6 with value: 0.7810179426799706.\n",
      "feature_fraction, val_score: 0.781018: 100%|##########| 7/7 [08:07<00:00, 69.58s/it]\n",
      "num_leaves, val_score: 0.781018:   0%|          | 0/20 [00:00<?, ?it/s]"
     ]
    },
    {
     "name": "stdout",
     "output_type": "stream",
     "text": [
      "[LightGBM] [Info] Number of positive: 15888, number of negative: 180918\n",
      "[LightGBM] [Info] Total Bins 71923\n",
      "[LightGBM] [Info] Number of data points in the train set: 196806, number of used features: 537\n",
      "[LightGBM] [Info] Number of positive: 15888, number of negative: 180918\n",
      "[LightGBM] [Info] Total Bins 71923\n",
      "[LightGBM] [Info] Number of data points in the train set: 196806, number of used features: 537\n",
      "[LightGBM] [Info] Number of positive: 15888, number of negative: 180918\n",
      "[LightGBM] [Info] Total Bins 71923\n",
      "[LightGBM] [Info] Number of data points in the train set: 196806, number of used features: 537\n",
      "[LightGBM] [Info] Number of positive: 15888, number of negative: 180919\n",
      "[LightGBM] [Info] Total Bins 71923\n",
      "[LightGBM] [Info] Number of data points in the train set: 196807, number of used features: 537\n",
      "[LightGBM] [Info] Number of positive: 15888, number of negative: 180919\n",
      "[LightGBM] [Info] Total Bins 71923\n",
      "[LightGBM] [Info] Number of data points in the train set: 196807, number of used features: 537\n",
      "[LightGBM] [Info] [binary:BoostFromScore]: pavg=0.080729 -> initscore=-2.432480\n",
      "[LightGBM] [Info] Start training from score -2.432480\n",
      "[LightGBM] [Info] [binary:BoostFromScore]: pavg=0.080729 -> initscore=-2.432480\n",
      "[LightGBM] [Info] Start training from score -2.432480\n",
      "[LightGBM] [Info] [binary:BoostFromScore]: pavg=0.080729 -> initscore=-2.432480\n",
      "[LightGBM] [Info] Start training from score -2.432480\n",
      "[LightGBM] [Info] [binary:BoostFromScore]: pavg=0.080729 -> initscore=-2.432485\n",
      "[LightGBM] [Info] Start training from score -2.432485\n",
      "[LightGBM] [Info] [binary:BoostFromScore]: pavg=0.080729 -> initscore=-2.432485\n",
      "[LightGBM] [Info] Start training from score -2.432485\n",
      "Training until validation scores don't improve for 10 rounds\n"
     ]
    },
    {
     "name": "stderr",
     "output_type": "stream",
     "text": [
      "num_leaves, val_score: 0.781018:   5%|5         | 1/20 [01:39<31:25, 99.22s/it]"
     ]
    },
    {
     "name": "stdout",
     "output_type": "stream",
     "text": [
      "Early stopping, best iteration is:\n",
      "[89]\tcv_agg's valid auc: 0.774164 + 0.00161315\n"
     ]
    },
    {
     "name": "stderr",
     "output_type": "stream",
     "text": [
      "[I 2024-01-04 18:19:17,013] Trial 7 finished with value: 0.774163564934671 and parameters: {'num_leaves': 155}. Best is trial 7 with value: 0.774163564934671.\n",
      "num_leaves, val_score: 0.781018:   5%|5         | 1/20 [01:39<31:25, 99.22s/it]"
     ]
    },
    {
     "name": "stdout",
     "output_type": "stream",
     "text": [
      "[LightGBM] [Info] Number of positive: 15888, number of negative: 180918\n",
      "[LightGBM] [Info] Total Bins 71923\n",
      "[LightGBM] [Info] Number of data points in the train set: 196806, number of used features: 537\n",
      "[LightGBM] [Info] Number of positive: 15888, number of negative: 180918\n",
      "[LightGBM] [Info] Total Bins 71923\n",
      "[LightGBM] [Info] Number of data points in the train set: 196806, number of used features: 537\n",
      "[LightGBM] [Info] Number of positive: 15888, number of negative: 180918\n",
      "[LightGBM] [Info] Total Bins 71923\n",
      "[LightGBM] [Info] Number of data points in the train set: 196806, number of used features: 537\n",
      "[LightGBM] [Info] Number of positive: 15888, number of negative: 180919\n",
      "[LightGBM] [Info] Total Bins 71923\n",
      "[LightGBM] [Info] Number of data points in the train set: 196807, number of used features: 537\n",
      "[LightGBM] [Info] Number of positive: 15888, number of negative: 180919\n",
      "[LightGBM] [Info] Total Bins 71923\n",
      "[LightGBM] [Info] Number of data points in the train set: 196807, number of used features: 537\n",
      "[LightGBM] [Info] [binary:BoostFromScore]: pavg=0.080729 -> initscore=-2.432480\n",
      "[LightGBM] [Info] Start training from score -2.432480\n",
      "[LightGBM] [Info] [binary:BoostFromScore]: pavg=0.080729 -> initscore=-2.432480\n",
      "[LightGBM] [Info] Start training from score -2.432480\n",
      "[LightGBM] [Info] [binary:BoostFromScore]: pavg=0.080729 -> initscore=-2.432480\n",
      "[LightGBM] [Info] Start training from score -2.432480\n",
      "[LightGBM] [Info] [binary:BoostFromScore]: pavg=0.080729 -> initscore=-2.432485\n",
      "[LightGBM] [Info] Start training from score -2.432485\n",
      "[LightGBM] [Info] [binary:BoostFromScore]: pavg=0.080729 -> initscore=-2.432485\n",
      "[LightGBM] [Info] Start training from score -2.432485\n",
      "Training until validation scores don't improve for 10 rounds\n"
     ]
    },
    {
     "name": "stderr",
     "output_type": "stream",
     "text": [
      "num_leaves, val_score: 0.781018:  10%|#         | 2/20 [03:08<28:04, 93.57s/it]"
     ]
    },
    {
     "name": "stdout",
     "output_type": "stream",
     "text": [
      "Early stopping, best iteration is:\n",
      "[85]\tcv_agg's valid auc: 0.773815 + 0.00137423\n"
     ]
    },
    {
     "name": "stderr",
     "output_type": "stream",
     "text": [
      "[I 2024-01-04 18:20:46,639] Trial 8 finished with value: 0.773815498123632 and parameters: {'num_leaves': 158}. Best is trial 7 with value: 0.774163564934671.\n",
      "num_leaves, val_score: 0.781018:  10%|#         | 2/20 [03:09<28:04, 93.57s/it]"
     ]
    },
    {
     "name": "stdout",
     "output_type": "stream",
     "text": [
      "[LightGBM] [Info] Number of positive: 15888, number of negative: 180918\n",
      "[LightGBM] [Info] Total Bins 71923\n",
      "[LightGBM] [Info] Number of data points in the train set: 196806, number of used features: 537\n",
      "[LightGBM] [Info] Number of positive: 15888, number of negative: 180918\n",
      "[LightGBM] [Info] Total Bins 71923\n",
      "[LightGBM] [Info] Number of data points in the train set: 196806, number of used features: 537\n",
      "[LightGBM] [Info] Number of positive: 15888, number of negative: 180918\n",
      "[LightGBM] [Info] Total Bins 71923\n",
      "[LightGBM] [Info] Number of data points in the train set: 196806, number of used features: 537\n",
      "[LightGBM] [Info] Number of positive: 15888, number of negative: 180919\n",
      "[LightGBM] [Info] Total Bins 71923\n",
      "[LightGBM] [Info] Number of data points in the train set: 196807, number of used features: 537\n",
      "[LightGBM] [Info] Number of positive: 15888, number of negative: 180919\n",
      "[LightGBM] [Info] Total Bins 71923\n",
      "[LightGBM] [Info] Number of data points in the train set: 196807, number of used features: 537\n",
      "[LightGBM] [Info] [binary:BoostFromScore]: pavg=0.080729 -> initscore=-2.432480\n",
      "[LightGBM] [Info] Start training from score -2.432480\n",
      "[LightGBM] [Info] [binary:BoostFromScore]: pavg=0.080729 -> initscore=-2.432480\n",
      "[LightGBM] [Info] Start training from score -2.432480\n",
      "[LightGBM] [Info] [binary:BoostFromScore]: pavg=0.080729 -> initscore=-2.432480\n",
      "[LightGBM] [Info] Start training from score -2.432480\n",
      "[LightGBM] [Info] [binary:BoostFromScore]: pavg=0.080729 -> initscore=-2.432485\n",
      "[LightGBM] [Info] Start training from score -2.432485\n",
      "[LightGBM] [Info] [binary:BoostFromScore]: pavg=0.080729 -> initscore=-2.432485\n",
      "[LightGBM] [Info] Start training from score -2.432485\n",
      "Training until validation scores don't improve for 10 rounds\n",
      "[100]\tcv_agg's valid auc: 0.773101 + 0.00168509\n"
     ]
    },
    {
     "name": "stderr",
     "output_type": "stream",
     "text": [
      "num_leaves, val_score: 0.781018:  15%|#5        | 3/20 [05:03<29:14, 103.19s/it]"
     ]
    },
    {
     "name": "stdout",
     "output_type": "stream",
     "text": [
      "Early stopping, best iteration is:\n",
      "[107]\tcv_agg's valid auc: 0.773369 + 0.00196515\n"
     ]
    },
    {
     "name": "stderr",
     "output_type": "stream",
     "text": [
      "[I 2024-01-04 18:22:41,287] Trial 9 finished with value: 0.7733688955469472 and parameters: {'num_leaves': 177}. Best is trial 7 with value: 0.774163564934671.\n",
      "num_leaves, val_score: 0.781018:  15%|#5        | 3/20 [05:03<29:14, 103.19s/it]"
     ]
    },
    {
     "name": "stdout",
     "output_type": "stream",
     "text": [
      "[LightGBM] [Info] Number of positive: 15888, number of negative: 180918\n",
      "[LightGBM] [Info] Total Bins 71923\n",
      "[LightGBM] [Info] Number of data points in the train set: 196806, number of used features: 537\n",
      "[LightGBM] [Info] Number of positive: 15888, number of negative: 180918\n",
      "[LightGBM] [Info] Total Bins 71923\n",
      "[LightGBM] [Info] Number of data points in the train set: 196806, number of used features: 537\n",
      "[LightGBM] [Info] Number of positive: 15888, number of negative: 180918\n",
      "[LightGBM] [Info] Total Bins 71923\n",
      "[LightGBM] [Info] Number of data points in the train set: 196806, number of used features: 537\n",
      "[LightGBM] [Info] Number of positive: 15888, number of negative: 180919\n",
      "[LightGBM] [Info] Total Bins 71923\n",
      "[LightGBM] [Info] Number of data points in the train set: 196807, number of used features: 537\n",
      "[LightGBM] [Info] Number of positive: 15888, number of negative: 180919\n",
      "[LightGBM] [Info] Total Bins 71923\n",
      "[LightGBM] [Info] Number of data points in the train set: 196807, number of used features: 537\n",
      "[LightGBM] [Info] [binary:BoostFromScore]: pavg=0.080729 -> initscore=-2.432480\n",
      "[LightGBM] [Info] Start training from score -2.432480\n",
      "[LightGBM] [Info] [binary:BoostFromScore]: pavg=0.080729 -> initscore=-2.432480\n",
      "[LightGBM] [Info] Start training from score -2.432480\n",
      "[LightGBM] [Info] [binary:BoostFromScore]: pavg=0.080729 -> initscore=-2.432480\n",
      "[LightGBM] [Info] Start training from score -2.432480\n",
      "[LightGBM] [Info] [binary:BoostFromScore]: pavg=0.080729 -> initscore=-2.432485\n",
      "[LightGBM] [Info] Start training from score -2.432485\n",
      "[LightGBM] [Info] [binary:BoostFromScore]: pavg=0.080729 -> initscore=-2.432485\n",
      "[LightGBM] [Info] Start training from score -2.432485\n",
      "Training until validation scores don't improve for 10 rounds\n",
      "[100]\tcv_agg's valid auc: 0.771324 + 0.00283029\n",
      "[200]\tcv_agg's valid auc: 0.779172 + 0.00263847\n",
      "[300]\tcv_agg's valid auc: 0.781321 + 0.00254057\n",
      "[400]\tcv_agg's valid auc: 0.78248 + 0.00276001\n"
     ]
    },
    {
     "name": "stderr",
     "output_type": "stream",
     "text": [
      "num_leaves, val_score: 0.783295:  20%|##        | 4/20 [06:49<27:49, 104.32s/it][I 2024-01-04 18:24:27,072] Trial 10 finished with value: 0.7832950731901436 and parameters: {'num_leaves': 6}. Best is trial 10 with value: 0.7832950731901436.\n",
      "num_leaves, val_score: 0.783295:  20%|##        | 4/20 [06:49<27:49, 104.32s/it]"
     ]
    },
    {
     "name": "stdout",
     "output_type": "stream",
     "text": [
      "[500]\tcv_agg's valid auc: 0.783244 + 0.00298336\n",
      "Early stopping, best iteration is:\n",
      "[491]\tcv_agg's valid auc: 0.783295 + 0.00293724\n",
      "[LightGBM] [Info] Number of positive: 15888, number of negative: 180918\n",
      "[LightGBM] [Info] Total Bins 71923\n",
      "[LightGBM] [Info] Number of data points in the train set: 196806, number of used features: 537\n",
      "[LightGBM] [Info] Number of positive: 15888, number of negative: 180918\n",
      "[LightGBM] [Info] Total Bins 71923\n",
      "[LightGBM] [Info] Number of data points in the train set: 196806, number of used features: 537\n",
      "[LightGBM] [Info] Number of positive: 15888, number of negative: 180918\n",
      "[LightGBM] [Info] Total Bins 71923\n",
      "[LightGBM] [Info] Number of data points in the train set: 196806, number of used features: 537\n",
      "[LightGBM] [Info] Number of positive: 15888, number of negative: 180919\n",
      "[LightGBM] [Info] Total Bins 71923\n",
      "[LightGBM] [Info] Number of data points in the train set: 196807, number of used features: 537\n",
      "[LightGBM] [Info] Number of positive: 15888, number of negative: 180919\n",
      "[LightGBM] [Info] Total Bins 71923\n",
      "[LightGBM] [Info] Number of data points in the train set: 196807, number of used features: 537\n",
      "[LightGBM] [Info] [binary:BoostFromScore]: pavg=0.080729 -> initscore=-2.432480\n",
      "[LightGBM] [Info] Start training from score -2.432480\n",
      "[LightGBM] [Info] [binary:BoostFromScore]: pavg=0.080729 -> initscore=-2.432480\n",
      "[LightGBM] [Info] Start training from score -2.432480\n",
      "[LightGBM] [Info] [binary:BoostFromScore]: pavg=0.080729 -> initscore=-2.432480\n",
      "[LightGBM] [Info] Start training from score -2.432480\n",
      "[LightGBM] [Info] [binary:BoostFromScore]: pavg=0.080729 -> initscore=-2.432485\n",
      "[LightGBM] [Info] Start training from score -2.432485\n",
      "[LightGBM] [Info] [binary:BoostFromScore]: pavg=0.080729 -> initscore=-2.432485\n",
      "[LightGBM] [Info] Start training from score -2.432485\n",
      "Training until validation scores don't improve for 10 rounds\n",
      "[100]\tcv_agg's valid auc: 0.777672 + 0.00235947\n",
      "[200]\tcv_agg's valid auc: 0.781694 + 0.00255728\n",
      "[300]\tcv_agg's valid auc: 0.782489 + 0.00259496\n"
     ]
    },
    {
     "name": "stderr",
     "output_type": "stream",
     "text": [
      "num_leaves, val_score: 0.783295:  25%|##5       | 5/20 [08:13<24:12, 96.80s/it] [I 2024-01-04 18:25:50,700] Trial 11 finished with value: 0.7825054476680824 and parameters: {'num_leaves': 12}. Best is trial 10 with value: 0.7832950731901436.\n",
      "num_leaves, val_score: 0.783295:  25%|##5       | 5/20 [08:13<24:12, 96.80s/it]"
     ]
    },
    {
     "name": "stdout",
     "output_type": "stream",
     "text": [
      "Early stopping, best iteration is:\n",
      "[299]\tcv_agg's valid auc: 0.782505 + 0.00259579\n",
      "[LightGBM] [Info] Number of positive: 15888, number of negative: 180918\n",
      "[LightGBM] [Info] Total Bins 71923\n",
      "[LightGBM] [Info] Number of data points in the train set: 196806, number of used features: 537\n",
      "[LightGBM] [Info] Number of positive: 15888, number of negative: 180918\n",
      "[LightGBM] [Info] Total Bins 71923\n",
      "[LightGBM] [Info] Number of data points in the train set: 196806, number of used features: 537\n",
      "[LightGBM] [Info] Number of positive: 15888, number of negative: 180918\n",
      "[LightGBM] [Info] Total Bins 71923\n",
      "[LightGBM] [Info] Number of data points in the train set: 196806, number of used features: 537\n",
      "[LightGBM] [Info] Number of positive: 15888, number of negative: 180919\n",
      "[LightGBM] [Info] Total Bins 71923\n",
      "[LightGBM] [Info] Number of data points in the train set: 196807, number of used features: 537\n",
      "[LightGBM] [Info] Number of positive: 15888, number of negative: 180919\n",
      "[LightGBM] [Info] Total Bins 71923\n",
      "[LightGBM] [Info] Number of data points in the train set: 196807, number of used features: 537\n",
      "[LightGBM] [Info] [binary:BoostFromScore]: pavg=0.080729 -> initscore=-2.432480\n",
      "[LightGBM] [Info] Start training from score -2.432480\n",
      "[LightGBM] [Info] [binary:BoostFromScore]: pavg=0.080729 -> initscore=-2.432480\n",
      "[LightGBM] [Info] Start training from score -2.432480\n",
      "[LightGBM] [Info] [binary:BoostFromScore]: pavg=0.080729 -> initscore=-2.432480\n",
      "[LightGBM] [Info] Start training from score -2.432480\n",
      "[LightGBM] [Info] [binary:BoostFromScore]: pavg=0.080729 -> initscore=-2.432485\n",
      "[LightGBM] [Info] Start training from score -2.432485\n",
      "[LightGBM] [Info] [binary:BoostFromScore]: pavg=0.080729 -> initscore=-2.432485\n",
      "[LightGBM] [Info] Start training from score -2.432485\n",
      "Training until validation scores don't improve for 10 rounds\n",
      "[100]\tcv_agg's valid auc: 0.780182 + 0.00264662\n"
     ]
    },
    {
     "name": "stderr",
     "output_type": "stream",
     "text": [
      "num_leaves, val_score: 0.783295:  30%|###       | 6/20 [09:20<20:16, 86.86s/it][I 2024-01-04 18:26:58,284] Trial 12 finished with value: 0.7815932916860299 and parameters: {'num_leaves': 27}. Best is trial 10 with value: 0.7832950731901436.\n",
      "num_leaves, val_score: 0.783295:  30%|###       | 6/20 [09:20<20:16, 86.86s/it]"
     ]
    },
    {
     "name": "stdout",
     "output_type": "stream",
     "text": [
      "Early stopping, best iteration is:\n",
      "[148]\tcv_agg's valid auc: 0.781593 + 0.00244804\n",
      "[LightGBM] [Info] Number of positive: 15888, number of negative: 180918\n",
      "[LightGBM] [Info] Total Bins 71923\n",
      "[LightGBM] [Info] Number of data points in the train set: 196806, number of used features: 537\n",
      "[LightGBM] [Info] Number of positive: 15888, number of negative: 180918\n",
      "[LightGBM] [Info] Total Bins 71923\n",
      "[LightGBM] [Info] Number of data points in the train set: 196806, number of used features: 537\n",
      "[LightGBM] [Info] Number of positive: 15888, number of negative: 180918\n",
      "[LightGBM] [Info] Total Bins 71923\n",
      "[LightGBM] [Info] Number of data points in the train set: 196806, number of used features: 537\n",
      "[LightGBM] [Info] Number of positive: 15888, number of negative: 180919\n",
      "[LightGBM] [Info] Total Bins 71923\n",
      "[LightGBM] [Info] Number of data points in the train set: 196807, number of used features: 537\n",
      "[LightGBM] [Info] Number of positive: 15888, number of negative: 180919\n",
      "[LightGBM] [Info] Total Bins 71923\n",
      "[LightGBM] [Info] Number of data points in the train set: 196807, number of used features: 537\n",
      "[LightGBM] [Info] [binary:BoostFromScore]: pavg=0.080729 -> initscore=-2.432480\n",
      "[LightGBM] [Info] Start training from score -2.432480\n",
      "[LightGBM] [Info] [binary:BoostFromScore]: pavg=0.080729 -> initscore=-2.432480\n",
      "[LightGBM] [Info] Start training from score -2.432480\n",
      "[LightGBM] [Info] [binary:BoostFromScore]: pavg=0.080729 -> initscore=-2.432480\n",
      "[LightGBM] [Info] Start training from score -2.432480\n",
      "[LightGBM] [Info] [binary:BoostFromScore]: pavg=0.080729 -> initscore=-2.432485\n",
      "[LightGBM] [Info] Start training from score -2.432485\n",
      "[LightGBM] [Info] [binary:BoostFromScore]: pavg=0.080729 -> initscore=-2.432485\n",
      "[LightGBM] [Info] Start training from score -2.432485\n",
      "Training until validation scores don't improve for 10 rounds\n",
      "[100]\tcv_agg's valid auc: 0.771324 + 0.00283029\n",
      "[200]\tcv_agg's valid auc: 0.779172 + 0.00263847\n",
      "[300]\tcv_agg's valid auc: 0.781321 + 0.00254057\n",
      "[400]\tcv_agg's valid auc: 0.78248 + 0.00276001\n"
     ]
    },
    {
     "name": "stderr",
     "output_type": "stream",
     "text": [
      "num_leaves, val_score: 0.783295:  35%|###5      | 7/20 [11:10<20:26, 94.34s/it]"
     ]
    },
    {
     "name": "stdout",
     "output_type": "stream",
     "text": [
      "[500]\tcv_agg's valid auc: 0.783244 + 0.00298336\n",
      "Early stopping, best iteration is:\n",
      "[491]\tcv_agg's valid auc: 0.783295 + 0.00293724\n"
     ]
    },
    {
     "name": "stderr",
     "output_type": "stream",
     "text": [
      "[I 2024-01-04 18:28:48,003] Trial 13 finished with value: 0.7832950731901436 and parameters: {'num_leaves': 6}. Best is trial 10 with value: 0.7832950731901436.\n",
      "num_leaves, val_score: 0.783295:  35%|###5      | 7/20 [11:10<20:26, 94.34s/it]"
     ]
    },
    {
     "name": "stdout",
     "output_type": "stream",
     "text": [
      "[LightGBM] [Info] Number of positive: 15888, number of negative: 180918\n",
      "[LightGBM] [Info] Total Bins 71923\n",
      "[LightGBM] [Info] Number of data points in the train set: 196806, number of used features: 537\n",
      "[LightGBM] [Info] Number of positive: 15888, number of negative: 180918\n",
      "[LightGBM] [Info] Total Bins 71923\n",
      "[LightGBM] [Info] Number of data points in the train set: 196806, number of used features: 537\n",
      "[LightGBM] [Info] Number of positive: 15888, number of negative: 180918\n",
      "[LightGBM] [Info] Total Bins 71923\n",
      "[LightGBM] [Info] Number of data points in the train set: 196806, number of used features: 537\n",
      "[LightGBM] [Info] Number of positive: 15888, number of negative: 180919\n",
      "[LightGBM] [Info] Total Bins 71923\n",
      "[LightGBM] [Info] Number of data points in the train set: 196807, number of used features: 537\n",
      "[LightGBM] [Info] Number of positive: 15888, number of negative: 180919\n",
      "[LightGBM] [Info] Total Bins 71923\n",
      "[LightGBM] [Info] Number of data points in the train set: 196807, number of used features: 537\n",
      "[LightGBM] [Info] [binary:BoostFromScore]: pavg=0.080729 -> initscore=-2.432480\n",
      "[LightGBM] [Info] Start training from score -2.432480\n",
      "[LightGBM] [Info] [binary:BoostFromScore]: pavg=0.080729 -> initscore=-2.432480\n",
      "[LightGBM] [Info] Start training from score -2.432480\n",
      "[LightGBM] [Info] [binary:BoostFromScore]: pavg=0.080729 -> initscore=-2.432480\n",
      "[LightGBM] [Info] Start training from score -2.432480\n",
      "[LightGBM] [Info] [binary:BoostFromScore]: pavg=0.080729 -> initscore=-2.432485\n",
      "[LightGBM] [Info] Start training from score -2.432485\n",
      "[LightGBM] [Info] [binary:BoostFromScore]: pavg=0.080729 -> initscore=-2.432485\n",
      "[LightGBM] [Info] Start training from score -2.432485\n",
      "Training until validation scores don't improve for 10 rounds\n",
      "[100]\tcv_agg's valid auc: 0.777622 + 0.00169461\n"
     ]
    },
    {
     "name": "stderr",
     "output_type": "stream",
     "text": [
      "num_leaves, val_score: 0.783295:  40%|####      | 8/20 [12:37<18:23, 91.99s/it]"
     ]
    },
    {
     "name": "stdout",
     "output_type": "stream",
     "text": [
      "Early stopping, best iteration is:\n",
      "[114]\tcv_agg's valid auc: 0.777926 + 0.00179022\n"
     ]
    },
    {
     "name": "stderr",
     "output_type": "stream",
     "text": [
      "[I 2024-01-04 18:30:14,992] Trial 14 finished with value: 0.7779258342888606 and parameters: {'num_leaves': 70}. Best is trial 10 with value: 0.7832950731901436.\n",
      "num_leaves, val_score: 0.783295:  40%|####      | 8/20 [12:37<18:23, 91.99s/it]"
     ]
    },
    {
     "name": "stdout",
     "output_type": "stream",
     "text": [
      "[LightGBM] [Info] Number of positive: 15888, number of negative: 180918\n",
      "[LightGBM] [Info] Total Bins 71923\n",
      "[LightGBM] [Info] Number of data points in the train set: 196806, number of used features: 537\n",
      "[LightGBM] [Info] Number of positive: 15888, number of negative: 180918\n",
      "[LightGBM] [Info] Total Bins 71923\n",
      "[LightGBM] [Info] Number of data points in the train set: 196806, number of used features: 537\n",
      "[LightGBM] [Info] Number of positive: 15888, number of negative: 180918\n",
      "[LightGBM] [Info] Total Bins 71923\n",
      "[LightGBM] [Info] Number of data points in the train set: 196806, number of used features: 537\n",
      "[LightGBM] [Info] Number of positive: 15888, number of negative: 180919\n",
      "[LightGBM] [Info] Total Bins 71923\n",
      "[LightGBM] [Info] Number of data points in the train set: 196807, number of used features: 537\n",
      "[LightGBM] [Info] Number of positive: 15888, number of negative: 180919\n",
      "[LightGBM] [Info] Total Bins 71923\n",
      "[LightGBM] [Info] Number of data points in the train set: 196807, number of used features: 537\n",
      "[LightGBM] [Info] [binary:BoostFromScore]: pavg=0.080729 -> initscore=-2.432480\n",
      "[LightGBM] [Info] Start training from score -2.432480\n",
      "[LightGBM] [Info] [binary:BoostFromScore]: pavg=0.080729 -> initscore=-2.432480\n",
      "[LightGBM] [Info] Start training from score -2.432480\n",
      "[LightGBM] [Info] [binary:BoostFromScore]: pavg=0.080729 -> initscore=-2.432480\n",
      "[LightGBM] [Info] Start training from score -2.432480\n",
      "[LightGBM] [Info] [binary:BoostFromScore]: pavg=0.080729 -> initscore=-2.432485\n",
      "[LightGBM] [Info] Start training from score -2.432485\n",
      "[LightGBM] [Info] [binary:BoostFromScore]: pavg=0.080729 -> initscore=-2.432485\n",
      "[LightGBM] [Info] Start training from score -2.432485\n",
      "Training until validation scores don't improve for 10 rounds\n",
      "[100]\tcv_agg's valid auc: 0.777137 + 0.0014385\n"
     ]
    },
    {
     "name": "stderr",
     "output_type": "stream",
     "text": [
      "num_leaves, val_score: 0.783295:  45%|####5     | 9/20 [13:52<15:53, 86.65s/it]"
     ]
    },
    {
     "name": "stdout",
     "output_type": "stream",
     "text": [
      "Early stopping, best iteration is:\n",
      "[91]\tcv_agg's valid auc: 0.777281 + 0.00158174\n"
     ]
    },
    {
     "name": "stderr",
     "output_type": "stream",
     "text": [
      "[I 2024-01-04 18:31:29,926] Trial 15 finished with value: 0.7772813188308374 and parameters: {'num_leaves': 81}. Best is trial 10 with value: 0.7832950731901436.\n",
      "num_leaves, val_score: 0.783295:  45%|####5     | 9/20 [13:52<15:53, 86.65s/it]"
     ]
    },
    {
     "name": "stdout",
     "output_type": "stream",
     "text": [
      "[LightGBM] [Info] Number of positive: 15888, number of negative: 180918\n",
      "[LightGBM] [Info] Total Bins 71923\n",
      "[LightGBM] [Info] Number of data points in the train set: 196806, number of used features: 537\n",
      "[LightGBM] [Info] Number of positive: 15888, number of negative: 180918\n",
      "[LightGBM] [Info] Total Bins 71923\n",
      "[LightGBM] [Info] Number of data points in the train set: 196806, number of used features: 537\n",
      "[LightGBM] [Info] Number of positive: 15888, number of negative: 180918\n",
      "[LightGBM] [Info] Total Bins 71923\n",
      "[LightGBM] [Info] Number of data points in the train set: 196806, number of used features: 537\n",
      "[LightGBM] [Info] Number of positive: 15888, number of negative: 180919\n",
      "[LightGBM] [Info] Total Bins 71923\n",
      "[LightGBM] [Info] Number of data points in the train set: 196807, number of used features: 537\n",
      "[LightGBM] [Info] Number of positive: 15888, number of negative: 180919\n",
      "[LightGBM] [Info] Total Bins 71923\n",
      "[LightGBM] [Info] Number of data points in the train set: 196807, number of used features: 537\n",
      "[LightGBM] [Info] [binary:BoostFromScore]: pavg=0.080729 -> initscore=-2.432480\n",
      "[LightGBM] [Info] Start training from score -2.432480\n",
      "[LightGBM] [Info] [binary:BoostFromScore]: pavg=0.080729 -> initscore=-2.432480\n",
      "[LightGBM] [Info] Start training from score -2.432480\n",
      "[LightGBM] [Info] [binary:BoostFromScore]: pavg=0.080729 -> initscore=-2.432480\n",
      "[LightGBM] [Info] Start training from score -2.432480\n",
      "[LightGBM] [Info] [binary:BoostFromScore]: pavg=0.080729 -> initscore=-2.432485\n",
      "[LightGBM] [Info] Start training from score -2.432485\n",
      "[LightGBM] [Info] [binary:BoostFromScore]: pavg=0.080729 -> initscore=-2.432485\n",
      "[LightGBM] [Info] Start training from score -2.432485\n",
      "Training until validation scores don't improve for 10 rounds\n",
      "[100]\tcv_agg's valid auc: 0.771085 + 0.00294467\n"
     ]
    },
    {
     "name": "stderr",
     "output_type": "stream",
     "text": [
      "num_leaves, val_score: 0.783295:  50%|#####     | 10/20 [16:15<17:22, 104.30s/it]"
     ]
    },
    {
     "name": "stdout",
     "output_type": "stream",
     "text": [
      "Early stopping, best iteration is:\n",
      "[105]\tcv_agg's valid auc: 0.77139 + 0.00297723\n"
     ]
    },
    {
     "name": "stderr",
     "output_type": "stream",
     "text": [
      "[I 2024-01-04 18:33:53,853] Trial 16 finished with value: 0.7713898240243761 and parameters: {'num_leaves': 227}. Best is trial 10 with value: 0.7832950731901436.\n",
      "num_leaves, val_score: 0.783295:  50%|#####     | 10/20 [16:16<17:22, 104.30s/it]"
     ]
    },
    {
     "name": "stdout",
     "output_type": "stream",
     "text": [
      "[LightGBM] [Info] Number of positive: 15888, number of negative: 180918\n",
      "[LightGBM] [Info] Total Bins 71923\n",
      "[LightGBM] [Info] Number of data points in the train set: 196806, number of used features: 537\n",
      "[LightGBM] [Info] Number of positive: 15888, number of negative: 180918\n",
      "[LightGBM] [Info] Total Bins 71923\n",
      "[LightGBM] [Info] Number of data points in the train set: 196806, number of used features: 537\n",
      "[LightGBM] [Info] Number of positive: 15888, number of negative: 180918\n",
      "[LightGBM] [Info] Total Bins 71923\n",
      "[LightGBM] [Info] Number of data points in the train set: 196806, number of used features: 537\n",
      "[LightGBM] [Info] Number of positive: 15888, number of negative: 180919\n",
      "[LightGBM] [Info] Total Bins 71923\n",
      "[LightGBM] [Info] Number of data points in the train set: 196807, number of used features: 537\n",
      "[LightGBM] [Info] Number of positive: 15888, number of negative: 180919\n",
      "[LightGBM] [Info] Total Bins 71923\n",
      "[LightGBM] [Info] Number of data points in the train set: 196807, number of used features: 537\n",
      "[LightGBM] [Info] [binary:BoostFromScore]: pavg=0.080729 -> initscore=-2.432480\n",
      "[LightGBM] [Info] Start training from score -2.432480\n",
      "[LightGBM] [Info] [binary:BoostFromScore]: pavg=0.080729 -> initscore=-2.432480\n",
      "[LightGBM] [Info] Start training from score -2.432480\n",
      "[LightGBM] [Info] [binary:BoostFromScore]: pavg=0.080729 -> initscore=-2.432480\n",
      "[LightGBM] [Info] Start training from score -2.432480\n",
      "[LightGBM] [Info] [binary:BoostFromScore]: pavg=0.080729 -> initscore=-2.432485\n",
      "[LightGBM] [Info] Start training from score -2.432485\n",
      "[LightGBM] [Info] [binary:BoostFromScore]: pavg=0.080729 -> initscore=-2.432485\n",
      "[LightGBM] [Info] Start training from score -2.432485\n",
      "Training until validation scores don't improve for 10 rounds\n",
      "[100]\tcv_agg's valid auc: 0.77806 + 0.00212549\n"
     ]
    },
    {
     "name": "stderr",
     "output_type": "stream",
     "text": [
      "num_leaves, val_score: 0.783295:  55%|#####5    | 11/20 [17:43<14:52, 99.21s/it] "
     ]
    },
    {
     "name": "stdout",
     "output_type": "stream",
     "text": [
      "Early stopping, best iteration is:\n",
      "[106]\tcv_agg's valid auc: 0.778185 + 0.00204018\n"
     ]
    },
    {
     "name": "stderr",
     "output_type": "stream",
     "text": [
      "[I 2024-01-04 18:35:21,401] Trial 17 finished with value: 0.7781852710224632 and parameters: {'num_leaves': 74}. Best is trial 10 with value: 0.7832950731901436.\n",
      "num_leaves, val_score: 0.783295:  55%|#####5    | 11/20 [17:43<14:52, 99.21s/it]"
     ]
    },
    {
     "name": "stdout",
     "output_type": "stream",
     "text": [
      "[LightGBM] [Info] Number of positive: 15888, number of negative: 180918\n",
      "[LightGBM] [Info] Total Bins 71923\n",
      "[LightGBM] [Info] Number of data points in the train set: 196806, number of used features: 537\n",
      "[LightGBM] [Info] Number of positive: 15888, number of negative: 180918\n",
      "[LightGBM] [Info] Total Bins 71923\n",
      "[LightGBM] [Info] Number of data points in the train set: 196806, number of used features: 537\n",
      "[LightGBM] [Info] Number of positive: 15888, number of negative: 180918\n",
      "[LightGBM] [Info] Total Bins 71923\n",
      "[LightGBM] [Info] Number of data points in the train set: 196806, number of used features: 537\n",
      "[LightGBM] [Info] Number of positive: 15888, number of negative: 180919\n",
      "[LightGBM] [Info] Total Bins 71923\n",
      "[LightGBM] [Info] Number of data points in the train set: 196807, number of used features: 537\n",
      "[LightGBM] [Info] Number of positive: 15888, number of negative: 180919\n",
      "[LightGBM] [Info] Total Bins 71923\n",
      "[LightGBM] [Info] Number of data points in the train set: 196807, number of used features: 537\n",
      "[LightGBM] [Info] [binary:BoostFromScore]: pavg=0.080729 -> initscore=-2.432480\n",
      "[LightGBM] [Info] Start training from score -2.432480\n",
      "[LightGBM] [Info] [binary:BoostFromScore]: pavg=0.080729 -> initscore=-2.432480\n",
      "[LightGBM] [Info] Start training from score -2.432480\n",
      "[LightGBM] [Info] [binary:BoostFromScore]: pavg=0.080729 -> initscore=-2.432480\n",
      "[LightGBM] [Info] Start training from score -2.432480\n",
      "[LightGBM] [Info] [binary:BoostFromScore]: pavg=0.080729 -> initscore=-2.432485\n",
      "[LightGBM] [Info] Start training from score -2.432485\n",
      "[LightGBM] [Info] [binary:BoostFromScore]: pavg=0.080729 -> initscore=-2.432485\n",
      "[LightGBM] [Info] Start training from score -2.432485\n",
      "Training until validation scores don't improve for 10 rounds\n",
      "[100]\tcv_agg's valid auc: 0.757843 + 0.00295111\n",
      "[200]\tcv_agg's valid auc: 0.769229 + 0.00323272\n",
      "[300]\tcv_agg's valid auc: 0.774141 + 0.00305673\n",
      "[400]\tcv_agg's valid auc: 0.776863 + 0.00284518\n",
      "[500]\tcv_agg's valid auc: 0.778579 + 0.00275068\n",
      "[600]\tcv_agg's valid auc: 0.779758 + 0.00271506\n",
      "[700]\tcv_agg's valid auc: 0.780737 + 0.00261388\n",
      "[800]\tcv_agg's valid auc: 0.781698 + 0.00261865\n",
      "[900]\tcv_agg's valid auc: 0.782212 + 0.00250983\n"
     ]
    },
    {
     "name": "stderr",
     "output_type": "stream",
     "text": [
      "num_leaves, val_score: 0.783295:  60%|######    | 12/20 [20:56<17:02, 127.79s/it][I 2024-01-04 18:38:34,532] Trial 18 finished with value: 0.782778387307521 and parameters: {'num_leaves': 3}. Best is trial 10 with value: 0.7832950731901436.\n",
      "num_leaves, val_score: 0.783295:  60%|######    | 12/20 [20:56<17:02, 127.79s/it]"
     ]
    },
    {
     "name": "stdout",
     "output_type": "stream",
     "text": [
      "[1000]\tcv_agg's valid auc: 0.782778 + 0.00237133\n",
      "Did not meet early stopping. Best iteration is:\n",
      "[1000]\tcv_agg's valid auc: 0.782778 + 0.00237133\n",
      "[LightGBM] [Info] Number of positive: 15888, number of negative: 180918\n",
      "[LightGBM] [Info] Total Bins 71923\n",
      "[LightGBM] [Info] Number of data points in the train set: 196806, number of used features: 537\n",
      "[LightGBM] [Info] Number of positive: 15888, number of negative: 180918\n",
      "[LightGBM] [Info] Total Bins 71923\n",
      "[LightGBM] [Info] Number of data points in the train set: 196806, number of used features: 537\n",
      "[LightGBM] [Info] Number of positive: 15888, number of negative: 180918\n",
      "[LightGBM] [Info] Total Bins 71923\n",
      "[LightGBM] [Info] Number of data points in the train set: 196806, number of used features: 537\n",
      "[LightGBM] [Info] Number of positive: 15888, number of negative: 180919\n",
      "[LightGBM] [Info] Total Bins 71923\n",
      "[LightGBM] [Info] Number of data points in the train set: 196807, number of used features: 537\n",
      "[LightGBM] [Info] Number of positive: 15888, number of negative: 180919\n",
      "[LightGBM] [Info] Total Bins 71923\n",
      "[LightGBM] [Info] Number of data points in the train set: 196807, number of used features: 537\n",
      "[LightGBM] [Info] [binary:BoostFromScore]: pavg=0.080729 -> initscore=-2.432480\n",
      "[LightGBM] [Info] Start training from score -2.432480\n",
      "[LightGBM] [Info] [binary:BoostFromScore]: pavg=0.080729 -> initscore=-2.432480\n",
      "[LightGBM] [Info] Start training from score -2.432480\n",
      "[LightGBM] [Info] [binary:BoostFromScore]: pavg=0.080729 -> initscore=-2.432480\n",
      "[LightGBM] [Info] Start training from score -2.432480\n",
      "[LightGBM] [Info] [binary:BoostFromScore]: pavg=0.080729 -> initscore=-2.432485\n",
      "[LightGBM] [Info] Start training from score -2.432485\n",
      "[LightGBM] [Info] [binary:BoostFromScore]: pavg=0.080729 -> initscore=-2.432485\n",
      "[LightGBM] [Info] Start training from score -2.432485\n",
      "Training until validation scores don't improve for 10 rounds\n",
      "[100]\tcv_agg's valid auc: 0.778886 + 0.0022233\n"
     ]
    },
    {
     "name": "stderr",
     "output_type": "stream",
     "text": [
      "num_leaves, val_score: 0.783295:  65%|######5   | 13/20 [22:19<13:18, 114.11s/it]"
     ]
    },
    {
     "name": "stdout",
     "output_type": "stream",
     "text": [
      "Early stopping, best iteration is:\n",
      "[124]\tcv_agg's valid auc: 0.779598 + 0.00252673\n"
     ]
    },
    {
     "name": "stderr",
     "output_type": "stream",
     "text": [
      "[I 2024-01-04 18:39:57,186] Trial 19 finished with value: 0.7795975696993309 and parameters: {'num_leaves': 47}. Best is trial 10 with value: 0.7832950731901436.\n",
      "num_leaves, val_score: 0.783295:  65%|######5   | 13/20 [22:19<13:18, 114.11s/it]"
     ]
    },
    {
     "name": "stdout",
     "output_type": "stream",
     "text": [
      "[LightGBM] [Info] Number of positive: 15888, number of negative: 180918\n",
      "[LightGBM] [Info] Total Bins 71923\n",
      "[LightGBM] [Info] Number of data points in the train set: 196806, number of used features: 537\n",
      "[LightGBM] [Info] Number of positive: 15888, number of negative: 180918\n",
      "[LightGBM] [Info] Total Bins 71923\n",
      "[LightGBM] [Info] Number of data points in the train set: 196806, number of used features: 537\n",
      "[LightGBM] [Info] Number of positive: 15888, number of negative: 180918\n",
      "[LightGBM] [Info] Total Bins 71923\n",
      "[LightGBM] [Info] Number of data points in the train set: 196806, number of used features: 537\n",
      "[LightGBM] [Info] Number of positive: 15888, number of negative: 180919\n",
      "[LightGBM] [Info] Total Bins 71923\n",
      "[LightGBM] [Info] Number of data points in the train set: 196807, number of used features: 537\n",
      "[LightGBM] [Info] Number of positive: 15888, number of negative: 180919\n",
      "[LightGBM] [Info] Total Bins 71923\n",
      "[LightGBM] [Info] Number of data points in the train set: 196807, number of used features: 537\n",
      "[LightGBM] [Info] [binary:BoostFromScore]: pavg=0.080729 -> initscore=-2.432480\n",
      "[LightGBM] [Info] Start training from score -2.432480\n",
      "[LightGBM] [Info] [binary:BoostFromScore]: pavg=0.080729 -> initscore=-2.432480\n",
      "[LightGBM] [Info] Start training from score -2.432480\n",
      "[LightGBM] [Info] [binary:BoostFromScore]: pavg=0.080729 -> initscore=-2.432480\n",
      "[LightGBM] [Info] Start training from score -2.432480\n",
      "[LightGBM] [Info] [binary:BoostFromScore]: pavg=0.080729 -> initscore=-2.432485\n",
      "[LightGBM] [Info] Start training from score -2.432485\n",
      "[LightGBM] [Info] [binary:BoostFromScore]: pavg=0.080729 -> initscore=-2.432485\n",
      "[LightGBM] [Info] Start training from score -2.432485\n",
      "Training until validation scores don't improve for 10 rounds\n",
      "[100]\tcv_agg's valid auc: 0.775851 + 0.00199778\n"
     ]
    },
    {
     "name": "stderr",
     "output_type": "stream",
     "text": [
      "num_leaves, val_score: 0.783295:  70%|#######   | 14/20 [23:58<10:56, 109.41s/it]"
     ]
    },
    {
     "name": "stdout",
     "output_type": "stream",
     "text": [
      "Early stopping, best iteration is:\n",
      "[91]\tcv_agg's valid auc: 0.775992 + 0.00169784\n"
     ]
    },
    {
     "name": "stderr",
     "output_type": "stream",
     "text": [
      "[I 2024-01-04 18:41:35,779] Trial 20 finished with value: 0.7759917964125823 and parameters: {'num_leaves': 112}. Best is trial 10 with value: 0.7832950731901436.\n",
      "num_leaves, val_score: 0.783295:  70%|#######   | 14/20 [23:58<10:56, 109.41s/it]"
     ]
    },
    {
     "name": "stdout",
     "output_type": "stream",
     "text": [
      "[LightGBM] [Info] Number of positive: 15888, number of negative: 180918\n",
      "[LightGBM] [Info] Total Bins 71923\n",
      "[LightGBM] [Info] Number of data points in the train set: 196806, number of used features: 537\n",
      "[LightGBM] [Info] Number of positive: 15888, number of negative: 180918\n",
      "[LightGBM] [Info] Total Bins 71923\n",
      "[LightGBM] [Info] Number of data points in the train set: 196806, number of used features: 537\n",
      "[LightGBM] [Info] Number of positive: 15888, number of negative: 180918\n",
      "[LightGBM] [Info] Total Bins 71923\n",
      "[LightGBM] [Info] Number of data points in the train set: 196806, number of used features: 537\n",
      "[LightGBM] [Info] Number of positive: 15888, number of negative: 180919\n",
      "[LightGBM] [Info] Total Bins 71923\n",
      "[LightGBM] [Info] Number of data points in the train set: 196807, number of used features: 537\n",
      "[LightGBM] [Info] Number of positive: 15888, number of negative: 180919\n",
      "[LightGBM] [Info] Total Bins 71923\n",
      "[LightGBM] [Info] Number of data points in the train set: 196807, number of used features: 537\n",
      "[LightGBM] [Info] [binary:BoostFromScore]: pavg=0.080729 -> initscore=-2.432480\n",
      "[LightGBM] [Info] Start training from score -2.432480\n",
      "[LightGBM] [Info] [binary:BoostFromScore]: pavg=0.080729 -> initscore=-2.432480\n",
      "[LightGBM] [Info] Start training from score -2.432480\n",
      "[LightGBM] [Info] [binary:BoostFromScore]: pavg=0.080729 -> initscore=-2.432480\n",
      "[LightGBM] [Info] Start training from score -2.432480\n",
      "[LightGBM] [Info] [binary:BoostFromScore]: pavg=0.080729 -> initscore=-2.432485\n",
      "[LightGBM] [Info] Start training from score -2.432485\n",
      "[LightGBM] [Info] [binary:BoostFromScore]: pavg=0.080729 -> initscore=-2.432485\n",
      "[LightGBM] [Info] Start training from score -2.432485\n",
      "Training until validation scores don't improve for 10 rounds\n",
      "[100]\tcv_agg's valid auc: 0.741154 + 0.00342932\n",
      "[200]\tcv_agg's valid auc: 0.755593 + 0.00287618\n",
      "[300]\tcv_agg's valid auc: 0.762873 + 0.0029149\n",
      "[400]\tcv_agg's valid auc: 0.766977 + 0.00280902\n",
      "[500]\tcv_agg's valid auc: 0.769614 + 0.00280589\n",
      "[600]\tcv_agg's valid auc: 0.771582 + 0.00272941\n",
      "[700]\tcv_agg's valid auc: 0.773125 + 0.00267473\n",
      "[800]\tcv_agg's valid auc: 0.774318 + 0.00261498\n",
      "[900]\tcv_agg's valid auc: 0.775241 + 0.00262658\n"
     ]
    },
    {
     "name": "stderr",
     "output_type": "stream",
     "text": [
      "num_leaves, val_score: 0.783295:  75%|#######5  | 15/20 [26:44<10:33, 126.71s/it][I 2024-01-04 18:44:22,495] Trial 21 finished with value: 0.7760310776611885 and parameters: {'num_leaves': 2}. Best is trial 10 with value: 0.7832950731901436.\n",
      "num_leaves, val_score: 0.783295:  75%|#######5  | 15/20 [26:44<10:33, 126.71s/it]"
     ]
    },
    {
     "name": "stdout",
     "output_type": "stream",
     "text": [
      "[1000]\tcv_agg's valid auc: 0.776031 + 0.00253587\n",
      "Did not meet early stopping. Best iteration is:\n",
      "[1000]\tcv_agg's valid auc: 0.776031 + 0.00253587\n",
      "[LightGBM] [Info] Number of positive: 15888, number of negative: 180918\n",
      "[LightGBM] [Info] Total Bins 71923\n",
      "[LightGBM] [Info] Number of data points in the train set: 196806, number of used features: 537\n",
      "[LightGBM] [Info] Number of positive: 15888, number of negative: 180918\n",
      "[LightGBM] [Info] Total Bins 71923\n",
      "[LightGBM] [Info] Number of data points in the train set: 196806, number of used features: 537\n",
      "[LightGBM] [Info] Number of positive: 15888, number of negative: 180918\n",
      "[LightGBM] [Info] Total Bins 71923\n",
      "[LightGBM] [Info] Number of data points in the train set: 196806, number of used features: 537\n",
      "[LightGBM] [Info] Number of positive: 15888, number of negative: 180919\n",
      "[LightGBM] [Info] Total Bins 71923\n",
      "[LightGBM] [Info] Number of data points in the train set: 196807, number of used features: 537\n",
      "[LightGBM] [Info] Number of positive: 15888, number of negative: 180919\n",
      "[LightGBM] [Info] Total Bins 71923\n",
      "[LightGBM] [Info] Number of data points in the train set: 196807, number of used features: 537\n",
      "[LightGBM] [Info] [binary:BoostFromScore]: pavg=0.080729 -> initscore=-2.432480\n",
      "[LightGBM] [Info] Start training from score -2.432480\n",
      "[LightGBM] [Info] [binary:BoostFromScore]: pavg=0.080729 -> initscore=-2.432480\n",
      "[LightGBM] [Info] Start training from score -2.432480\n",
      "[LightGBM] [Info] [binary:BoostFromScore]: pavg=0.080729 -> initscore=-2.432480\n",
      "[LightGBM] [Info] Start training from score -2.432480\n",
      "[LightGBM] [Info] [binary:BoostFromScore]: pavg=0.080729 -> initscore=-2.432485\n",
      "[LightGBM] [Info] Start training from score -2.432485\n",
      "[LightGBM] [Info] [binary:BoostFromScore]: pavg=0.080729 -> initscore=-2.432485\n",
      "[LightGBM] [Info] Start training from score -2.432485\n",
      "Training until validation scores don't improve for 10 rounds\n",
      "[100]\tcv_agg's valid auc: 0.779749 + 0.00207689\n"
     ]
    },
    {
     "name": "stderr",
     "output_type": "stream",
     "text": [
      "num_leaves, val_score: 0.783295:  80%|########  | 16/20 [28:00<07:25, 111.36s/it]"
     ]
    },
    {
     "name": "stdout",
     "output_type": "stream",
     "text": [
      "Early stopping, best iteration is:\n",
      "[137]\tcv_agg's valid auc: 0.780527 + 0.00219273\n"
     ]
    },
    {
     "name": "stderr",
     "output_type": "stream",
     "text": [
      "[I 2024-01-04 18:45:38,244] Trial 22 finished with value: 0.7805268663553524 and parameters: {'num_leaves': 38}. Best is trial 10 with value: 0.7832950731901436.\n",
      "num_leaves, val_score: 0.783295:  80%|########  | 16/20 [28:00<07:25, 111.36s/it]"
     ]
    },
    {
     "name": "stdout",
     "output_type": "stream",
     "text": [
      "[LightGBM] [Info] Number of positive: 15888, number of negative: 180918\n",
      "[LightGBM] [Info] Total Bins 71923\n",
      "[LightGBM] [Info] Number of data points in the train set: 196806, number of used features: 537\n",
      "[LightGBM] [Info] Number of positive: 15888, number of negative: 180918\n",
      "[LightGBM] [Info] Total Bins 71923\n",
      "[LightGBM] [Info] Number of data points in the train set: 196806, number of used features: 537\n",
      "[LightGBM] [Info] Number of positive: 15888, number of negative: 180918\n",
      "[LightGBM] [Info] Total Bins 71923\n",
      "[LightGBM] [Info] Number of data points in the train set: 196806, number of used features: 537\n",
      "[LightGBM] [Info] Number of positive: 15888, number of negative: 180919\n",
      "[LightGBM] [Info] Total Bins 71923\n",
      "[LightGBM] [Info] Number of data points in the train set: 196807, number of used features: 537\n",
      "[LightGBM] [Info] Number of positive: 15888, number of negative: 180919\n",
      "[LightGBM] [Info] Total Bins 71923\n",
      "[LightGBM] [Info] Number of data points in the train set: 196807, number of used features: 537\n",
      "[LightGBM] [Info] [binary:BoostFromScore]: pavg=0.080729 -> initscore=-2.432480\n",
      "[LightGBM] [Info] Start training from score -2.432480\n",
      "[LightGBM] [Info] [binary:BoostFromScore]: pavg=0.080729 -> initscore=-2.432480\n",
      "[LightGBM] [Info] Start training from score -2.432480\n",
      "[LightGBM] [Info] [binary:BoostFromScore]: pavg=0.080729 -> initscore=-2.432480\n",
      "[LightGBM] [Info] Start training from score -2.432480\n",
      "[LightGBM] [Info] [binary:BoostFromScore]: pavg=0.080729 -> initscore=-2.432485\n",
      "[LightGBM] [Info] Start training from score -2.432485\n",
      "[LightGBM] [Info] [binary:BoostFromScore]: pavg=0.080729 -> initscore=-2.432485\n",
      "[LightGBM] [Info] Start training from score -2.432485\n",
      "Training until validation scores don't improve for 10 rounds\n",
      "[100]\tcv_agg's valid auc: 0.764549 + 0.00306343\n",
      "[200]\tcv_agg's valid auc: 0.774599 + 0.00262892\n",
      "[300]\tcv_agg's valid auc: 0.778268 + 0.00245739\n",
      "[400]\tcv_agg's valid auc: 0.780363 + 0.00231823\n",
      "[500]\tcv_agg's valid auc: 0.781473 + 0.0022714\n",
      "[600]\tcv_agg's valid auc: 0.782374 + 0.0022894\n"
     ]
    },
    {
     "name": "stderr",
     "output_type": "stream",
     "text": [
      "num_leaves, val_score: 0.783295:  85%|########5 | 17/20 [30:20<05:59, 119.92s/it][I 2024-01-04 18:47:58,051] Trial 23 finished with value: 0.7825031186987221 and parameters: {'num_leaves': 4}. Best is trial 10 with value: 0.7832950731901436.\n",
      "num_leaves, val_score: 0.783295:  85%|########5 | 17/20 [30:20<05:59, 119.92s/it]"
     ]
    },
    {
     "name": "stdout",
     "output_type": "stream",
     "text": [
      "Early stopping, best iteration is:\n",
      "[619]\tcv_agg's valid auc: 0.782503 + 0.0022454\n",
      "[LightGBM] [Info] Number of positive: 15888, number of negative: 180918\n",
      "[LightGBM] [Info] Total Bins 71923\n",
      "[LightGBM] [Info] Number of data points in the train set: 196806, number of used features: 537\n",
      "[LightGBM] [Info] Number of positive: 15888, number of negative: 180918\n",
      "[LightGBM] [Info] Total Bins 71923\n",
      "[LightGBM] [Info] Number of data points in the train set: 196806, number of used features: 537\n",
      "[LightGBM] [Info] Number of positive: 15888, number of negative: 180918\n",
      "[LightGBM] [Info] Total Bins 71923\n",
      "[LightGBM] [Info] Number of data points in the train set: 196806, number of used features: 537\n",
      "[LightGBM] [Info] Number of positive: 15888, number of negative: 180919\n",
      "[LightGBM] [Info] Total Bins 71923\n",
      "[LightGBM] [Info] Number of data points in the train set: 196807, number of used features: 537\n",
      "[LightGBM] [Info] Number of positive: 15888, number of negative: 180919\n",
      "[LightGBM] [Info] Total Bins 71923\n",
      "[LightGBM] [Info] Number of data points in the train set: 196807, number of used features: 537\n",
      "[LightGBM] [Info] [binary:BoostFromScore]: pavg=0.080729 -> initscore=-2.432480\n",
      "[LightGBM] [Info] Start training from score -2.432480\n",
      "[LightGBM] [Info] [binary:BoostFromScore]: pavg=0.080729 -> initscore=-2.432480\n",
      "[LightGBM] [Info] Start training from score -2.432480\n",
      "[LightGBM] [Info] [binary:BoostFromScore]: pavg=0.080729 -> initscore=-2.432480\n",
      "[LightGBM] [Info] Start training from score -2.432480\n",
      "[LightGBM] [Info] [binary:BoostFromScore]: pavg=0.080729 -> initscore=-2.432485\n",
      "[LightGBM] [Info] Start training from score -2.432485\n",
      "[LightGBM] [Info] [binary:BoostFromScore]: pavg=0.080729 -> initscore=-2.432485\n",
      "[LightGBM] [Info] Start training from score -2.432485\n",
      "Training until validation scores don't improve for 10 rounds\n",
      "[100]\tcv_agg's valid auc: 0.779414 + 0.0027566\n"
     ]
    },
    {
     "name": "stderr",
     "output_type": "stream",
     "text": [
      "num_leaves, val_score: 0.783295:  90%|######### | 18/20 [31:33<03:32, 106.01s/it]"
     ]
    },
    {
     "name": "stdout",
     "output_type": "stream",
     "text": [
      "Early stopping, best iteration is:\n",
      "[129]\tcv_agg's valid auc: 0.78015 + 0.00274883\n"
     ]
    },
    {
     "name": "stderr",
     "output_type": "stream",
     "text": [
      "[I 2024-01-04 18:49:11,723] Trial 24 finished with value: 0.7801503646337908 and parameters: {'num_leaves': 37}. Best is trial 10 with value: 0.7832950731901436.\n",
      "num_leaves, val_score: 0.783295:  90%|######### | 18/20 [31:34<03:32, 106.01s/it]"
     ]
    },
    {
     "name": "stdout",
     "output_type": "stream",
     "text": [
      "[LightGBM] [Info] Number of positive: 15888, number of negative: 180918\n",
      "[LightGBM] [Info] Total Bins 71923\n",
      "[LightGBM] [Info] Number of data points in the train set: 196806, number of used features: 537\n",
      "[LightGBM] [Info] Number of positive: 15888, number of negative: 180918\n",
      "[LightGBM] [Info] Total Bins 71923\n",
      "[LightGBM] [Info] Number of data points in the train set: 196806, number of used features: 537\n",
      "[LightGBM] [Info] Number of positive: 15888, number of negative: 180918\n",
      "[LightGBM] [Info] Total Bins 71923\n",
      "[LightGBM] [Info] Number of data points in the train set: 196806, number of used features: 537\n",
      "[LightGBM] [Info] Number of positive: 15888, number of negative: 180919\n",
      "[LightGBM] [Info] Total Bins 71923\n",
      "[LightGBM] [Info] Number of data points in the train set: 196807, number of used features: 537\n",
      "[LightGBM] [Info] Number of positive: 15888, number of negative: 180919\n",
      "[LightGBM] [Info] Total Bins 71923\n",
      "[LightGBM] [Info] Number of data points in the train set: 196807, number of used features: 537\n",
      "[LightGBM] [Info] [binary:BoostFromScore]: pavg=0.080729 -> initscore=-2.432480\n",
      "[LightGBM] [Info] Start training from score -2.432480\n",
      "[LightGBM] [Info] [binary:BoostFromScore]: pavg=0.080729 -> initscore=-2.432480\n",
      "[LightGBM] [Info] Start training from score -2.432480\n",
      "[LightGBM] [Info] [binary:BoostFromScore]: pavg=0.080729 -> initscore=-2.432480\n",
      "[LightGBM] [Info] Start training from score -2.432480\n",
      "[LightGBM] [Info] [binary:BoostFromScore]: pavg=0.080729 -> initscore=-2.432485\n",
      "[LightGBM] [Info] Start training from score -2.432485\n",
      "[LightGBM] [Info] [binary:BoostFromScore]: pavg=0.080729 -> initscore=-2.432485\n",
      "[LightGBM] [Info] Start training from score -2.432485\n",
      "Training until validation scores don't improve for 10 rounds\n",
      "[100]\tcv_agg's valid auc: 0.77665 + 0.00224078\n"
     ]
    },
    {
     "name": "stderr",
     "output_type": "stream",
     "text": [
      "num_leaves, val_score: 0.783295:  95%|#########5| 19/20 [33:11<01:43, 103.51s/it]"
     ]
    },
    {
     "name": "stdout",
     "output_type": "stream",
     "text": [
      "Early stopping, best iteration is:\n",
      "[104]\tcv_agg's valid auc: 0.776686 + 0.00231506\n"
     ]
    },
    {
     "name": "stderr",
     "output_type": "stream",
     "text": [
      "[I 2024-01-04 18:50:49,425] Trial 25 finished with value: 0.776685830604544 and parameters: {'num_leaves': 105}. Best is trial 10 with value: 0.7832950731901436.\n",
      "num_leaves, val_score: 0.783295:  95%|#########5| 19/20 [33:11<01:43, 103.51s/it]"
     ]
    },
    {
     "name": "stdout",
     "output_type": "stream",
     "text": [
      "[LightGBM] [Info] Number of positive: 15888, number of negative: 180918\n",
      "[LightGBM] [Info] Total Bins 71923\n",
      "[LightGBM] [Info] Number of data points in the train set: 196806, number of used features: 537\n",
      "[LightGBM] [Info] Number of positive: 15888, number of negative: 180918\n",
      "[LightGBM] [Info] Total Bins 71923\n",
      "[LightGBM] [Info] Number of data points in the train set: 196806, number of used features: 537\n",
      "[LightGBM] [Info] Number of positive: 15888, number of negative: 180918\n",
      "[LightGBM] [Info] Total Bins 71923\n",
      "[LightGBM] [Info] Number of data points in the train set: 196806, number of used features: 537\n",
      "[LightGBM] [Info] Number of positive: 15888, number of negative: 180919\n",
      "[LightGBM] [Info] Total Bins 71923\n",
      "[LightGBM] [Info] Number of data points in the train set: 196807, number of used features: 537\n",
      "[LightGBM] [Info] Number of positive: 15888, number of negative: 180919\n",
      "[LightGBM] [Info] Total Bins 71923\n",
      "[LightGBM] [Info] Number of data points in the train set: 196807, number of used features: 537\n",
      "[LightGBM] [Info] [binary:BoostFromScore]: pavg=0.080729 -> initscore=-2.432480\n",
      "[LightGBM] [Info] Start training from score -2.432480\n",
      "[LightGBM] [Info] [binary:BoostFromScore]: pavg=0.080729 -> initscore=-2.432480\n",
      "[LightGBM] [Info] Start training from score -2.432480\n",
      "[LightGBM] [Info] [binary:BoostFromScore]: pavg=0.080729 -> initscore=-2.432480\n",
      "[LightGBM] [Info] Start training from score -2.432480\n",
      "[LightGBM] [Info] [binary:BoostFromScore]: pavg=0.080729 -> initscore=-2.432485\n",
      "[LightGBM] [Info] Start training from score -2.432485\n",
      "[LightGBM] [Info] [binary:BoostFromScore]: pavg=0.080729 -> initscore=-2.432485\n",
      "[LightGBM] [Info] Start training from score -2.432485\n",
      "Training until validation scores don't improve for 10 rounds\n",
      "[100]\tcv_agg's valid auc: 0.778235 + 0.00199767\n"
     ]
    },
    {
     "name": "stderr",
     "output_type": "stream",
     "text": [
      "num_leaves, val_score: 0.783295: 100%|##########| 20/20 [34:37<00:00, 98.31s/it] "
     ]
    },
    {
     "name": "stdout",
     "output_type": "stream",
     "text": [
      "Early stopping, best iteration is:\n",
      "[120]\tcv_agg's valid auc: 0.778634 + 0.00234963\n"
     ]
    },
    {
     "name": "stderr",
     "output_type": "stream",
     "text": [
      "[I 2024-01-04 18:52:15,605] Trial 26 finished with value: 0.7786338549321637 and parameters: {'num_leaves': 53}. Best is trial 10 with value: 0.7832950731901436.\n",
      "num_leaves, val_score: 0.783295: 100%|##########| 20/20 [34:38<00:00, 103.90s/it]\n",
      "bagging, val_score: 0.783295:   0%|          | 0/10 [00:00<?, ?it/s]"
     ]
    },
    {
     "name": "stdout",
     "output_type": "stream",
     "text": [
      "[LightGBM] [Info] Number of positive: 15888, number of negative: 180918\n",
      "[LightGBM] [Info] Total Bins 71923\n",
      "[LightGBM] [Info] Number of data points in the train set: 196806, number of used features: 537\n",
      "[LightGBM] [Info] Number of positive: 15888, number of negative: 180918\n",
      "[LightGBM] [Info] Total Bins 71923\n",
      "[LightGBM] [Info] Number of data points in the train set: 196806, number of used features: 537\n",
      "[LightGBM] [Info] Number of positive: 15888, number of negative: 180918\n",
      "[LightGBM] [Info] Total Bins 71923\n",
      "[LightGBM] [Info] Number of data points in the train set: 196806, number of used features: 537\n",
      "[LightGBM] [Info] Number of positive: 15888, number of negative: 180919\n",
      "[LightGBM] [Info] Total Bins 71923\n",
      "[LightGBM] [Info] Number of data points in the train set: 196807, number of used features: 537\n",
      "[LightGBM] [Info] Number of positive: 15888, number of negative: 180919\n",
      "[LightGBM] [Info] Total Bins 71923\n",
      "[LightGBM] [Info] Number of data points in the train set: 196807, number of used features: 537\n",
      "[LightGBM] [Info] [binary:BoostFromScore]: pavg=0.080729 -> initscore=-2.432480\n",
      "[LightGBM] [Info] Start training from score -2.432480\n",
      "[LightGBM] [Info] [binary:BoostFromScore]: pavg=0.080729 -> initscore=-2.432480\n",
      "[LightGBM] [Info] Start training from score -2.432480\n",
      "[LightGBM] [Info] [binary:BoostFromScore]: pavg=0.080729 -> initscore=-2.432480\n",
      "[LightGBM] [Info] Start training from score -2.432480\n",
      "[LightGBM] [Info] [binary:BoostFromScore]: pavg=0.080729 -> initscore=-2.432485\n",
      "[LightGBM] [Info] Start training from score -2.432485\n",
      "[LightGBM] [Info] [binary:BoostFromScore]: pavg=0.080729 -> initscore=-2.432485\n",
      "[LightGBM] [Info] Start training from score -2.432485\n",
      "Training until validation scores don't improve for 10 rounds\n",
      "[100]\tcv_agg's valid auc: 0.770966 + 0.00301229\n",
      "[200]\tcv_agg's valid auc: 0.77897 + 0.00319207\n",
      "[300]\tcv_agg's valid auc: 0.781443 + 0.00302211\n"
     ]
    },
    {
     "name": "stderr",
     "output_type": "stream",
     "text": [
      "bagging, val_score: 0.783295:  10%|#         | 1/10 [01:39<14:58, 99.81s/it][I 2024-01-04 18:53:57,685] Trial 27 finished with value: 0.7824428941492835 and parameters: {'bagging_fraction': 0.8681118024519573, 'bagging_freq': 5}. Best is trial 27 with value: 0.7824428941492835.\n"
     ]
    },
    {
     "name": "stdout",
     "output_type": "stream",
     "text": [
      "Early stopping, best iteration is:\n",
      "[369]\tcv_agg's valid auc: 0.782443 + 0.00292854\n"
     ]
    },
    {
     "name": "stderr",
     "output_type": "stream",
     "text": [
      "bagging, val_score: 0.783295:  10%|#         | 1/10 [01:39<14:58, 99.81s/it]"
     ]
    },
    {
     "name": "stdout",
     "output_type": "stream",
     "text": [
      "[LightGBM] [Info] Number of positive: 15888, number of negative: 180918\n",
      "[LightGBM] [Info] Total Bins 71923\n",
      "[LightGBM] [Info] Number of data points in the train set: 196806, number of used features: 537\n",
      "[LightGBM] [Info] Number of positive: 15888, number of negative: 180918\n",
      "[LightGBM] [Info] Total Bins 71923\n",
      "[LightGBM] [Info] Number of data points in the train set: 196806, number of used features: 537\n",
      "[LightGBM] [Info] Number of positive: 15888, number of negative: 180918\n",
      "[LightGBM] [Info] Total Bins 71923\n",
      "[LightGBM] [Info] Number of data points in the train set: 196806, number of used features: 537\n",
      "[LightGBM] [Info] Number of positive: 15888, number of negative: 180919\n",
      "[LightGBM] [Info] Total Bins 71923\n",
      "[LightGBM] [Info] Number of data points in the train set: 196807, number of used features: 537\n",
      "[LightGBM] [Info] Number of positive: 15888, number of negative: 180919\n",
      "[LightGBM] [Info] Total Bins 71923\n",
      "[LightGBM] [Info] Number of data points in the train set: 196807, number of used features: 537\n",
      "[LightGBM] [Info] [binary:BoostFromScore]: pavg=0.080729 -> initscore=-2.432480\n",
      "[LightGBM] [Info] Start training from score -2.432480\n",
      "[LightGBM] [Info] [binary:BoostFromScore]: pavg=0.080729 -> initscore=-2.432480\n",
      "[LightGBM] [Info] Start training from score -2.432480\n",
      "[LightGBM] [Info] [binary:BoostFromScore]: pavg=0.080729 -> initscore=-2.432480\n",
      "[LightGBM] [Info] Start training from score -2.432480\n",
      "[LightGBM] [Info] [binary:BoostFromScore]: pavg=0.080729 -> initscore=-2.432485\n",
      "[LightGBM] [Info] Start training from score -2.432485\n",
      "[LightGBM] [Info] [binary:BoostFromScore]: pavg=0.080729 -> initscore=-2.432485\n",
      "[LightGBM] [Info] Start training from score -2.432485\n",
      "Training until validation scores don't improve for 10 rounds\n",
      "[100]\tcv_agg's valid auc: 0.771344 + 0.00304498\n",
      "[200]\tcv_agg's valid auc: 0.778295 + 0.00277532\n",
      "[300]\tcv_agg's valid auc: 0.780159 + 0.00277696\n"
     ]
    },
    {
     "name": "stderr",
     "output_type": "stream",
     "text": [
      "bagging, val_score: 0.783295:  20%|##        | 2/10 [02:37<10:02, 75.29s/it][I 2024-01-04 18:54:55,811] Trial 28 finished with value: 0.7805669661034439 and parameters: {'bagging_fraction': 0.4057712328182761, 'bagging_freq': 1}. Best is trial 27 with value: 0.7824428941492835.\n"
     ]
    },
    {
     "name": "stdout",
     "output_type": "stream",
     "text": [
      "Early stopping, best iteration is:\n",
      "[323]\tcv_agg's valid auc: 0.780567 + 0.00280045\n"
     ]
    },
    {
     "name": "stderr",
     "output_type": "stream",
     "text": [
      "bagging, val_score: 0.783295:  20%|##        | 2/10 [02:38<10:02, 75.29s/it]"
     ]
    },
    {
     "name": "stdout",
     "output_type": "stream",
     "text": [
      "[LightGBM] [Info] Number of positive: 15888, number of negative: 180918\n",
      "[LightGBM] [Info] Total Bins 71923\n",
      "[LightGBM] [Info] Number of data points in the train set: 196806, number of used features: 537\n",
      "[LightGBM] [Info] Number of positive: 15888, number of negative: 180918\n",
      "[LightGBM] [Info] Total Bins 71923\n",
      "[LightGBM] [Info] Number of data points in the train set: 196806, number of used features: 537\n",
      "[LightGBM] [Info] Number of positive: 15888, number of negative: 180918\n",
      "[LightGBM] [Info] Total Bins 71923\n",
      "[LightGBM] [Info] Number of data points in the train set: 196806, number of used features: 537\n",
      "[LightGBM] [Info] Number of positive: 15888, number of negative: 180919\n",
      "[LightGBM] [Info] Total Bins 71923\n",
      "[LightGBM] [Info] Number of data points in the train set: 196807, number of used features: 537\n",
      "[LightGBM] [Info] Number of positive: 15888, number of negative: 180919\n",
      "[LightGBM] [Info] Total Bins 71923\n",
      "[LightGBM] [Info] Number of data points in the train set: 196807, number of used features: 537\n",
      "[LightGBM] [Info] [binary:BoostFromScore]: pavg=0.080729 -> initscore=-2.432480\n",
      "[LightGBM] [Info] Start training from score -2.432480\n",
      "[LightGBM] [Info] [binary:BoostFromScore]: pavg=0.080729 -> initscore=-2.432480\n",
      "[LightGBM] [Info] Start training from score -2.432480\n",
      "[LightGBM] [Info] [binary:BoostFromScore]: pavg=0.080729 -> initscore=-2.432480\n",
      "[LightGBM] [Info] Start training from score -2.432480\n",
      "[LightGBM] [Info] [binary:BoostFromScore]: pavg=0.080729 -> initscore=-2.432485\n",
      "[LightGBM] [Info] Start training from score -2.432485\n",
      "[LightGBM] [Info] [binary:BoostFromScore]: pavg=0.080729 -> initscore=-2.432485\n",
      "[LightGBM] [Info] Start training from score -2.432485\n",
      "Training until validation scores don't improve for 10 rounds\n",
      "[100]\tcv_agg's valid auc: 0.771173 + 0.00289364\n",
      "[200]\tcv_agg's valid auc: 0.779001 + 0.00232016\n",
      "[300]\tcv_agg's valid auc: 0.781363 + 0.00270043\n"
     ]
    },
    {
     "name": "stderr",
     "output_type": "stream",
     "text": [
      "bagging, val_score: 0.783295:  30%|###       | 3/10 [04:08<09:34, 82.04s/it][I 2024-01-04 18:56:25,866] Trial 29 finished with value: 0.7823187017676793 and parameters: {'bagging_fraction': 0.9022528470738341, 'bagging_freq': 7}. Best is trial 27 with value: 0.7824428941492835.\n",
      "bagging, val_score: 0.783295:  30%|###       | 3/10 [04:08<09:34, 82.04s/it]"
     ]
    },
    {
     "name": "stdout",
     "output_type": "stream",
     "text": [
      "Early stopping, best iteration is:\n",
      "[355]\tcv_agg's valid auc: 0.782319 + 0.00263925\n",
      "[LightGBM] [Info] Number of positive: 15888, number of negative: 180918\n",
      "[LightGBM] [Info] Total Bins 71923\n",
      "[LightGBM] [Info] Number of data points in the train set: 196806, number of used features: 537\n",
      "[LightGBM] [Info] Number of positive: 15888, number of negative: 180918\n",
      "[LightGBM] [Info] Total Bins 71923\n",
      "[LightGBM] [Info] Number of data points in the train set: 196806, number of used features: 537\n",
      "[LightGBM] [Info] Number of positive: 15888, number of negative: 180918\n",
      "[LightGBM] [Info] Total Bins 71923\n",
      "[LightGBM] [Info] Number of data points in the train set: 196806, number of used features: 537\n",
      "[LightGBM] [Info] Number of positive: 15888, number of negative: 180919\n",
      "[LightGBM] [Info] Total Bins 71923\n",
      "[LightGBM] [Info] Number of data points in the train set: 196807, number of used features: 537\n",
      "[LightGBM] [Info] Number of positive: 15888, number of negative: 180919\n",
      "[LightGBM] [Info] Total Bins 71923\n",
      "[LightGBM] [Info] Number of data points in the train set: 196807, number of used features: 537\n",
      "[LightGBM] [Info] [binary:BoostFromScore]: pavg=0.080729 -> initscore=-2.432480\n",
      "[LightGBM] [Info] Start training from score -2.432480\n",
      "[LightGBM] [Info] [binary:BoostFromScore]: pavg=0.080729 -> initscore=-2.432480\n",
      "[LightGBM] [Info] Start training from score -2.432480\n",
      "[LightGBM] [Info] [binary:BoostFromScore]: pavg=0.080729 -> initscore=-2.432480\n",
      "[LightGBM] [Info] Start training from score -2.432480\n",
      "[LightGBM] [Info] [binary:BoostFromScore]: pavg=0.080729 -> initscore=-2.432485\n",
      "[LightGBM] [Info] Start training from score -2.432485\n",
      "[LightGBM] [Info] [binary:BoostFromScore]: pavg=0.080729 -> initscore=-2.432485\n",
      "[LightGBM] [Info] Start training from score -2.432485\n",
      "Training until validation scores don't improve for 10 rounds\n",
      "[100]\tcv_agg's valid auc: 0.771094 + 0.00233676\n",
      "[200]\tcv_agg's valid auc: 0.778726 + 0.00229611\n",
      "[300]\tcv_agg's valid auc: 0.780922 + 0.00252786\n"
     ]
    },
    {
     "name": "stderr",
     "output_type": "stream",
     "text": [
      "bagging, val_score: 0.783295:  40%|####      | 4/10 [05:11<07:28, 74.72s/it][I 2024-01-04 18:57:29,363] Trial 30 finished with value: 0.7815383398567441 and parameters: {'bagging_fraction': 0.5952479644116737, 'bagging_freq': 1}. Best is trial 27 with value: 0.7824428941492835.\n",
      "bagging, val_score: 0.783295:  40%|####      | 4/10 [05:11<07:28, 74.72s/it]"
     ]
    },
    {
     "name": "stdout",
     "output_type": "stream",
     "text": [
      "Early stopping, best iteration is:\n",
      "[333]\tcv_agg's valid auc: 0.781538 + 0.00244105\n",
      "[LightGBM] [Info] Number of positive: 15888, number of negative: 180918\n",
      "[LightGBM] [Info] Total Bins 71923\n",
      "[LightGBM] [Info] Number of data points in the train set: 196806, number of used features: 537\n",
      "[LightGBM] [Info] Number of positive: 15888, number of negative: 180918\n",
      "[LightGBM] [Info] Total Bins 71923\n",
      "[LightGBM] [Info] Number of data points in the train set: 196806, number of used features: 537\n",
      "[LightGBM] [Info] Number of positive: 15888, number of negative: 180918\n",
      "[LightGBM] [Info] Total Bins 71923\n",
      "[LightGBM] [Info] Number of data points in the train set: 196806, number of used features: 537\n",
      "[LightGBM] [Info] Number of positive: 15888, number of negative: 180919\n",
      "[LightGBM] [Info] Total Bins 71923\n",
      "[LightGBM] [Info] Number of data points in the train set: 196807, number of used features: 537\n",
      "[LightGBM] [Info] Number of positive: 15888, number of negative: 180919\n",
      "[LightGBM] [Info] Total Bins 71923\n",
      "[LightGBM] [Info] Number of data points in the train set: 196807, number of used features: 537\n",
      "[LightGBM] [Info] [binary:BoostFromScore]: pavg=0.080729 -> initscore=-2.432480\n",
      "[LightGBM] [Info] Start training from score -2.432480\n",
      "[LightGBM] [Info] [binary:BoostFromScore]: pavg=0.080729 -> initscore=-2.432480\n",
      "[LightGBM] [Info] Start training from score -2.432480\n",
      "[LightGBM] [Info] [binary:BoostFromScore]: pavg=0.080729 -> initscore=-2.432480\n",
      "[LightGBM] [Info] Start training from score -2.432480\n",
      "[LightGBM] [Info] [binary:BoostFromScore]: pavg=0.080729 -> initscore=-2.432485\n",
      "[LightGBM] [Info] Start training from score -2.432485\n",
      "[LightGBM] [Info] [binary:BoostFromScore]: pavg=0.080729 -> initscore=-2.432485\n",
      "[LightGBM] [Info] Start training from score -2.432485\n",
      "Training until validation scores don't improve for 10 rounds\n",
      "[100]\tcv_agg's valid auc: 0.771515 + 0.00228708\n",
      "[200]\tcv_agg's valid auc: 0.779031 + 0.00213828\n",
      "[300]\tcv_agg's valid auc: 0.78152 + 0.00205423\n"
     ]
    },
    {
     "name": "stderr",
     "output_type": "stream",
     "text": [
      "bagging, val_score: 0.783295:  50%|#####     | 5/10 [06:22<06:07, 73.41s/it][I 2024-01-04 18:58:40,454] Trial 31 finished with value: 0.7824031992345203 and parameters: {'bagging_fraction': 0.6945925426167259, 'bagging_freq': 4}. Best is trial 27 with value: 0.7824428941492835.\n",
      "bagging, val_score: 0.783295:  50%|#####     | 5/10 [06:22<06:07, 73.41s/it]"
     ]
    },
    {
     "name": "stdout",
     "output_type": "stream",
     "text": [
      "Early stopping, best iteration is:\n",
      "[362]\tcv_agg's valid auc: 0.782403 + 0.00216515\n",
      "[LightGBM] [Info] Number of positive: 15888, number of negative: 180918\n",
      "[LightGBM] [Info] Total Bins 71923\n",
      "[LightGBM] [Info] Number of data points in the train set: 196806, number of used features: 537\n",
      "[LightGBM] [Info] Number of positive: 15888, number of negative: 180918\n",
      "[LightGBM] [Info] Total Bins 71923\n",
      "[LightGBM] [Info] Number of data points in the train set: 196806, number of used features: 537\n",
      "[LightGBM] [Info] Number of positive: 15888, number of negative: 180918\n",
      "[LightGBM] [Info] Total Bins 71923\n",
      "[LightGBM] [Info] Number of data points in the train set: 196806, number of used features: 537\n",
      "[LightGBM] [Info] Number of positive: 15888, number of negative: 180919\n",
      "[LightGBM] [Info] Total Bins 71923\n",
      "[LightGBM] [Info] Number of data points in the train set: 196807, number of used features: 537\n",
      "[LightGBM] [Info] Number of positive: 15888, number of negative: 180919\n",
      "[LightGBM] [Info] Total Bins 71923\n",
      "[LightGBM] [Info] Number of data points in the train set: 196807, number of used features: 537\n",
      "[LightGBM] [Info] [binary:BoostFromScore]: pavg=0.080729 -> initscore=-2.432480\n",
      "[LightGBM] [Info] Start training from score -2.432480\n",
      "[LightGBM] [Info] [binary:BoostFromScore]: pavg=0.080729 -> initscore=-2.432480\n",
      "[LightGBM] [Info] Start training from score -2.432480\n",
      "[LightGBM] [Info] [binary:BoostFromScore]: pavg=0.080729 -> initscore=-2.432480\n",
      "[LightGBM] [Info] Start training from score -2.432480\n",
      "[LightGBM] [Info] [binary:BoostFromScore]: pavg=0.080729 -> initscore=-2.432485\n",
      "[LightGBM] [Info] Start training from score -2.432485\n",
      "[LightGBM] [Info] [binary:BoostFromScore]: pavg=0.080729 -> initscore=-2.432485\n",
      "[LightGBM] [Info] Start training from score -2.432485\n",
      "Training until validation scores don't improve for 10 rounds\n",
      "[100]\tcv_agg's valid auc: 0.771227 + 0.0028193\n",
      "[200]\tcv_agg's valid auc: 0.779209 + 0.00254504\n",
      "[300]\tcv_agg's valid auc: 0.78142 + 0.00265068\n",
      "[400]\tcv_agg's valid auc: 0.782712 + 0.00238085\n"
     ]
    },
    {
     "name": "stderr",
     "output_type": "stream",
     "text": [
      "bagging, val_score: 0.783295:  60%|######    | 6/10 [08:05<05:33, 83.46s/it][I 2024-01-04 19:00:23,411] Trial 32 finished with value: 0.7832042287054258 and parameters: {'bagging_fraction': 0.9325872453000201, 'bagging_freq': 3}. Best is trial 32 with value: 0.7832042287054258.\n",
      "bagging, val_score: 0.783295:  60%|######    | 6/10 [08:05<05:33, 83.46s/it]"
     ]
    },
    {
     "name": "stdout",
     "output_type": "stream",
     "text": [
      "Early stopping, best iteration is:\n",
      "[454]\tcv_agg's valid auc: 0.783204 + 0.00235239\n",
      "[LightGBM] [Info] Number of positive: 15888, number of negative: 180918\n",
      "[LightGBM] [Info] Total Bins 71923\n",
      "[LightGBM] [Info] Number of data points in the train set: 196806, number of used features: 537\n",
      "[LightGBM] [Info] Number of positive: 15888, number of negative: 180918\n",
      "[LightGBM] [Info] Total Bins 71923\n",
      "[LightGBM] [Info] Number of data points in the train set: 196806, number of used features: 537\n",
      "[LightGBM] [Info] Number of positive: 15888, number of negative: 180918\n",
      "[LightGBM] [Info] Total Bins 71923\n",
      "[LightGBM] [Info] Number of data points in the train set: 196806, number of used features: 537\n",
      "[LightGBM] [Info] Number of positive: 15888, number of negative: 180919\n",
      "[LightGBM] [Info] Total Bins 71923\n",
      "[LightGBM] [Info] Number of data points in the train set: 196807, number of used features: 537\n",
      "[LightGBM] [Info] Number of positive: 15888, number of negative: 180919\n",
      "[LightGBM] [Info] Total Bins 71923\n",
      "[LightGBM] [Info] Number of data points in the train set: 196807, number of used features: 537\n",
      "[LightGBM] [Info] [binary:BoostFromScore]: pavg=0.080729 -> initscore=-2.432480\n",
      "[LightGBM] [Info] Start training from score -2.432480\n",
      "[LightGBM] [Info] [binary:BoostFromScore]: pavg=0.080729 -> initscore=-2.432480\n",
      "[LightGBM] [Info] Start training from score -2.432480\n",
      "[LightGBM] [Info] [binary:BoostFromScore]: pavg=0.080729 -> initscore=-2.432480\n",
      "[LightGBM] [Info] Start training from score -2.432480\n",
      "[LightGBM] [Info] [binary:BoostFromScore]: pavg=0.080729 -> initscore=-2.432485\n",
      "[LightGBM] [Info] Start training from score -2.432485\n",
      "[LightGBM] [Info] [binary:BoostFromScore]: pavg=0.080729 -> initscore=-2.432485\n",
      "[LightGBM] [Info] Start training from score -2.432485\n",
      "Training until validation scores don't improve for 10 rounds\n",
      "[100]\tcv_agg's valid auc: 0.77119 + 0.00264549\n",
      "[200]\tcv_agg's valid auc: 0.77904 + 0.00218999\n",
      "[300]\tcv_agg's valid auc: 0.781094 + 0.00223858\n"
     ]
    },
    {
     "name": "stderr",
     "output_type": "stream",
     "text": [
      "bagging, val_score: 0.783295:  70%|#######   | 7/10 [09:28<04:09, 83.21s/it][I 2024-01-04 19:01:46,117] Trial 33 finished with value: 0.7814648587077485 and parameters: {'bagging_fraction': 0.9943528572092798, 'bagging_freq': 3}. Best is trial 32 with value: 0.7832042287054258.\n",
      "bagging, val_score: 0.783295:  70%|#######   | 7/10 [09:28<04:09, 83.21s/it]"
     ]
    },
    {
     "name": "stdout",
     "output_type": "stream",
     "text": [
      "Early stopping, best iteration is:\n",
      "[331]\tcv_agg's valid auc: 0.781465 + 0.00243336\n",
      "[LightGBM] [Info] Number of positive: 15888, number of negative: 180918\n",
      "[LightGBM] [Info] Total Bins 71923\n",
      "[LightGBM] [Info] Number of data points in the train set: 196806, number of used features: 537\n",
      "[LightGBM] [Info] Number of positive: 15888, number of negative: 180918\n",
      "[LightGBM] [Info] Total Bins 71923\n",
      "[LightGBM] [Info] Number of data points in the train set: 196806, number of used features: 537\n",
      "[LightGBM] [Info] Number of positive: 15888, number of negative: 180918\n",
      "[LightGBM] [Info] Total Bins 71923\n",
      "[LightGBM] [Info] Number of data points in the train set: 196806, number of used features: 537\n",
      "[LightGBM] [Info] Number of positive: 15888, number of negative: 180919\n",
      "[LightGBM] [Info] Total Bins 71923\n",
      "[LightGBM] [Info] Number of data points in the train set: 196807, number of used features: 537\n",
      "[LightGBM] [Info] Number of positive: 15888, number of negative: 180919\n",
      "[LightGBM] [Info] Total Bins 71923\n",
      "[LightGBM] [Info] Number of data points in the train set: 196807, number of used features: 537\n",
      "[LightGBM] [Info] [binary:BoostFromScore]: pavg=0.080729 -> initscore=-2.432480\n",
      "[LightGBM] [Info] Start training from score -2.432480\n",
      "[LightGBM] [Info] [binary:BoostFromScore]: pavg=0.080729 -> initscore=-2.432480\n",
      "[LightGBM] [Info] Start training from score -2.432480\n",
      "[LightGBM] [Info] [binary:BoostFromScore]: pavg=0.080729 -> initscore=-2.432480\n",
      "[LightGBM] [Info] Start training from score -2.432480\n",
      "[LightGBM] [Info] [binary:BoostFromScore]: pavg=0.080729 -> initscore=-2.432485\n",
      "[LightGBM] [Info] Start training from score -2.432485\n",
      "[LightGBM] [Info] [binary:BoostFromScore]: pavg=0.080729 -> initscore=-2.432485\n",
      "[LightGBM] [Info] Start training from score -2.432485\n",
      "Training until validation scores don't improve for 10 rounds\n",
      "[100]\tcv_agg's valid auc: 0.771329 + 0.00253627\n",
      "[200]\tcv_agg's valid auc: 0.779348 + 0.00213274\n",
      "[300]\tcv_agg's valid auc: 0.781627 + 0.00188151\n",
      "[400]\tcv_agg's valid auc: 0.782818 + 0.00161209\n"
     ]
    },
    {
     "name": "stderr",
     "output_type": "stream",
     "text": [
      "bagging, val_score: 0.783295:  80%|########  | 8/10 [11:00<02:51, 85.96s/it][I 2024-01-04 19:03:17,969] Trial 34 finished with value: 0.783148034877983 and parameters: {'bagging_fraction': 0.8016459652562721, 'bagging_freq': 3}. Best is trial 32 with value: 0.7832042287054258.\n",
      "bagging, val_score: 0.783295:  80%|########  | 8/10 [11:00<02:51, 85.96s/it]"
     ]
    },
    {
     "name": "stdout",
     "output_type": "stream",
     "text": [
      "Early stopping, best iteration is:\n",
      "[453]\tcv_agg's valid auc: 0.783148 + 0.00166701\n",
      "[LightGBM] [Info] Number of positive: 15888, number of negative: 180918\n",
      "[LightGBM] [Info] Total Bins 71923\n",
      "[LightGBM] [Info] Number of data points in the train set: 196806, number of used features: 537\n",
      "[LightGBM] [Info] Number of positive: 15888, number of negative: 180918\n",
      "[LightGBM] [Info] Total Bins 71923\n",
      "[LightGBM] [Info] Number of data points in the train set: 196806, number of used features: 537\n",
      "[LightGBM] [Info] Number of positive: 15888, number of negative: 180918\n",
      "[LightGBM] [Info] Total Bins 71923\n",
      "[LightGBM] [Info] Number of data points in the train set: 196806, number of used features: 537\n",
      "[LightGBM] [Info] Number of positive: 15888, number of negative: 180919\n",
      "[LightGBM] [Info] Total Bins 71923\n",
      "[LightGBM] [Info] Number of data points in the train set: 196807, number of used features: 537\n",
      "[LightGBM] [Info] Number of positive: 15888, number of negative: 180919\n",
      "[LightGBM] [Info] Total Bins 71923\n",
      "[LightGBM] [Info] Number of data points in the train set: 196807, number of used features: 537\n",
      "[LightGBM] [Info] [binary:BoostFromScore]: pavg=0.080729 -> initscore=-2.432480\n",
      "[LightGBM] [Info] Start training from score -2.432480\n",
      "[LightGBM] [Info] [binary:BoostFromScore]: pavg=0.080729 -> initscore=-2.432480\n",
      "[LightGBM] [Info] Start training from score -2.432480\n",
      "[LightGBM] [Info] [binary:BoostFromScore]: pavg=0.080729 -> initscore=-2.432480\n",
      "[LightGBM] [Info] Start training from score -2.432480\n",
      "[LightGBM] [Info] [binary:BoostFromScore]: pavg=0.080729 -> initscore=-2.432485\n",
      "[LightGBM] [Info] Start training from score -2.432485\n",
      "[LightGBM] [Info] [binary:BoostFromScore]: pavg=0.080729 -> initscore=-2.432485\n",
      "[LightGBM] [Info] Start training from score -2.432485\n",
      "Training until validation scores don't improve for 10 rounds\n",
      "[100]\tcv_agg's valid auc: 0.771469 + 0.00295135\n",
      "[200]\tcv_agg's valid auc: 0.779563 + 0.00258332\n",
      "[300]\tcv_agg's valid auc: 0.781939 + 0.00223688\n",
      "[400]\tcv_agg's valid auc: 0.783248 + 0.00216898\n"
     ]
    },
    {
     "name": "stderr",
     "output_type": "stream",
     "text": [
      "bagging, val_score: 0.783666:  90%|######### | 9/10 [12:34<01:28, 88.70s/it][I 2024-01-04 19:04:52,513] Trial 35 finished with value: 0.7836664956073129 and parameters: {'bagging_fraction': 0.816595323327872, 'bagging_freq': 3}. Best is trial 35 with value: 0.7836664956073129.\n",
      "bagging, val_score: 0.783666:  90%|######### | 9/10 [12:34<01:28, 88.70s/it]"
     ]
    },
    {
     "name": "stdout",
     "output_type": "stream",
     "text": [
      "Early stopping, best iteration is:\n",
      "[468]\tcv_agg's valid auc: 0.783666 + 0.00192769\n",
      "[LightGBM] [Info] Number of positive: 15888, number of negative: 180918\n",
      "[LightGBM] [Info] Total Bins 71923\n",
      "[LightGBM] [Info] Number of data points in the train set: 196806, number of used features: 537\n",
      "[LightGBM] [Info] Number of positive: 15888, number of negative: 180918\n",
      "[LightGBM] [Info] Total Bins 71923\n",
      "[LightGBM] [Info] Number of data points in the train set: 196806, number of used features: 537\n",
      "[LightGBM] [Info] Number of positive: 15888, number of negative: 180918\n",
      "[LightGBM] [Info] Total Bins 71923\n",
      "[LightGBM] [Info] Number of data points in the train set: 196806, number of used features: 537\n",
      "[LightGBM] [Info] Number of positive: 15888, number of negative: 180919\n",
      "[LightGBM] [Info] Total Bins 71923\n",
      "[LightGBM] [Info] Number of data points in the train set: 196807, number of used features: 537\n",
      "[LightGBM] [Info] Number of positive: 15888, number of negative: 180919\n",
      "[LightGBM] [Info] Total Bins 71923\n",
      "[LightGBM] [Info] Number of data points in the train set: 196807, number of used features: 537\n",
      "[LightGBM] [Info] [binary:BoostFromScore]: pavg=0.080729 -> initscore=-2.432480\n",
      "[LightGBM] [Info] Start training from score -2.432480\n",
      "[LightGBM] [Info] [binary:BoostFromScore]: pavg=0.080729 -> initscore=-2.432480\n",
      "[LightGBM] [Info] Start training from score -2.432480\n",
      "[LightGBM] [Info] [binary:BoostFromScore]: pavg=0.080729 -> initscore=-2.432480\n",
      "[LightGBM] [Info] Start training from score -2.432480\n",
      "[LightGBM] [Info] [binary:BoostFromScore]: pavg=0.080729 -> initscore=-2.432485\n",
      "[LightGBM] [Info] Start training from score -2.432485\n",
      "[LightGBM] [Info] [binary:BoostFromScore]: pavg=0.080729 -> initscore=-2.432485\n",
      "[LightGBM] [Info] Start training from score -2.432485\n",
      "Training until validation scores don't improve for 10 rounds\n",
      "[100]\tcv_agg's valid auc: 0.771111 + 0.0023948\n",
      "[200]\tcv_agg's valid auc: 0.779188 + 0.00214788\n",
      "[300]\tcv_agg's valid auc: 0.781519 + 0.00211449\n"
     ]
    },
    {
     "name": "stderr",
     "output_type": "stream",
     "text": [
      "bagging, val_score: 0.783666: 100%|##########| 10/10 [14:03<00:00, 88.79s/it][I 2024-01-04 19:06:21,653] Trial 36 finished with value: 0.7825185511393136 and parameters: {'bagging_fraction': 0.9641748350607575, 'bagging_freq': 3}. Best is trial 35 with value: 0.7836664956073129.\n",
      "bagging, val_score: 0.783666: 100%|##########| 10/10 [14:03<00:00, 84.40s/it]"
     ]
    },
    {
     "name": "stdout",
     "output_type": "stream",
     "text": [
      "Early stopping, best iteration is:\n",
      "[380]\tcv_agg's valid auc: 0.782519 + 0.0019948\n"
     ]
    },
    {
     "name": "stderr",
     "output_type": "stream",
     "text": [
      "\n",
      "feature_fraction_stage2, val_score: 0.783666:   0%|          | 0/6 [00:00<?, ?it/s]"
     ]
    },
    {
     "name": "stdout",
     "output_type": "stream",
     "text": [
      "[LightGBM] [Info] Number of positive: 15888, number of negative: 180918\n",
      "[LightGBM] [Info] Total Bins 71923\n",
      "[LightGBM] [Info] Number of data points in the train set: 196806, number of used features: 537\n",
      "[LightGBM] [Info] Number of positive: 15888, number of negative: 180918\n",
      "[LightGBM] [Info] Total Bins 71923\n",
      "[LightGBM] [Info] Number of data points in the train set: 196806, number of used features: 537\n",
      "[LightGBM] [Info] Number of positive: 15888, number of negative: 180918\n",
      "[LightGBM] [Info] Total Bins 71923\n",
      "[LightGBM] [Info] Number of data points in the train set: 196806, number of used features: 537\n",
      "[LightGBM] [Info] Number of positive: 15888, number of negative: 180919\n",
      "[LightGBM] [Info] Total Bins 71923\n",
      "[LightGBM] [Info] Number of data points in the train set: 196807, number of used features: 537\n",
      "[LightGBM] [Info] Number of positive: 15888, number of negative: 180919\n",
      "[LightGBM] [Info] Total Bins 71923\n",
      "[LightGBM] [Info] Number of data points in the train set: 196807, number of used features: 537\n",
      "[LightGBM] [Info] [binary:BoostFromScore]: pavg=0.080729 -> initscore=-2.432480\n",
      "[LightGBM] [Info] Start training from score -2.432480\n",
      "[LightGBM] [Info] [binary:BoostFromScore]: pavg=0.080729 -> initscore=-2.432480\n",
      "[LightGBM] [Info] Start training from score -2.432480\n",
      "[LightGBM] [Info] [binary:BoostFromScore]: pavg=0.080729 -> initscore=-2.432480\n",
      "[LightGBM] [Info] Start training from score -2.432480\n",
      "[LightGBM] [Info] [binary:BoostFromScore]: pavg=0.080729 -> initscore=-2.432485\n",
      "[LightGBM] [Info] Start training from score -2.432485\n",
      "[LightGBM] [Info] [binary:BoostFromScore]: pavg=0.080729 -> initscore=-2.432485\n",
      "[LightGBM] [Info] Start training from score -2.432485\n",
      "Training until validation scores don't improve for 10 rounds\n",
      "[100]\tcv_agg's valid auc: 0.771309 + 0.0025115\n",
      "[200]\tcv_agg's valid auc: 0.779289 + 0.00225684\n",
      "[300]\tcv_agg's valid auc: 0.781716 + 0.00204932\n"
     ]
    },
    {
     "name": "stderr",
     "output_type": "stream",
     "text": [
      "feature_fraction_stage2, val_score: 0.783666:  17%|#6        | 1/6 [01:21<06:48, 81.64s/it][I 2024-01-04 19:07:44,789] Trial 37 finished with value: 0.7827563114122402 and parameters: {'feature_fraction': 0.652}. Best is trial 37 with value: 0.7827563114122402.\n",
      "feature_fraction_stage2, val_score: 0.783666:  17%|#6        | 1/6 [01:21<06:48, 81.64s/it]"
     ]
    },
    {
     "name": "stdout",
     "output_type": "stream",
     "text": [
      "Early stopping, best iteration is:\n",
      "[386]\tcv_agg's valid auc: 0.782756 + 0.00203733\n",
      "[LightGBM] [Info] Number of positive: 15888, number of negative: 180918\n",
      "[LightGBM] [Info] Total Bins 71923\n",
      "[LightGBM] [Info] Number of data points in the train set: 196806, number of used features: 537\n",
      "[LightGBM] [Info] Number of positive: 15888, number of negative: 180918\n",
      "[LightGBM] [Info] Total Bins 71923\n",
      "[LightGBM] [Info] Number of data points in the train set: 196806, number of used features: 537\n",
      "[LightGBM] [Info] Number of positive: 15888, number of negative: 180918\n",
      "[LightGBM] [Info] Total Bins 71923\n",
      "[LightGBM] [Info] Number of data points in the train set: 196806, number of used features: 537\n",
      "[LightGBM] [Info] Number of positive: 15888, number of negative: 180919\n",
      "[LightGBM] [Info] Total Bins 71923\n",
      "[LightGBM] [Info] Number of data points in the train set: 196807, number of used features: 537\n",
      "[LightGBM] [Info] Number of positive: 15888, number of negative: 180919\n",
      "[LightGBM] [Info] Total Bins 71923\n",
      "[LightGBM] [Info] Number of data points in the train set: 196807, number of used features: 537\n",
      "[LightGBM] [Info] [binary:BoostFromScore]: pavg=0.080729 -> initscore=-2.432480\n",
      "[LightGBM] [Info] Start training from score -2.432480\n",
      "[LightGBM] [Info] [binary:BoostFromScore]: pavg=0.080729 -> initscore=-2.432480\n",
      "[LightGBM] [Info] Start training from score -2.432480\n",
      "[LightGBM] [Info] [binary:BoostFromScore]: pavg=0.080729 -> initscore=-2.432480\n",
      "[LightGBM] [Info] Start training from score -2.432480\n",
      "[LightGBM] [Info] [binary:BoostFromScore]: pavg=0.080729 -> initscore=-2.432485\n",
      "[LightGBM] [Info] Start training from score -2.432485\n",
      "[LightGBM] [Info] [binary:BoostFromScore]: pavg=0.080729 -> initscore=-2.432485\n",
      "[LightGBM] [Info] Start training from score -2.432485\n",
      "Training until validation scores don't improve for 10 rounds\n",
      "[100]\tcv_agg's valid auc: 0.77124 + 0.00254787\n",
      "[200]\tcv_agg's valid auc: 0.779075 + 0.0022047\n",
      "[300]\tcv_agg's valid auc: 0.781429 + 0.00203435\n",
      "[400]\tcv_agg's valid auc: 0.782901 + 0.00194911\n"
     ]
    },
    {
     "name": "stderr",
     "output_type": "stream",
     "text": [
      "feature_fraction_stage2, val_score: 0.783666:  33%|###3      | 2/6 [02:58<06:02, 90.50s/it][I 2024-01-04 19:09:21,490] Trial 38 finished with value: 0.7832164722705268 and parameters: {'feature_fraction': 0.7799999999999999}. Best is trial 38 with value: 0.7832164722705268.\n",
      "feature_fraction_stage2, val_score: 0.783666:  33%|###3      | 2/6 [02:58<06:02, 90.50s/it]"
     ]
    },
    {
     "name": "stdout",
     "output_type": "stream",
     "text": [
      "Early stopping, best iteration is:\n",
      "[434]\tcv_agg's valid auc: 0.783216 + 0.00190668\n",
      "[LightGBM] [Info] Number of positive: 15888, number of negative: 180918\n",
      "[LightGBM] [Info] Total Bins 71923\n",
      "[LightGBM] [Info] Number of data points in the train set: 196806, number of used features: 537\n",
      "[LightGBM] [Info] Number of positive: 15888, number of negative: 180918\n",
      "[LightGBM] [Info] Total Bins 71923\n",
      "[LightGBM] [Info] Number of data points in the train set: 196806, number of used features: 537\n",
      "[LightGBM] [Info] Number of positive: 15888, number of negative: 180918\n",
      "[LightGBM] [Info] Total Bins 71923\n",
      "[LightGBM] [Info] Number of data points in the train set: 196806, number of used features: 537\n",
      "[LightGBM] [Info] Number of positive: 15888, number of negative: 180919\n",
      "[LightGBM] [Info] Total Bins 71923\n",
      "[LightGBM] [Info] Number of data points in the train set: 196807, number of used features: 537\n",
      "[LightGBM] [Info] Number of positive: 15888, number of negative: 180919\n",
      "[LightGBM] [Info] Total Bins 71923\n",
      "[LightGBM] [Info] Number of data points in the train set: 196807, number of used features: 537\n",
      "[LightGBM] [Info] [binary:BoostFromScore]: pavg=0.080729 -> initscore=-2.432480\n",
      "[LightGBM] [Info] Start training from score -2.432480\n",
      "[LightGBM] [Info] [binary:BoostFromScore]: pavg=0.080729 -> initscore=-2.432480\n",
      "[LightGBM] [Info] Start training from score -2.432480\n",
      "[LightGBM] [Info] [binary:BoostFromScore]: pavg=0.080729 -> initscore=-2.432480\n",
      "[LightGBM] [Info] Start training from score -2.432480\n",
      "[LightGBM] [Info] [binary:BoostFromScore]: pavg=0.080729 -> initscore=-2.432485\n",
      "[LightGBM] [Info] Start training from score -2.432485\n",
      "[LightGBM] [Info] [binary:BoostFromScore]: pavg=0.080729 -> initscore=-2.432485\n",
      "[LightGBM] [Info] Start training from score -2.432485\n",
      "Training until validation scores don't improve for 10 rounds\n",
      "[100]\tcv_agg's valid auc: 0.77141 + 0.0029377\n",
      "[200]\tcv_agg's valid auc: 0.779523 + 0.00247885\n",
      "[300]\tcv_agg's valid auc: 0.78165 + 0.0022935\n",
      "[400]\tcv_agg's valid auc: 0.782863 + 0.00208711\n"
     ]
    },
    {
     "name": "stderr",
     "output_type": "stream",
     "text": [
      "feature_fraction_stage2, val_score: 0.783666:  50%|#####     | 3/6 [04:32<04:36, 92.33s/it][I 2024-01-04 19:10:55,995] Trial 39 finished with value: 0.7832616499136293 and parameters: {'feature_fraction': 0.716}. Best is trial 39 with value: 0.7832616499136293.\n",
      "feature_fraction_stage2, val_score: 0.783666:  50%|#####     | 3/6 [04:33<04:36, 92.33s/it]"
     ]
    },
    {
     "name": "stdout",
     "output_type": "stream",
     "text": [
      "Early stopping, best iteration is:\n",
      "[454]\tcv_agg's valid auc: 0.783262 + 0.00203808\n",
      "[LightGBM] [Info] Number of positive: 15888, number of negative: 180918\n",
      "[LightGBM] [Info] Total Bins 71923\n",
      "[LightGBM] [Info] Number of data points in the train set: 196806, number of used features: 537\n",
      "[LightGBM] [Info] Number of positive: 15888, number of negative: 180918\n",
      "[LightGBM] [Info] Total Bins 71923\n",
      "[LightGBM] [Info] Number of data points in the train set: 196806, number of used features: 537\n",
      "[LightGBM] [Info] Number of positive: 15888, number of negative: 180918\n",
      "[LightGBM] [Info] Total Bins 71923\n",
      "[LightGBM] [Info] Number of data points in the train set: 196806, number of used features: 537\n",
      "[LightGBM] [Info] Number of positive: 15888, number of negative: 180919\n",
      "[LightGBM] [Info] Total Bins 71923\n",
      "[LightGBM] [Info] Number of data points in the train set: 196807, number of used features: 537\n",
      "[LightGBM] [Info] Number of positive: 15888, number of negative: 180919\n",
      "[LightGBM] [Info] Total Bins 71923\n",
      "[LightGBM] [Info] Number of data points in the train set: 196807, number of used features: 537\n",
      "[LightGBM] [Info] [binary:BoostFromScore]: pavg=0.080729 -> initscore=-2.432480\n",
      "[LightGBM] [Info] Start training from score -2.432480\n",
      "[LightGBM] [Info] [binary:BoostFromScore]: pavg=0.080729 -> initscore=-2.432480\n",
      "[LightGBM] [Info] Start training from score -2.432480\n",
      "[LightGBM] [Info] [binary:BoostFromScore]: pavg=0.080729 -> initscore=-2.432480\n",
      "[LightGBM] [Info] Start training from score -2.432480\n",
      "[LightGBM] [Info] [binary:BoostFromScore]: pavg=0.080729 -> initscore=-2.432485\n",
      "[LightGBM] [Info] Start training from score -2.432485\n",
      "[LightGBM] [Info] [binary:BoostFromScore]: pavg=0.080729 -> initscore=-2.432485\n",
      "[LightGBM] [Info] Start training from score -2.432485\n",
      "Training until validation scores don't improve for 10 rounds\n",
      "[100]\tcv_agg's valid auc: 0.771038 + 0.00286334\n",
      "[200]\tcv_agg's valid auc: 0.778948 + 0.0023776\n",
      "[300]\tcv_agg's valid auc: 0.781438 + 0.00251257\n"
     ]
    },
    {
     "name": "stderr",
     "output_type": "stream",
     "text": [
      "feature_fraction_stage2, val_score: 0.783666:  67%|######6   | 4/6 [05:55<02:57, 88.51s/it][I 2024-01-04 19:12:18,651] Trial 40 finished with value: 0.7826562129874455 and parameters: {'feature_fraction': 0.6839999999999999}. Best is trial 39 with value: 0.7832616499136293.\n",
      "feature_fraction_stage2, val_score: 0.783666:  67%|######6   | 4/6 [05:55<02:57, 88.51s/it]"
     ]
    },
    {
     "name": "stdout",
     "output_type": "stream",
     "text": [
      "Early stopping, best iteration is:\n",
      "[386]\tcv_agg's valid auc: 0.782656 + 0.00239675\n",
      "[LightGBM] [Info] Number of positive: 15888, number of negative: 180918\n",
      "[LightGBM] [Info] Total Bins 71923\n",
      "[LightGBM] [Info] Number of data points in the train set: 196806, number of used features: 537\n",
      "[LightGBM] [Info] Number of positive: 15888, number of negative: 180918\n",
      "[LightGBM] [Info] Total Bins 71923\n",
      "[LightGBM] [Info] Number of data points in the train set: 196806, number of used features: 537\n",
      "[LightGBM] [Info] Number of positive: 15888, number of negative: 180918\n",
      "[LightGBM] [Info] Total Bins 71923\n",
      "[LightGBM] [Info] Number of data points in the train set: 196806, number of used features: 537\n",
      "[LightGBM] [Info] Number of positive: 15888, number of negative: 180919\n",
      "[LightGBM] [Info] Total Bins 71923\n",
      "[LightGBM] [Info] Number of data points in the train set: 196807, number of used features: 537\n",
      "[LightGBM] [Info] Number of positive: 15888, number of negative: 180919\n",
      "[LightGBM] [Info] Total Bins 71923\n",
      "[LightGBM] [Info] Number of data points in the train set: 196807, number of used features: 537\n",
      "[LightGBM] [Info] [binary:BoostFromScore]: pavg=0.080729 -> initscore=-2.432480\n",
      "[LightGBM] [Info] Start training from score -2.432480\n",
      "[LightGBM] [Info] [binary:BoostFromScore]: pavg=0.080729 -> initscore=-2.432480\n",
      "[LightGBM] [Info] Start training from score -2.432480\n",
      "[LightGBM] [Info] [binary:BoostFromScore]: pavg=0.080729 -> initscore=-2.432480\n",
      "[LightGBM] [Info] Start training from score -2.432480\n",
      "[LightGBM] [Info] [binary:BoostFromScore]: pavg=0.080729 -> initscore=-2.432485\n",
      "[LightGBM] [Info] Start training from score -2.432485\n",
      "[LightGBM] [Info] [binary:BoostFromScore]: pavg=0.080729 -> initscore=-2.432485\n",
      "[LightGBM] [Info] Start training from score -2.432485\n",
      "Training until validation scores don't improve for 10 rounds\n",
      "[100]\tcv_agg's valid auc: 0.771078 + 0.00283114\n",
      "[200]\tcv_agg's valid auc: 0.779132 + 0.00242122\n",
      "[300]\tcv_agg's valid auc: 0.781518 + 0.00220997\n",
      "[400]\tcv_agg's valid auc: 0.78271 + 0.00205923\n",
      "[500]\tcv_agg's valid auc: 0.783467 + 0.0020317\n"
     ]
    },
    {
     "name": "stderr",
     "output_type": "stream",
     "text": [
      "feature_fraction_stage2, val_score: 0.783666:  83%|########3 | 5/6 [08:01<01:42, 102.10s/it]"
     ]
    },
    {
     "name": "stdout",
     "output_type": "stream",
     "text": [
      "Early stopping, best iteration is:\n",
      "[510]\tcv_agg's valid auc: 0.783561 + 0.00199012\n"
     ]
    },
    {
     "name": "stderr",
     "output_type": "stream",
     "text": [
      "[I 2024-01-04 19:14:24,888] Trial 41 finished with value: 0.7835614490092476 and parameters: {'feature_fraction': 0.62}. Best is trial 41 with value: 0.7835614490092476.\n",
      "feature_fraction_stage2, val_score: 0.783666:  83%|########3 | 5/6 [08:01<01:42, 102.10s/it]"
     ]
    },
    {
     "name": "stdout",
     "output_type": "stream",
     "text": [
      "[LightGBM] [Info] Number of positive: 15888, number of negative: 180918\n",
      "[LightGBM] [Info] Total Bins 71923\n",
      "[LightGBM] [Info] Number of data points in the train set: 196806, number of used features: 537\n",
      "[LightGBM] [Info] Number of positive: 15888, number of negative: 180918\n",
      "[LightGBM] [Info] Total Bins 71923\n",
      "[LightGBM] [Info] Number of data points in the train set: 196806, number of used features: 537\n",
      "[LightGBM] [Info] Number of positive: 15888, number of negative: 180918\n",
      "[LightGBM] [Info] Total Bins 71923\n",
      "[LightGBM] [Info] Number of data points in the train set: 196806, number of used features: 537\n",
      "[LightGBM] [Info] Number of positive: 15888, number of negative: 180919\n",
      "[LightGBM] [Info] Total Bins 71923\n",
      "[LightGBM] [Info] Number of data points in the train set: 196807, number of used features: 537\n",
      "[LightGBM] [Info] Number of positive: 15888, number of negative: 180919\n",
      "[LightGBM] [Info] Total Bins 71923\n",
      "[LightGBM] [Info] Number of data points in the train set: 196807, number of used features: 537\n",
      "[LightGBM] [Info] [binary:BoostFromScore]: pavg=0.080729 -> initscore=-2.432480\n",
      "[LightGBM] [Info] Start training from score -2.432480\n",
      "[LightGBM] [Info] [binary:BoostFromScore]: pavg=0.080729 -> initscore=-2.432480\n",
      "[LightGBM] [Info] Start training from score -2.432480\n",
      "[LightGBM] [Info] [binary:BoostFromScore]: pavg=0.080729 -> initscore=-2.432480\n",
      "[LightGBM] [Info] Start training from score -2.432480\n",
      "[LightGBM] [Info] [binary:BoostFromScore]: pavg=0.080729 -> initscore=-2.432485\n",
      "[LightGBM] [Info] Start training from score -2.432485\n",
      "[LightGBM] [Info] [binary:BoostFromScore]: pavg=0.080729 -> initscore=-2.432485\n",
      "[LightGBM] [Info] Start training from score -2.432485\n",
      "Training until validation scores don't improve for 10 rounds\n",
      "[100]\tcv_agg's valid auc: 0.771228 + 0.00287851\n",
      "[200]\tcv_agg's valid auc: 0.779321 + 0.00248969\n",
      "[300]\tcv_agg's valid auc: 0.781406 + 0.0024217\n",
      "[400]\tcv_agg's valid auc: 0.782626 + 0.00241852\n"
     ]
    },
    {
     "name": "stderr",
     "output_type": "stream",
     "text": [
      "feature_fraction_stage2, val_score: 0.783666: 100%|##########| 6/6 [10:08<00:00, 110.56s/it]"
     ]
    },
    {
     "name": "stdout",
     "output_type": "stream",
     "text": [
      "Early stopping, best iteration is:\n",
      "[470]\tcv_agg's valid auc: 0.783051 + 0.00226287\n"
     ]
    },
    {
     "name": "stderr",
     "output_type": "stream",
     "text": [
      "[I 2024-01-04 19:16:31,891] Trial 42 finished with value: 0.7830508598190246 and parameters: {'feature_fraction': 0.748}. Best is trial 41 with value: 0.7835614490092476.\n",
      "feature_fraction_stage2, val_score: 0.783666: 100%|##########| 6/6 [10:08<00:00, 101.49s/it]\n",
      "regularization_factors, val_score: 0.783666:   0%|          | 0/20 [00:00<?, ?it/s]"
     ]
    },
    {
     "name": "stdout",
     "output_type": "stream",
     "text": [
      "[LightGBM] [Info] Number of positive: 15888, number of negative: 180918\n",
      "[LightGBM] [Info] Total Bins 71923\n",
      "[LightGBM] [Info] Number of data points in the train set: 196806, number of used features: 537\n",
      "[LightGBM] [Info] Number of positive: 15888, number of negative: 180918\n",
      "[LightGBM] [Info] Total Bins 71923\n",
      "[LightGBM] [Info] Number of data points in the train set: 196806, number of used features: 537\n",
      "[LightGBM] [Info] Number of positive: 15888, number of negative: 180918\n",
      "[LightGBM] [Info] Total Bins 71923\n",
      "[LightGBM] [Info] Number of data points in the train set: 196806, number of used features: 537\n",
      "[LightGBM] [Info] Number of positive: 15888, number of negative: 180919\n",
      "[LightGBM] [Info] Total Bins 71923\n",
      "[LightGBM] [Info] Number of data points in the train set: 196807, number of used features: 537\n",
      "[LightGBM] [Info] Number of positive: 15888, number of negative: 180919\n",
      "[LightGBM] [Info] Total Bins 71923\n",
      "[LightGBM] [Info] Number of data points in the train set: 196807, number of used features: 537\n",
      "[LightGBM] [Info] [binary:BoostFromScore]: pavg=0.080729 -> initscore=-2.432480\n",
      "[LightGBM] [Info] Start training from score -2.432480\n",
      "[LightGBM] [Info] [binary:BoostFromScore]: pavg=0.080729 -> initscore=-2.432480\n",
      "[LightGBM] [Info] Start training from score -2.432480\n",
      "[LightGBM] [Info] [binary:BoostFromScore]: pavg=0.080729 -> initscore=-2.432480\n",
      "[LightGBM] [Info] Start training from score -2.432480\n",
      "[LightGBM] [Info] [binary:BoostFromScore]: pavg=0.080729 -> initscore=-2.432485\n",
      "[LightGBM] [Info] Start training from score -2.432485\n",
      "[LightGBM] [Info] [binary:BoostFromScore]: pavg=0.080729 -> initscore=-2.432485\n",
      "[LightGBM] [Info] Start training from score -2.432485\n",
      "Training until validation scores don't improve for 10 rounds\n",
      "[100]\tcv_agg's valid auc: 0.771726 + 0.00285021\n",
      "[200]\tcv_agg's valid auc: 0.780342 + 0.0023431\n",
      "[300]\tcv_agg's valid auc: 0.783371 + 0.0023101\n",
      "[400]\tcv_agg's valid auc: 0.78484 + 0.00199186\n",
      "[500]\tcv_agg's valid auc: 0.7857 + 0.00189921\n"
     ]
    },
    {
     "name": "stderr",
     "output_type": "stream",
     "text": [
      "regularization_factors, val_score: 0.785703:   5%|5         | 1/20 [02:22<45:03, 142.28s/it][I 2024-01-04 19:18:54,186] Trial 43 finished with value: 0.7857025841336397 and parameters: {'lambda_l1': 1.0536330320346546e-06, 'lambda_l2': 9.098714841384917}. Best is trial 43 with value: 0.7857025841336397.\n",
      "regularization_factors, val_score: 0.785703:   5%|5         | 1/20 [02:22<45:03, 142.28s/it]"
     ]
    },
    {
     "name": "stdout",
     "output_type": "stream",
     "text": [
      "Early stopping, best iteration is:\n",
      "[495]\tcv_agg's valid auc: 0.785703 + 0.00188121\n",
      "[LightGBM] [Info] Number of positive: 15888, number of negative: 180918\n",
      "[LightGBM] [Info] Total Bins 71923\n",
      "[LightGBM] [Info] Number of data points in the train set: 196806, number of used features: 537\n",
      "[LightGBM] [Info] Number of positive: 15888, number of negative: 180918\n",
      "[LightGBM] [Info] Total Bins 71923\n",
      "[LightGBM] [Info] Number of data points in the train set: 196806, number of used features: 537\n",
      "[LightGBM] [Info] Number of positive: 15888, number of negative: 180918\n",
      "[LightGBM] [Info] Total Bins 71923\n",
      "[LightGBM] [Info] Number of data points in the train set: 196806, number of used features: 537\n",
      "[LightGBM] [Info] Number of positive: 15888, number of negative: 180919\n",
      "[LightGBM] [Info] Total Bins 71923\n",
      "[LightGBM] [Info] Number of data points in the train set: 196807, number of used features: 537\n",
      "[LightGBM] [Info] Number of positive: 15888, number of negative: 180919\n",
      "[LightGBM] [Info] Total Bins 71923\n",
      "[LightGBM] [Info] Number of data points in the train set: 196807, number of used features: 537\n",
      "[LightGBM] [Info] [binary:BoostFromScore]: pavg=0.080729 -> initscore=-2.432480\n",
      "[LightGBM] [Info] Start training from score -2.432480\n",
      "[LightGBM] [Info] [binary:BoostFromScore]: pavg=0.080729 -> initscore=-2.432480\n",
      "[LightGBM] [Info] Start training from score -2.432480\n",
      "[LightGBM] [Info] [binary:BoostFromScore]: pavg=0.080729 -> initscore=-2.432480\n",
      "[LightGBM] [Info] Start training from score -2.432480\n",
      "[LightGBM] [Info] [binary:BoostFromScore]: pavg=0.080729 -> initscore=-2.432485\n",
      "[LightGBM] [Info] Start training from score -2.432485\n",
      "[LightGBM] [Info] [binary:BoostFromScore]: pavg=0.080729 -> initscore=-2.432485\n",
      "[LightGBM] [Info] Start training from score -2.432485\n",
      "Training until validation scores don't improve for 10 rounds\n",
      "[100]\tcv_agg's valid auc: 0.771502 + 0.00278945\n",
      "[200]\tcv_agg's valid auc: 0.78037 + 0.0017868\n",
      "[300]\tcv_agg's valid auc: 0.78326 + 0.00189564\n",
      "[400]\tcv_agg's valid auc: 0.78482 + 0.00184888\n"
     ]
    },
    {
     "name": "stderr",
     "output_type": "stream",
     "text": [
      "regularization_factors, val_score: 0.785703:  10%|#         | 2/20 [04:26<39:30, 131.67s/it]"
     ]
    },
    {
     "name": "stdout",
     "output_type": "stream",
     "text": [
      "Early stopping, best iteration is:\n",
      "[453]\tcv_agg's valid auc: 0.785245 + 0.00176521\n"
     ]
    },
    {
     "name": "stderr",
     "output_type": "stream",
     "text": [
      "[I 2024-01-04 19:20:58,609] Trial 44 finished with value: 0.7852453509224253 and parameters: {'lambda_l1': 6.019777022513037e-07, 'lambda_l2': 7.825512671825283}. Best is trial 43 with value: 0.7857025841336397.\n",
      "regularization_factors, val_score: 0.785703:  10%|#         | 2/20 [04:26<39:30, 131.67s/it]"
     ]
    },
    {
     "name": "stdout",
     "output_type": "stream",
     "text": [
      "[LightGBM] [Info] Number of positive: 15888, number of negative: 180918\n",
      "[LightGBM] [Info] Total Bins 71923\n",
      "[LightGBM] [Info] Number of data points in the train set: 196806, number of used features: 537\n",
      "[LightGBM] [Info] Number of positive: 15888, number of negative: 180918\n",
      "[LightGBM] [Info] Total Bins 71923\n",
      "[LightGBM] [Info] Number of data points in the train set: 196806, number of used features: 537\n",
      "[LightGBM] [Info] Number of positive: 15888, number of negative: 180918\n",
      "[LightGBM] [Info] Total Bins 71923\n",
      "[LightGBM] [Info] Number of data points in the train set: 196806, number of used features: 537\n",
      "[LightGBM] [Info] Number of positive: 15888, number of negative: 180919\n",
      "[LightGBM] [Info] Total Bins 71923\n",
      "[LightGBM] [Info] Number of data points in the train set: 196807, number of used features: 537\n",
      "[LightGBM] [Info] Number of positive: 15888, number of negative: 180919\n",
      "[LightGBM] [Info] Total Bins 71923\n",
      "[LightGBM] [Info] Number of data points in the train set: 196807, number of used features: 537\n",
      "[LightGBM] [Info] [binary:BoostFromScore]: pavg=0.080729 -> initscore=-2.432480\n",
      "[LightGBM] [Info] Start training from score -2.432480\n",
      "[LightGBM] [Info] [binary:BoostFromScore]: pavg=0.080729 -> initscore=-2.432480\n",
      "[LightGBM] [Info] Start training from score -2.432480\n",
      "[LightGBM] [Info] [binary:BoostFromScore]: pavg=0.080729 -> initscore=-2.432480\n",
      "[LightGBM] [Info] Start training from score -2.432480\n",
      "[LightGBM] [Info] [binary:BoostFromScore]: pavg=0.080729 -> initscore=-2.432485\n",
      "[LightGBM] [Info] Start training from score -2.432485\n",
      "[LightGBM] [Info] [binary:BoostFromScore]: pavg=0.080729 -> initscore=-2.432485\n",
      "[LightGBM] [Info] Start training from score -2.432485\n",
      "Training until validation scores don't improve for 10 rounds\n",
      "[100]\tcv_agg's valid auc: 0.771797 + 0.00270524\n",
      "[200]\tcv_agg's valid auc: 0.780405 + 0.00242687\n",
      "[300]\tcv_agg's valid auc: 0.783512 + 0.00236191\n",
      "[400]\tcv_agg's valid auc: 0.78506 + 0.0023036\n"
     ]
    },
    {
     "name": "stderr",
     "output_type": "stream",
     "text": [
      "regularization_factors, val_score: 0.785703:  15%|#5        | 3/20 [06:28<36:01, 127.14s/it][I 2024-01-04 19:23:00,332] Trial 45 finished with value: 0.7855008646810655 and parameters: {'lambda_l1': 8.822468314305195e-07, 'lambda_l2': 9.759011953315625}. Best is trial 43 with value: 0.7857025841336397.\n",
      "regularization_factors, val_score: 0.785703:  15%|#5        | 3/20 [06:28<36:01, 127.14s/it]"
     ]
    },
    {
     "name": "stdout",
     "output_type": "stream",
     "text": [
      "Early stopping, best iteration is:\n",
      "[451]\tcv_agg's valid auc: 0.785501 + 0.0020983\n",
      "[LightGBM] [Info] Number of positive: 15888, number of negative: 180918\n",
      "[LightGBM] [Info] Total Bins 71923\n",
      "[LightGBM] [Info] Number of data points in the train set: 196806, number of used features: 537\n",
      "[LightGBM] [Info] Number of positive: 15888, number of negative: 180918\n",
      "[LightGBM] [Info] Total Bins 71923\n",
      "[LightGBM] [Info] Number of data points in the train set: 196806, number of used features: 537\n",
      "[LightGBM] [Info] Number of positive: 15888, number of negative: 180918\n",
      "[LightGBM] [Info] Total Bins 71923\n",
      "[LightGBM] [Info] Number of data points in the train set: 196806, number of used features: 537\n",
      "[LightGBM] [Info] Number of positive: 15888, number of negative: 180919\n",
      "[LightGBM] [Info] Total Bins 71923\n",
      "[LightGBM] [Info] Number of data points in the train set: 196807, number of used features: 537\n",
      "[LightGBM] [Info] Number of positive: 15888, number of negative: 180919\n",
      "[LightGBM] [Info] Total Bins 71923\n",
      "[LightGBM] [Info] Number of data points in the train set: 196807, number of used features: 537\n",
      "[LightGBM] [Info] [binary:BoostFromScore]: pavg=0.080729 -> initscore=-2.432480\n",
      "[LightGBM] [Info] Start training from score -2.432480\n",
      "[LightGBM] [Info] [binary:BoostFromScore]: pavg=0.080729 -> initscore=-2.432480\n",
      "[LightGBM] [Info] Start training from score -2.432480\n",
      "[LightGBM] [Info] [binary:BoostFromScore]: pavg=0.080729 -> initscore=-2.432480\n",
      "[LightGBM] [Info] Start training from score -2.432480\n",
      "[LightGBM] [Info] [binary:BoostFromScore]: pavg=0.080729 -> initscore=-2.432485\n",
      "[LightGBM] [Info] Start training from score -2.432485\n",
      "[LightGBM] [Info] [binary:BoostFromScore]: pavg=0.080729 -> initscore=-2.432485\n",
      "[LightGBM] [Info] Start training from score -2.432485\n",
      "Training until validation scores don't improve for 10 rounds\n",
      "[100]\tcv_agg's valid auc: 0.771753 + 0.00273404\n",
      "[200]\tcv_agg's valid auc: 0.780563 + 0.00237763\n",
      "[300]\tcv_agg's valid auc: 0.783465 + 0.00234299\n",
      "[400]\tcv_agg's valid auc: 0.785221 + 0.00214893\n",
      "Early stopping, best iteration is:\n",
      "[473]\tcv_agg's valid auc: 0.785832 + 0.00208798\n"
     ]
    },
    {
     "name": "stderr",
     "output_type": "stream",
     "text": [
      "regularization_factors, val_score: 0.785832:  20%|##        | 4/20 [08:26<33:00, 123.78s/it][I 2024-01-04 19:24:58,805] Trial 46 finished with value: 0.7858317095639769 and parameters: {'lambda_l1': 8.317106477021204e-07, 'lambda_l2': 8.425092224668472}. Best is trial 46 with value: 0.7858317095639769.\n",
      "regularization_factors, val_score: 0.785832:  20%|##        | 4/20 [08:26<33:00, 123.78s/it]"
     ]
    },
    {
     "name": "stdout",
     "output_type": "stream",
     "text": [
      "[LightGBM] [Info] Number of positive: 15888, number of negative: 180918\n",
      "[LightGBM] [Info] Total Bins 71923\n",
      "[LightGBM] [Info] Number of data points in the train set: 196806, number of used features: 537\n",
      "[LightGBM] [Info] Number of positive: 15888, number of negative: 180918\n",
      "[LightGBM] [Info] Total Bins 71923\n",
      "[LightGBM] [Info] Number of data points in the train set: 196806, number of used features: 537\n",
      "[LightGBM] [Info] Number of positive: 15888, number of negative: 180918\n",
      "[LightGBM] [Info] Total Bins 71923\n",
      "[LightGBM] [Info] Number of data points in the train set: 196806, number of used features: 537\n",
      "[LightGBM] [Info] Number of positive: 15888, number of negative: 180919\n",
      "[LightGBM] [Info] Total Bins 71923\n",
      "[LightGBM] [Info] Number of data points in the train set: 196807, number of used features: 537\n",
      "[LightGBM] [Info] Number of positive: 15888, number of negative: 180919\n",
      "[LightGBM] [Info] Total Bins 71923\n",
      "[LightGBM] [Info] Number of data points in the train set: 196807, number of used features: 537\n",
      "[LightGBM] [Info] [binary:BoostFromScore]: pavg=0.080729 -> initscore=-2.432480\n",
      "[LightGBM] [Info] Start training from score -2.432480\n",
      "[LightGBM] [Info] [binary:BoostFromScore]: pavg=0.080729 -> initscore=-2.432480\n",
      "[LightGBM] [Info] Start training from score -2.432480\n",
      "[LightGBM] [Info] [binary:BoostFromScore]: pavg=0.080729 -> initscore=-2.432480\n",
      "[LightGBM] [Info] Start training from score -2.432480\n",
      "[LightGBM] [Info] [binary:BoostFromScore]: pavg=0.080729 -> initscore=-2.432485\n",
      "[LightGBM] [Info] Start training from score -2.432485\n",
      "[LightGBM] [Info] [binary:BoostFromScore]: pavg=0.080729 -> initscore=-2.432485\n",
      "[LightGBM] [Info] Start training from score -2.432485\n",
      "Training until validation scores don't improve for 10 rounds\n",
      "[100]\tcv_agg's valid auc: 0.771828 + 0.00262756\n",
      "[200]\tcv_agg's valid auc: 0.780536 + 0.00213683\n",
      "[300]\tcv_agg's valid auc: 0.783545 + 0.00222434\n",
      "[400]\tcv_agg's valid auc: 0.785127 + 0.0022113\n",
      "[500]\tcv_agg's valid auc: 0.785982 + 0.00187775\n"
     ]
    },
    {
     "name": "stderr",
     "output_type": "stream",
     "text": [
      "regularization_factors, val_score: 0.786288:  25%|##5       | 5/20 [10:58<33:28, 133.89s/it][I 2024-01-04 19:27:30,624] Trial 47 finished with value: 0.786287997958978 and parameters: {'lambda_l1': 6.432619159268164e-07, 'lambda_l2': 9.389873337050233}. Best is trial 47 with value: 0.786287997958978.\n"
     ]
    },
    {
     "name": "stdout",
     "output_type": "stream",
     "text": [
      "Early stopping, best iteration is:\n",
      "[559]\tcv_agg's valid auc: 0.786288 + 0.00201158\n"
     ]
    },
    {
     "name": "stderr",
     "output_type": "stream",
     "text": [
      "regularization_factors, val_score: 0.786288:  25%|##5       | 5/20 [10:58<33:28, 133.89s/it]"
     ]
    },
    {
     "name": "stdout",
     "output_type": "stream",
     "text": [
      "[LightGBM] [Info] Number of positive: 15888, number of negative: 180918\n",
      "[LightGBM] [Info] Total Bins 71923\n",
      "[LightGBM] [Info] Number of data points in the train set: 196806, number of used features: 537\n",
      "[LightGBM] [Info] Number of positive: 15888, number of negative: 180918\n",
      "[LightGBM] [Info] Total Bins 71923\n",
      "[LightGBM] [Info] Number of data points in the train set: 196806, number of used features: 537\n",
      "[LightGBM] [Info] Number of positive: 15888, number of negative: 180918\n",
      "[LightGBM] [Info] Total Bins 71923\n",
      "[LightGBM] [Info] Number of data points in the train set: 196806, number of used features: 537\n",
      "[LightGBM] [Info] Number of positive: 15888, number of negative: 180919\n",
      "[LightGBM] [Info] Total Bins 71923\n",
      "[LightGBM] [Info] Number of data points in the train set: 196807, number of used features: 537\n",
      "[LightGBM] [Info] Number of positive: 15888, number of negative: 180919\n",
      "[LightGBM] [Info] Total Bins 71923\n",
      "[LightGBM] [Info] Number of data points in the train set: 196807, number of used features: 537\n",
      "[LightGBM] [Info] [binary:BoostFromScore]: pavg=0.080729 -> initscore=-2.432480\n",
      "[LightGBM] [Info] Start training from score -2.432480\n",
      "[LightGBM] [Info] [binary:BoostFromScore]: pavg=0.080729 -> initscore=-2.432480\n",
      "[LightGBM] [Info] Start training from score -2.432480\n",
      "[LightGBM] [Info] [binary:BoostFromScore]: pavg=0.080729 -> initscore=-2.432480\n",
      "[LightGBM] [Info] Start training from score -2.432480\n",
      "[LightGBM] [Info] [binary:BoostFromScore]: pavg=0.080729 -> initscore=-2.432485\n",
      "[LightGBM] [Info] Start training from score -2.432485\n",
      "[LightGBM] [Info] [binary:BoostFromScore]: pavg=0.080729 -> initscore=-2.432485\n",
      "[LightGBM] [Info] Start training from score -2.432485\n",
      "Training until validation scores don't improve for 10 rounds\n",
      "[100]\tcv_agg's valid auc: 0.771702 + 0.00283755\n",
      "[200]\tcv_agg's valid auc: 0.780562 + 0.00224042\n",
      "[300]\tcv_agg's valid auc: 0.783369 + 0.00227398\n",
      "[400]\tcv_agg's valid auc: 0.784964 + 0.0021267\n",
      "[500]\tcv_agg's valid auc: 0.785753 + 0.00195394\n"
     ]
    },
    {
     "name": "stderr",
     "output_type": "stream",
     "text": [
      "regularization_factors, val_score: 0.786288:  30%|###       | 6/20 [13:19<31:47, 136.23s/it][I 2024-01-04 19:29:51,575] Trial 48 finished with value: 0.7861161847887014 and parameters: {'lambda_l1': 6.703393186800693e-07, 'lambda_l2': 9.229605605844618}. Best is trial 47 with value: 0.786287997958978.\n",
      "regularization_factors, val_score: 0.786288:  30%|###       | 6/20 [13:19<31:47, 136.23s/it]"
     ]
    },
    {
     "name": "stdout",
     "output_type": "stream",
     "text": [
      "Early stopping, best iteration is:\n",
      "[561]\tcv_agg's valid auc: 0.786116 + 0.0021323\n",
      "[LightGBM] [Info] Number of positive: 15888, number of negative: 180918\n",
      "[LightGBM] [Info] Total Bins 71923\n",
      "[LightGBM] [Info] Number of data points in the train set: 196806, number of used features: 537\n",
      "[LightGBM] [Info] Number of positive: 15888, number of negative: 180918\n",
      "[LightGBM] [Info] Total Bins 71923\n",
      "[LightGBM] [Info] Number of data points in the train set: 196806, number of used features: 537\n",
      "[LightGBM] [Info] Number of positive: 15888, number of negative: 180918\n",
      "[LightGBM] [Info] Total Bins 71923\n",
      "[LightGBM] [Info] Number of data points in the train set: 196806, number of used features: 537\n",
      "[LightGBM] [Info] Number of positive: 15888, number of negative: 180919\n",
      "[LightGBM] [Info] Total Bins 71923\n",
      "[LightGBM] [Info] Number of data points in the train set: 196807, number of used features: 537\n",
      "[LightGBM] [Info] Number of positive: 15888, number of negative: 180919\n",
      "[LightGBM] [Info] Total Bins 71923\n",
      "[LightGBM] [Info] Number of data points in the train set: 196807, number of used features: 537\n",
      "[LightGBM] [Info] [binary:BoostFromScore]: pavg=0.080729 -> initscore=-2.432480\n",
      "[LightGBM] [Info] Start training from score -2.432480\n",
      "[LightGBM] [Info] [binary:BoostFromScore]: pavg=0.080729 -> initscore=-2.432480\n",
      "[LightGBM] [Info] Start training from score -2.432480\n",
      "[LightGBM] [Info] [binary:BoostFromScore]: pavg=0.080729 -> initscore=-2.432480\n",
      "[LightGBM] [Info] Start training from score -2.432480\n",
      "[LightGBM] [Info] [binary:BoostFromScore]: pavg=0.080729 -> initscore=-2.432485\n",
      "[LightGBM] [Info] Start training from score -2.432485\n",
      "[LightGBM] [Info] [binary:BoostFromScore]: pavg=0.080729 -> initscore=-2.432485\n",
      "[LightGBM] [Info] Start training from score -2.432485\n",
      "Training until validation scores don't improve for 10 rounds\n",
      "[100]\tcv_agg's valid auc: 0.771828 + 0.00268604\n",
      "[200]\tcv_agg's valid auc: 0.780402 + 0.00242812\n",
      "[300]\tcv_agg's valid auc: 0.783525 + 0.0023314\n",
      "[400]\tcv_agg's valid auc: 0.785125 + 0.00223235\n",
      "[500]\tcv_agg's valid auc: 0.785973 + 0.00197171\n"
     ]
    },
    {
     "name": "stderr",
     "output_type": "stream",
     "text": [
      "regularization_factors, val_score: 0.786577:  35%|###5      | 7/20 [15:37<29:37, 136.75s/it][I 2024-01-04 19:32:09,233] Trial 49 finished with value: 0.7865773049277222 and parameters: {'lambda_l1': 9.537462408845604e-07, 'lambda_l2': 9.764854005395724}. Best is trial 49 with value: 0.7865773049277222.\n",
      "regularization_factors, val_score: 0.786577:  35%|###5      | 7/20 [15:37<29:37, 136.75s/it]"
     ]
    },
    {
     "name": "stdout",
     "output_type": "stream",
     "text": [
      "Early stopping, best iteration is:\n",
      "[580]\tcv_agg's valid auc: 0.786577 + 0.00204966\n",
      "[LightGBM] [Info] Number of positive: 15888, number of negative: 180918\n",
      "[LightGBM] [Info] Total Bins 71923\n",
      "[LightGBM] [Info] Number of data points in the train set: 196806, number of used features: 537\n",
      "[LightGBM] [Info] Number of positive: 15888, number of negative: 180918\n",
      "[LightGBM] [Info] Total Bins 71923\n",
      "[LightGBM] [Info] Number of data points in the train set: 196806, number of used features: 537\n",
      "[LightGBM] [Info] Number of positive: 15888, number of negative: 180918\n",
      "[LightGBM] [Info] Total Bins 71923\n",
      "[LightGBM] [Info] Number of data points in the train set: 196806, number of used features: 537\n",
      "[LightGBM] [Info] Number of positive: 15888, number of negative: 180919\n",
      "[LightGBM] [Info] Total Bins 71923\n",
      "[LightGBM] [Info] Number of data points in the train set: 196807, number of used features: 537\n",
      "[LightGBM] [Info] Number of positive: 15888, number of negative: 180919\n",
      "[LightGBM] [Info] Total Bins 71923\n",
      "[LightGBM] [Info] Number of data points in the train set: 196807, number of used features: 537\n",
      "[LightGBM] [Info] [binary:BoostFromScore]: pavg=0.080729 -> initscore=-2.432480\n",
      "[LightGBM] [Info] Start training from score -2.432480\n",
      "[LightGBM] [Info] [binary:BoostFromScore]: pavg=0.080729 -> initscore=-2.432480\n",
      "[LightGBM] [Info] Start training from score -2.432480\n",
      "[LightGBM] [Info] [binary:BoostFromScore]: pavg=0.080729 -> initscore=-2.432480\n",
      "[LightGBM] [Info] Start training from score -2.432480\n",
      "[LightGBM] [Info] [binary:BoostFromScore]: pavg=0.080729 -> initscore=-2.432485\n",
      "[LightGBM] [Info] Start training from score -2.432485\n",
      "[LightGBM] [Info] [binary:BoostFromScore]: pavg=0.080729 -> initscore=-2.432485\n",
      "[LightGBM] [Info] Start training from score -2.432485\n",
      "Training until validation scores don't improve for 10 rounds\n",
      "[100]\tcv_agg's valid auc: 0.771502 + 0.00278947\n",
      "[200]\tcv_agg's valid auc: 0.78037 + 0.00178685\n",
      "[300]\tcv_agg's valid auc: 0.78326 + 0.00189566\n",
      "[400]\tcv_agg's valid auc: 0.78482 + 0.00184888\n"
     ]
    },
    {
     "name": "stderr",
     "output_type": "stream",
     "text": [
      "regularization_factors, val_score: 0.786577:  40%|####      | 8/20 [17:25<25:31, 127.66s/it][I 2024-01-04 19:33:57,579] Trial 50 finished with value: 0.7852421446485821 and parameters: {'lambda_l1': 7.35129780291091e-07, 'lambda_l2': 7.832158674821597}. Best is trial 49 with value: 0.7865773049277222.\n",
      "regularization_factors, val_score: 0.786577:  40%|####      | 8/20 [17:25<25:31, 127.66s/it]"
     ]
    },
    {
     "name": "stdout",
     "output_type": "stream",
     "text": [
      "Early stopping, best iteration is:\n",
      "[454]\tcv_agg's valid auc: 0.785242 + 0.00175879\n",
      "[LightGBM] [Info] Number of positive: 15888, number of negative: 180918\n",
      "[LightGBM] [Info] Total Bins 71923\n",
      "[LightGBM] [Info] Number of data points in the train set: 196806, number of used features: 537\n",
      "[LightGBM] [Info] Number of positive: 15888, number of negative: 180918\n",
      "[LightGBM] [Info] Total Bins 71923\n",
      "[LightGBM] [Info] Number of data points in the train set: 196806, number of used features: 537\n",
      "[LightGBM] [Info] Number of positive: 15888, number of negative: 180918\n",
      "[LightGBM] [Info] Total Bins 71923\n",
      "[LightGBM] [Info] Number of data points in the train set: 196806, number of used features: 537\n",
      "[LightGBM] [Info] Number of positive: 15888, number of negative: 180919\n",
      "[LightGBM] [Info] Total Bins 71923\n",
      "[LightGBM] [Info] Number of data points in the train set: 196807, number of used features: 537\n",
      "[LightGBM] [Info] Number of positive: 15888, number of negative: 180919\n",
      "[LightGBM] [Info] Total Bins 71923\n",
      "[LightGBM] [Info] Number of data points in the train set: 196807, number of used features: 537\n",
      "[LightGBM] [Info] [binary:BoostFromScore]: pavg=0.080729 -> initscore=-2.432480\n",
      "[LightGBM] [Info] Start training from score -2.432480\n",
      "[LightGBM] [Info] [binary:BoostFromScore]: pavg=0.080729 -> initscore=-2.432480\n",
      "[LightGBM] [Info] Start training from score -2.432480\n",
      "[LightGBM] [Info] [binary:BoostFromScore]: pavg=0.080729 -> initscore=-2.432480\n",
      "[LightGBM] [Info] Start training from score -2.432480\n",
      "[LightGBM] [Info] [binary:BoostFromScore]: pavg=0.080729 -> initscore=-2.432485\n",
      "[LightGBM] [Info] Start training from score -2.432485\n",
      "[LightGBM] [Info] [binary:BoostFromScore]: pavg=0.080729 -> initscore=-2.432485\n",
      "[LightGBM] [Info] Start training from score -2.432485\n",
      "Training until validation scores don't improve for 10 rounds\n",
      "[100]\tcv_agg's valid auc: 0.771576 + 0.00263809\n",
      "[200]\tcv_agg's valid auc: 0.78044 + 0.00240258\n",
      "[300]\tcv_agg's valid auc: 0.783578 + 0.00225616\n",
      "[400]\tcv_agg's valid auc: 0.785007 + 0.00228338\n",
      "[500]\tcv_agg's valid auc: 0.785809 + 0.00194239\n"
     ]
    },
    {
     "name": "stderr",
     "output_type": "stream",
     "text": [
      "regularization_factors, val_score: 0.786577:  45%|####5     | 9/20 [19:35<23:31, 128.36s/it][I 2024-01-04 19:36:07,493] Trial 51 finished with value: 0.786166795769473 and parameters: {'lambda_l1': 7.524507975950747e-07, 'lambda_l2': 8.259353366959887}. Best is trial 49 with value: 0.7865773049277222.\n",
      "regularization_factors, val_score: 0.786577:  45%|####5     | 9/20 [19:35<23:31, 128.36s/it]"
     ]
    },
    {
     "name": "stdout",
     "output_type": "stream",
     "text": [
      "Early stopping, best iteration is:\n",
      "[554]\tcv_agg's valid auc: 0.786167 + 0.00210574\n",
      "[LightGBM] [Info] Number of positive: 15888, number of negative: 180918\n",
      "[LightGBM] [Info] Total Bins 71923\n",
      "[LightGBM] [Info] Number of data points in the train set: 196806, number of used features: 537\n",
      "[LightGBM] [Info] Number of positive: 15888, number of negative: 180918\n",
      "[LightGBM] [Info] Total Bins 71923\n",
      "[LightGBM] [Info] Number of data points in the train set: 196806, number of used features: 537\n",
      "[LightGBM] [Info] Number of positive: 15888, number of negative: 180918\n",
      "[LightGBM] [Info] Total Bins 71923\n",
      "[LightGBM] [Info] Number of data points in the train set: 196806, number of used features: 537\n",
      "[LightGBM] [Info] Number of positive: 15888, number of negative: 180919\n",
      "[LightGBM] [Info] Total Bins 71923\n",
      "[LightGBM] [Info] Number of data points in the train set: 196807, number of used features: 537\n",
      "[LightGBM] [Info] Number of positive: 15888, number of negative: 180919\n",
      "[LightGBM] [Info] Total Bins 71923\n",
      "[LightGBM] [Info] Number of data points in the train set: 196807, number of used features: 537\n",
      "[LightGBM] [Info] [binary:BoostFromScore]: pavg=0.080729 -> initscore=-2.432480\n",
      "[LightGBM] [Info] Start training from score -2.432480\n",
      "[LightGBM] [Info] [binary:BoostFromScore]: pavg=0.080729 -> initscore=-2.432480\n",
      "[LightGBM] [Info] Start training from score -2.432480\n",
      "[LightGBM] [Info] [binary:BoostFromScore]: pavg=0.080729 -> initscore=-2.432480\n",
      "[LightGBM] [Info] Start training from score -2.432480\n",
      "[LightGBM] [Info] [binary:BoostFromScore]: pavg=0.080729 -> initscore=-2.432485\n",
      "[LightGBM] [Info] Start training from score -2.432485\n",
      "[LightGBM] [Info] [binary:BoostFromScore]: pavg=0.080729 -> initscore=-2.432485\n",
      "[LightGBM] [Info] Start training from score -2.432485\n",
      "Training until validation scores don't improve for 10 rounds\n",
      "[100]\tcv_agg's valid auc: 0.771571 + 0.00291044\n",
      "[200]\tcv_agg's valid auc: 0.780427 + 0.00242458\n",
      "[300]\tcv_agg's valid auc: 0.7835 + 0.00228738\n",
      "[400]\tcv_agg's valid auc: 0.78497 + 0.00216645\n",
      "[500]\tcv_agg's valid auc: 0.786047 + 0.00193283\n",
      "[600]\tcv_agg's valid auc: 0.78656 + 0.00196808\n"
     ]
    },
    {
     "name": "stderr",
     "output_type": "stream",
     "text": [
      "regularization_factors, val_score: 0.786608:  50%|#####     | 10/20 [21:49<21:39, 129.99s/it][I 2024-01-04 19:38:20,969] Trial 52 finished with value: 0.7866078944756706 and parameters: {'lambda_l1': 7.292451892457872e-07, 'lambda_l2': 8.630231699483435}. Best is trial 52 with value: 0.7866078944756706.\n",
      "regularization_factors, val_score: 0.786608:  50%|#####     | 10/20 [21:49<21:39, 129.99s/it]"
     ]
    },
    {
     "name": "stdout",
     "output_type": "stream",
     "text": [
      "Early stopping, best iteration is:\n",
      "[596]\tcv_agg's valid auc: 0.786608 + 0.00198715\n",
      "[LightGBM] [Info] Number of positive: 15888, number of negative: 180918\n",
      "[LightGBM] [Info] Total Bins 71923\n",
      "[LightGBM] [Info] Number of data points in the train set: 196806, number of used features: 537\n",
      "[LightGBM] [Info] Number of positive: 15888, number of negative: 180918\n",
      "[LightGBM] [Info] Total Bins 71923\n",
      "[LightGBM] [Info] Number of data points in the train set: 196806, number of used features: 537\n",
      "[LightGBM] [Info] Number of positive: 15888, number of negative: 180918\n",
      "[LightGBM] [Info] Total Bins 71923\n",
      "[LightGBM] [Info] Number of data points in the train set: 196806, number of used features: 537\n",
      "[LightGBM] [Info] Number of positive: 15888, number of negative: 180919\n",
      "[LightGBM] [Info] Total Bins 71923\n",
      "[LightGBM] [Info] Number of data points in the train set: 196807, number of used features: 537\n",
      "[LightGBM] [Info] Number of positive: 15888, number of negative: 180919\n",
      "[LightGBM] [Info] Total Bins 71923\n",
      "[LightGBM] [Info] Number of data points in the train set: 196807, number of used features: 537\n",
      "[LightGBM] [Info] [binary:BoostFromScore]: pavg=0.080729 -> initscore=-2.432480\n",
      "[LightGBM] [Info] Start training from score -2.432480\n",
      "[LightGBM] [Info] [binary:BoostFromScore]: pavg=0.080729 -> initscore=-2.432480\n",
      "[LightGBM] [Info] Start training from score -2.432480\n",
      "[LightGBM] [Info] [binary:BoostFromScore]: pavg=0.080729 -> initscore=-2.432480\n",
      "[LightGBM] [Info] Start training from score -2.432480\n",
      "[LightGBM] [Info] [binary:BoostFromScore]: pavg=0.080729 -> initscore=-2.432485\n",
      "[LightGBM] [Info] Start training from score -2.432485\n",
      "[LightGBM] [Info] [binary:BoostFromScore]: pavg=0.080729 -> initscore=-2.432485\n",
      "[LightGBM] [Info] Start training from score -2.432485\n",
      "Training until validation scores don't improve for 10 rounds\n",
      "[100]\tcv_agg's valid auc: 0.771597 + 0.00264041\n",
      "[200]\tcv_agg's valid auc: 0.780488 + 0.00240025\n",
      "[300]\tcv_agg's valid auc: 0.783615 + 0.00217817\n",
      "[400]\tcv_agg's valid auc: 0.785138 + 0.00210464\n",
      "[500]\tcv_agg's valid auc: 0.786071 + 0.00179862\n"
     ]
    },
    {
     "name": "stderr",
     "output_type": "stream",
     "text": [
      "regularization_factors, val_score: 0.786652:  55%|#####5    | 11/20 [23:47<18:57, 126.34s/it][I 2024-01-04 19:40:19,031] Trial 53 finished with value: 0.7866518423329325 and parameters: {'lambda_l1': 6.931602168547142e-07, 'lambda_l2': 8.369887266722193}. Best is trial 53 with value: 0.7866518423329325.\n",
      "regularization_factors, val_score: 0.786652:  55%|#####5    | 11/20 [23:47<18:57, 126.34s/it]"
     ]
    },
    {
     "name": "stdout",
     "output_type": "stream",
     "text": [
      "Early stopping, best iteration is:\n",
      "[580]\tcv_agg's valid auc: 0.786652 + 0.00183829\n",
      "[LightGBM] [Info] Number of positive: 15888, number of negative: 180918\n",
      "[LightGBM] [Info] Total Bins 71923\n",
      "[LightGBM] [Info] Number of data points in the train set: 196806, number of used features: 537\n",
      "[LightGBM] [Info] Number of positive: 15888, number of negative: 180918\n",
      "[LightGBM] [Info] Total Bins 71923\n",
      "[LightGBM] [Info] Number of data points in the train set: 196806, number of used features: 537\n",
      "[LightGBM] [Info] Number of positive: 15888, number of negative: 180918\n",
      "[LightGBM] [Info] Total Bins 71923\n",
      "[LightGBM] [Info] Number of data points in the train set: 196806, number of used features: 537\n",
      "[LightGBM] [Info] Number of positive: 15888, number of negative: 180919\n",
      "[LightGBM] [Info] Total Bins 71923\n",
      "[LightGBM] [Info] Number of data points in the train set: 196807, number of used features: 537\n",
      "[LightGBM] [Info] Number of positive: 15888, number of negative: 180919\n",
      "[LightGBM] [Info] Total Bins 71923\n",
      "[LightGBM] [Info] Number of data points in the train set: 196807, number of used features: 537\n",
      "[LightGBM] [Info] [binary:BoostFromScore]: pavg=0.080729 -> initscore=-2.432480\n",
      "[LightGBM] [Info] Start training from score -2.432480\n",
      "[LightGBM] [Info] [binary:BoostFromScore]: pavg=0.080729 -> initscore=-2.432480\n",
      "[LightGBM] [Info] Start training from score -2.432480\n",
      "[LightGBM] [Info] [binary:BoostFromScore]: pavg=0.080729 -> initscore=-2.432480\n",
      "[LightGBM] [Info] Start training from score -2.432480\n",
      "[LightGBM] [Info] [binary:BoostFromScore]: pavg=0.080729 -> initscore=-2.432485\n",
      "[LightGBM] [Info] Start training from score -2.432485\n",
      "[LightGBM] [Info] [binary:BoostFromScore]: pavg=0.080729 -> initscore=-2.432485\n",
      "[LightGBM] [Info] Start training from score -2.432485\n",
      "Training until validation scores don't improve for 10 rounds\n",
      "[100]\tcv_agg's valid auc: 0.771542 + 0.00280957\n",
      "[200]\tcv_agg's valid auc: 0.780593 + 0.00189613\n",
      "[300]\tcv_agg's valid auc: 0.783609 + 0.00182582\n",
      "[400]\tcv_agg's valid auc: 0.785172 + 0.0017754\n",
      "[500]\tcv_agg's valid auc: 0.785937 + 0.00167335\n"
     ]
    },
    {
     "name": "stderr",
     "output_type": "stream",
     "text": [
      "regularization_factors, val_score: 0.786652:  60%|######    | 12/20 [25:35<16:06, 120.75s/it][I 2024-01-04 19:42:07,173] Trial 54 finished with value: 0.7859952836018289 and parameters: {'lambda_l1': 6.178950615099896e-07, 'lambda_l2': 8.074082356806029}. Best is trial 53 with value: 0.7866518423329325.\n",
      "regularization_factors, val_score: 0.786652:  60%|######    | 12/20 [25:35<16:06, 120.75s/it]"
     ]
    },
    {
     "name": "stdout",
     "output_type": "stream",
     "text": [
      "Early stopping, best iteration is:\n",
      "[519]\tcv_agg's valid auc: 0.785995 + 0.00167918\n",
      "[LightGBM] [Info] Number of positive: 15888, number of negative: 180918\n",
      "[LightGBM] [Info] Total Bins 71923\n",
      "[LightGBM] [Info] Number of data points in the train set: 196806, number of used features: 537\n",
      "[LightGBM] [Info] Number of positive: 15888, number of negative: 180918\n",
      "[LightGBM] [Info] Total Bins 71923\n",
      "[LightGBM] [Info] Number of data points in the train set: 196806, number of used features: 537\n",
      "[LightGBM] [Info] Number of positive: 15888, number of negative: 180918\n",
      "[LightGBM] [Info] Total Bins 71923\n",
      "[LightGBM] [Info] Number of data points in the train set: 196806, number of used features: 537\n",
      "[LightGBM] [Info] Number of positive: 15888, number of negative: 180919\n",
      "[LightGBM] [Info] Total Bins 71923\n",
      "[LightGBM] [Info] Number of data points in the train set: 196807, number of used features: 537\n",
      "[LightGBM] [Info] Number of positive: 15888, number of negative: 180919\n",
      "[LightGBM] [Info] Total Bins 71923\n",
      "[LightGBM] [Info] Number of data points in the train set: 196807, number of used features: 537\n",
      "[LightGBM] [Info] [binary:BoostFromScore]: pavg=0.080729 -> initscore=-2.432480\n",
      "[LightGBM] [Info] Start training from score -2.432480\n",
      "[LightGBM] [Info] [binary:BoostFromScore]: pavg=0.080729 -> initscore=-2.432480\n",
      "[LightGBM] [Info] Start training from score -2.432480\n",
      "[LightGBM] [Info] [binary:BoostFromScore]: pavg=0.080729 -> initscore=-2.432480\n",
      "[LightGBM] [Info] Start training from score -2.432480\n",
      "[LightGBM] [Info] [binary:BoostFromScore]: pavg=0.080729 -> initscore=-2.432485\n",
      "[LightGBM] [Info] Start training from score -2.432485\n",
      "[LightGBM] [Info] [binary:BoostFromScore]: pavg=0.080729 -> initscore=-2.432485\n",
      "[LightGBM] [Info] Start training from score -2.432485\n",
      "Training until validation scores don't improve for 10 rounds\n",
      "[100]\tcv_agg's valid auc: 0.771801 + 0.0026598\n",
      "[200]\tcv_agg's valid auc: 0.780415 + 0.0023419\n",
      "[300]\tcv_agg's valid auc: 0.783526 + 0.00240656\n",
      "[400]\tcv_agg's valid auc: 0.785068 + 0.00241518\n",
      "[500]\tcv_agg's valid auc: 0.78586 + 0.00216465\n",
      "[600]\tcv_agg's valid auc: 0.786318 + 0.00226784\n"
     ]
    },
    {
     "name": "stderr",
     "output_type": "stream",
     "text": [
      "regularization_factors, val_score: 0.786652:  65%|######5   | 13/20 [27:46<14:28, 124.01s/it][I 2024-01-04 19:44:18,652] Trial 55 finished with value: 0.7863479245555467 and parameters: {'lambda_l1': 2.644862165073455e-08, 'lambda_l2': 9.940299695968225}. Best is trial 53 with value: 0.7866518423329325.\n",
      "regularization_factors, val_score: 0.786652:  65%|######5   | 13/20 [27:46<14:28, 124.01s/it]"
     ]
    },
    {
     "name": "stdout",
     "output_type": "stream",
     "text": [
      "Early stopping, best iteration is:\n",
      "[598]\tcv_agg's valid auc: 0.786348 + 0.00228784\n",
      "[LightGBM] [Info] Number of positive: 15888, number of negative: 180918\n",
      "[LightGBM] [Info] Total Bins 71923\n",
      "[LightGBM] [Info] Number of data points in the train set: 196806, number of used features: 537\n",
      "[LightGBM] [Info] Number of positive: 15888, number of negative: 180918\n",
      "[LightGBM] [Info] Total Bins 71923\n",
      "[LightGBM] [Info] Number of data points in the train set: 196806, number of used features: 537\n",
      "[LightGBM] [Info] Number of positive: 15888, number of negative: 180918\n",
      "[LightGBM] [Info] Total Bins 71923\n",
      "[LightGBM] [Info] Number of data points in the train set: 196806, number of used features: 537\n",
      "[LightGBM] [Info] Number of positive: 15888, number of negative: 180919\n",
      "[LightGBM] [Info] Total Bins 71923\n",
      "[LightGBM] [Info] Number of data points in the train set: 196807, number of used features: 537\n",
      "[LightGBM] [Info] Number of positive: 15888, number of negative: 180919\n",
      "[LightGBM] [Info] Total Bins 71923\n",
      "[LightGBM] [Info] Number of data points in the train set: 196807, number of used features: 537\n",
      "[LightGBM] [Info] [binary:BoostFromScore]: pavg=0.080729 -> initscore=-2.432480\n",
      "[LightGBM] [Info] Start training from score -2.432480\n",
      "[LightGBM] [Info] [binary:BoostFromScore]: pavg=0.080729 -> initscore=-2.432480\n",
      "[LightGBM] [Info] Start training from score -2.432480\n",
      "[LightGBM] [Info] [binary:BoostFromScore]: pavg=0.080729 -> initscore=-2.432480\n",
      "[LightGBM] [Info] Start training from score -2.432480\n",
      "[LightGBM] [Info] [binary:BoostFromScore]: pavg=0.080729 -> initscore=-2.432485\n",
      "[LightGBM] [Info] Start training from score -2.432485\n",
      "[LightGBM] [Info] [binary:BoostFromScore]: pavg=0.080729 -> initscore=-2.432485\n",
      "[LightGBM] [Info] Start training from score -2.432485\n",
      "Training until validation scores don't improve for 10 rounds\n",
      "[100]\tcv_agg's valid auc: 0.771512 + 0.0028798\n",
      "[200]\tcv_agg's valid auc: 0.77948 + 0.00259002\n",
      "[300]\tcv_agg's valid auc: 0.781762 + 0.00241197\n",
      "[400]\tcv_agg's valid auc: 0.783113 + 0.00223795\n"
     ]
    },
    {
     "name": "stderr",
     "output_type": "stream",
     "text": [
      "regularization_factors, val_score: 0.786652:  70%|#######   | 14/20 [29:20<11:29, 114.93s/it][I 2024-01-04 19:45:52,623] Trial 56 finished with value: 0.7834629139450928 and parameters: {'lambda_l1': 1.717714008137586e-08, 'lambda_l2': 0.061737316821531024}. Best is trial 53 with value: 0.7866518423329325.\n",
      "regularization_factors, val_score: 0.786652:  70%|#######   | 14/20 [29:20<11:29, 114.93s/it]"
     ]
    },
    {
     "name": "stdout",
     "output_type": "stream",
     "text": [
      "Early stopping, best iteration is:\n",
      "[453]\tcv_agg's valid auc: 0.783463 + 0.00226785\n",
      "[LightGBM] [Info] Number of positive: 15888, number of negative: 180918\n",
      "[LightGBM] [Info] Total Bins 71923\n",
      "[LightGBM] [Info] Number of data points in the train set: 196806, number of used features: 537\n",
      "[LightGBM] [Info] Number of positive: 15888, number of negative: 180918\n",
      "[LightGBM] [Info] Total Bins 71923\n",
      "[LightGBM] [Info] Number of data points in the train set: 196806, number of used features: 537\n",
      "[LightGBM] [Info] Number of positive: 15888, number of negative: 180918\n",
      "[LightGBM] [Info] Total Bins 71923\n",
      "[LightGBM] [Info] Number of data points in the train set: 196806, number of used features: 537\n",
      "[LightGBM] [Info] Number of positive: 15888, number of negative: 180919\n",
      "[LightGBM] [Info] Total Bins 71923\n",
      "[LightGBM] [Info] Number of data points in the train set: 196807, number of used features: 537\n",
      "[LightGBM] [Info] Number of positive: 15888, number of negative: 180919\n",
      "[LightGBM] [Info] Total Bins 71923\n",
      "[LightGBM] [Info] Number of data points in the train set: 196807, number of used features: 537\n",
      "[LightGBM] [Info] [binary:BoostFromScore]: pavg=0.080729 -> initscore=-2.432480\n",
      "[LightGBM] [Info] Start training from score -2.432480\n",
      "[LightGBM] [Info] [binary:BoostFromScore]: pavg=0.080729 -> initscore=-2.432480\n",
      "[LightGBM] [Info] Start training from score -2.432480\n",
      "[LightGBM] [Info] [binary:BoostFromScore]: pavg=0.080729 -> initscore=-2.432480\n",
      "[LightGBM] [Info] Start training from score -2.432480\n",
      "[LightGBM] [Info] [binary:BoostFromScore]: pavg=0.080729 -> initscore=-2.432485\n",
      "[LightGBM] [Info] Start training from score -2.432485\n",
      "[LightGBM] [Info] [binary:BoostFromScore]: pavg=0.080729 -> initscore=-2.432485\n",
      "[LightGBM] [Info] Start training from score -2.432485\n",
      "Training until validation scores don't improve for 10 rounds\n",
      "[100]\tcv_agg's valid auc: 0.771469 + 0.00295136\n",
      "[200]\tcv_agg's valid auc: 0.779563 + 0.0025833\n",
      "[300]\tcv_agg's valid auc: 0.781939 + 0.0022369\n",
      "[400]\tcv_agg's valid auc: 0.783248 + 0.00216899\n"
     ]
    },
    {
     "name": "stderr",
     "output_type": "stream",
     "text": [
      "regularization_factors, val_score: 0.786652:  75%|#######5  | 15/20 [30:57<09:07, 109.46s/it][I 2024-01-04 19:47:29,400] Trial 57 finished with value: 0.7836665212123708 and parameters: {'lambda_l1': 0.00010796955585786796, 'lambda_l2': 2.063526884871325e-06}. Best is trial 53 with value: 0.7866518423329325.\n",
      "regularization_factors, val_score: 0.786652:  75%|#######5  | 15/20 [30:57<09:07, 109.46s/it]"
     ]
    },
    {
     "name": "stdout",
     "output_type": "stream",
     "text": [
      "Early stopping, best iteration is:\n",
      "[468]\tcv_agg's valid auc: 0.783667 + 0.00192772\n",
      "[LightGBM] [Info] Number of positive: 15888, number of negative: 180918\n",
      "[LightGBM] [Info] Total Bins 71923\n",
      "[LightGBM] [Info] Number of data points in the train set: 196806, number of used features: 537\n",
      "[LightGBM] [Info] Number of positive: 15888, number of negative: 180918\n",
      "[LightGBM] [Info] Total Bins 71923\n",
      "[LightGBM] [Info] Number of data points in the train set: 196806, number of used features: 537\n",
      "[LightGBM] [Info] Number of positive: 15888, number of negative: 180918\n",
      "[LightGBM] [Info] Total Bins 71923\n",
      "[LightGBM] [Info] Number of data points in the train set: 196806, number of used features: 537\n",
      "[LightGBM] [Info] Number of positive: 15888, number of negative: 180919\n",
      "[LightGBM] [Info] Total Bins 71923\n",
      "[LightGBM] [Info] Number of data points in the train set: 196807, number of used features: 537\n",
      "[LightGBM] [Info] Number of positive: 15888, number of negative: 180919\n",
      "[LightGBM] [Info] Total Bins 71923\n",
      "[LightGBM] [Info] Number of data points in the train set: 196807, number of used features: 537\n",
      "[LightGBM] [Info] [binary:BoostFromScore]: pavg=0.080729 -> initscore=-2.432480\n",
      "[LightGBM] [Info] Start training from score -2.432480\n",
      "[LightGBM] [Info] [binary:BoostFromScore]: pavg=0.080729 -> initscore=-2.432480\n",
      "[LightGBM] [Info] Start training from score -2.432480\n",
      "[LightGBM] [Info] [binary:BoostFromScore]: pavg=0.080729 -> initscore=-2.432480\n",
      "[LightGBM] [Info] Start training from score -2.432480\n",
      "[LightGBM] [Info] [binary:BoostFromScore]: pavg=0.080729 -> initscore=-2.432485\n",
      "[LightGBM] [Info] Start training from score -2.432485\n",
      "[LightGBM] [Info] [binary:BoostFromScore]: pavg=0.080729 -> initscore=-2.432485\n",
      "[LightGBM] [Info] Start training from score -2.432485\n",
      "Training until validation scores don't improve for 10 rounds\n",
      "[100]\tcv_agg's valid auc: 0.77143 + 0.00284056\n",
      "[200]\tcv_agg's valid auc: 0.779693 + 0.00223096\n",
      "[300]\tcv_agg's valid auc: 0.782219 + 0.00234559\n",
      "[400]\tcv_agg's valid auc: 0.783495 + 0.00216768\n"
     ]
    },
    {
     "name": "stderr",
     "output_type": "stream",
     "text": [
      "regularization_factors, val_score: 0.786652:  80%|########  | 16/20 [32:22<06:48, 102.01s/it][I 2024-01-04 19:48:54,091] Trial 58 finished with value: 0.7836448131130769 and parameters: {'lambda_l1': 1.3628878779852018e-08, 'lambda_l2': 0.15176994925379608}. Best is trial 53 with value: 0.7866518423329325.\n",
      "regularization_factors, val_score: 0.786652:  80%|########  | 16/20 [32:22<06:48, 102.01s/it]"
     ]
    },
    {
     "name": "stdout",
     "output_type": "stream",
     "text": [
      "Early stopping, best iteration is:\n",
      "[415]\tcv_agg's valid auc: 0.783645 + 0.00209308\n",
      "[LightGBM] [Info] Number of positive: 15888, number of negative: 180918\n",
      "[LightGBM] [Info] Total Bins 71923\n",
      "[LightGBM] [Info] Number of data points in the train set: 196806, number of used features: 537\n",
      "[LightGBM] [Info] Number of positive: 15888, number of negative: 180918\n",
      "[LightGBM] [Info] Total Bins 71923\n",
      "[LightGBM] [Info] Number of data points in the train set: 196806, number of used features: 537\n",
      "[LightGBM] [Info] Number of positive: 15888, number of negative: 180918\n",
      "[LightGBM] [Info] Total Bins 71923\n",
      "[LightGBM] [Info] Number of data points in the train set: 196806, number of used features: 537\n",
      "[LightGBM] [Info] Number of positive: 15888, number of negative: 180919\n",
      "[LightGBM] [Info] Total Bins 71923\n",
      "[LightGBM] [Info] Number of data points in the train set: 196807, number of used features: 537\n",
      "[LightGBM] [Info] Number of positive: 15888, number of negative: 180919\n",
      "[LightGBM] [Info] Total Bins 71923\n",
      "[LightGBM] [Info] Number of data points in the train set: 196807, number of used features: 537\n",
      "[LightGBM] [Info] [binary:BoostFromScore]: pavg=0.080729 -> initscore=-2.432480\n",
      "[LightGBM] [Info] Start training from score -2.432480\n",
      "[LightGBM] [Info] [binary:BoostFromScore]: pavg=0.080729 -> initscore=-2.432480\n",
      "[LightGBM] [Info] Start training from score -2.432480\n",
      "[LightGBM] [Info] [binary:BoostFromScore]: pavg=0.080729 -> initscore=-2.432480\n",
      "[LightGBM] [Info] Start training from score -2.432480\n",
      "[LightGBM] [Info] [binary:BoostFromScore]: pavg=0.080729 -> initscore=-2.432485\n",
      "[LightGBM] [Info] Start training from score -2.432485\n",
      "[LightGBM] [Info] [binary:BoostFromScore]: pavg=0.080729 -> initscore=-2.432485\n",
      "[LightGBM] [Info] Start training from score -2.432485\n",
      "Training until validation scores don't improve for 10 rounds\n",
      "[100]\tcv_agg's valid auc: 0.771461 + 0.00307002\n",
      "[200]\tcv_agg's valid auc: 0.779727 + 0.00250793\n",
      "[300]\tcv_agg's valid auc: 0.782158 + 0.00245503\n",
      "[400]\tcv_agg's valid auc: 0.783504 + 0.00228742\n"
     ]
    },
    {
     "name": "stderr",
     "output_type": "stream",
     "text": [
      "regularization_factors, val_score: 0.786652:  85%|########5 | 17/20 [34:00<05:02, 100.97s/it][I 2024-01-04 19:50:32,642] Trial 59 finished with value: 0.784199295618586 and parameters: {'lambda_l1': 0.3058654644965532, 'lambda_l2': 0.31472248522691104}. Best is trial 53 with value: 0.7866518423329325.\n",
      "regularization_factors, val_score: 0.786652:  85%|########5 | 17/20 [34:00<05:02, 100.97s/it]"
     ]
    },
    {
     "name": "stdout",
     "output_type": "stream",
     "text": [
      "[500]\tcv_agg's valid auc: 0.784187 + 0.00177744\n",
      "Early stopping, best iteration is:\n",
      "[490]\tcv_agg's valid auc: 0.784199 + 0.00180428\n",
      "[LightGBM] [Info] Number of positive: 15888, number of negative: 180918\n",
      "[LightGBM] [Info] Total Bins 71923\n",
      "[LightGBM] [Info] Number of data points in the train set: 196806, number of used features: 537\n",
      "[LightGBM] [Info] Number of positive: 15888, number of negative: 180918\n",
      "[LightGBM] [Info] Total Bins 71923\n",
      "[LightGBM] [Info] Number of data points in the train set: 196806, number of used features: 537\n",
      "[LightGBM] [Info] Number of positive: 15888, number of negative: 180918\n",
      "[LightGBM] [Info] Total Bins 71923\n",
      "[LightGBM] [Info] Number of data points in the train set: 196806, number of used features: 537\n",
      "[LightGBM] [Info] Number of positive: 15888, number of negative: 180919\n",
      "[LightGBM] [Info] Total Bins 71923\n",
      "[LightGBM] [Info] Number of data points in the train set: 196807, number of used features: 537\n",
      "[LightGBM] [Info] Number of positive: 15888, number of negative: 180919\n",
      "[LightGBM] [Info] Total Bins 71923\n",
      "[LightGBM] [Info] Number of data points in the train set: 196807, number of used features: 537\n",
      "[LightGBM] [Info] [binary:BoostFromScore]: pavg=0.080729 -> initscore=-2.432480\n",
      "[LightGBM] [Info] Start training from score -2.432480\n",
      "[LightGBM] [Info] [binary:BoostFromScore]: pavg=0.080729 -> initscore=-2.432480\n",
      "[LightGBM] [Info] Start training from score -2.432480\n",
      "[LightGBM] [Info] [binary:BoostFromScore]: pavg=0.080729 -> initscore=-2.432480\n",
      "[LightGBM] [Info] Start training from score -2.432480\n",
      "[LightGBM] [Info] [binary:BoostFromScore]: pavg=0.080729 -> initscore=-2.432485\n",
      "[LightGBM] [Info] Start training from score -2.432485\n",
      "[LightGBM] [Info] [binary:BoostFromScore]: pavg=0.080729 -> initscore=-2.432485\n",
      "[LightGBM] [Info] Start training from score -2.432485\n",
      "Training until validation scores don't improve for 10 rounds\n",
      "[100]\tcv_agg's valid auc: 0.771648 + 0.00283519\n",
      "[200]\tcv_agg's valid auc: 0.780052 + 0.00241498\n",
      "[300]\tcv_agg's valid auc: 0.782597 + 0.00246069\n",
      "[400]\tcv_agg's valid auc: 0.784021 + 0.0021512\n"
     ]
    },
    {
     "name": "stderr",
     "output_type": "stream",
     "text": [
      "regularization_factors, val_score: 0.786652:  90%|######### | 18/20 [35:31<03:16, 98.10s/it] [I 2024-01-04 19:52:04,048] Trial 60 finished with value: 0.7842526821032927 and parameters: {'lambda_l1': 1.751667533482355e-05, 'lambda_l2': 0.4575121358214895}. Best is trial 53 with value: 0.7866518423329325.\n",
      "regularization_factors, val_score: 0.786652:  90%|######### | 18/20 [35:32<03:16, 98.10s/it]"
     ]
    },
    {
     "name": "stdout",
     "output_type": "stream",
     "text": [
      "Early stopping, best iteration is:\n",
      "[433]\tcv_agg's valid auc: 0.784253 + 0.00210394\n",
      "[LightGBM] [Info] Number of positive: 15888, number of negative: 180918\n",
      "[LightGBM] [Info] Total Bins 71923\n",
      "[LightGBM] [Info] Number of data points in the train set: 196806, number of used features: 537\n",
      "[LightGBM] [Info] Number of positive: 15888, number of negative: 180918\n",
      "[LightGBM] [Info] Total Bins 71923\n",
      "[LightGBM] [Info] Number of data points in the train set: 196806, number of used features: 537\n",
      "[LightGBM] [Info] Number of positive: 15888, number of negative: 180918\n",
      "[LightGBM] [Info] Total Bins 71923\n",
      "[LightGBM] [Info] Number of data points in the train set: 196806, number of used features: 537\n",
      "[LightGBM] [Info] Number of positive: 15888, number of negative: 180919\n",
      "[LightGBM] [Info] Total Bins 71923\n",
      "[LightGBM] [Info] Number of data points in the train set: 196807, number of used features: 537\n",
      "[LightGBM] [Info] Number of positive: 15888, number of negative: 180919\n",
      "[LightGBM] [Info] Total Bins 71923\n",
      "[LightGBM] [Info] Number of data points in the train set: 196807, number of used features: 537\n",
      "[LightGBM] [Info] [binary:BoostFromScore]: pavg=0.080729 -> initscore=-2.432480\n",
      "[LightGBM] [Info] Start training from score -2.432480\n",
      "[LightGBM] [Info] [binary:BoostFromScore]: pavg=0.080729 -> initscore=-2.432480\n",
      "[LightGBM] [Info] Start training from score -2.432480\n",
      "[LightGBM] [Info] [binary:BoostFromScore]: pavg=0.080729 -> initscore=-2.432480\n",
      "[LightGBM] [Info] Start training from score -2.432480\n",
      "[LightGBM] [Info] [binary:BoostFromScore]: pavg=0.080729 -> initscore=-2.432485\n",
      "[LightGBM] [Info] Start training from score -2.432485\n",
      "[LightGBM] [Info] [binary:BoostFromScore]: pavg=0.080729 -> initscore=-2.432485\n",
      "[LightGBM] [Info] Start training from score -2.432485\n",
      "Training until validation scores don't improve for 10 rounds\n",
      "[100]\tcv_agg's valid auc: 0.771503 + 0.00297269\n",
      "[200]\tcv_agg's valid auc: 0.780268 + 0.00249837\n",
      "[300]\tcv_agg's valid auc: 0.78276 + 0.00272359\n",
      "[400]\tcv_agg's valid auc: 0.784226 + 0.00257574\n"
     ]
    },
    {
     "name": "stderr",
     "output_type": "stream",
     "text": [
      "regularization_factors, val_score: 0.786652:  95%|#########5| 19/20 [37:12<01:38, 98.81s/it][I 2024-01-04 19:53:44,542] Trial 61 finished with value: 0.7847094524539254 and parameters: {'lambda_l1': 6.114141758239014e-08, 'lambda_l2': 1.164494845881842}. Best is trial 53 with value: 0.7866518423329325.\n",
      "regularization_factors, val_score: 0.786652:  95%|#########5| 19/20 [37:12<01:38, 98.81s/it]"
     ]
    },
    {
     "name": "stdout",
     "output_type": "stream",
     "text": [
      "Early stopping, best iteration is:\n",
      "[470]\tcv_agg's valid auc: 0.784709 + 0.00243305\n",
      "[LightGBM] [Info] Number of positive: 15888, number of negative: 180918\n",
      "[LightGBM] [Info] Total Bins 71923\n",
      "[LightGBM] [Info] Number of data points in the train set: 196806, number of used features: 537\n",
      "[LightGBM] [Info] Number of positive: 15888, number of negative: 180918\n",
      "[LightGBM] [Info] Total Bins 71923\n",
      "[LightGBM] [Info] Number of data points in the train set: 196806, number of used features: 537\n",
      "[LightGBM] [Info] Number of positive: 15888, number of negative: 180918\n",
      "[LightGBM] [Info] Total Bins 71923\n",
      "[LightGBM] [Info] Number of data points in the train set: 196806, number of used features: 537\n",
      "[LightGBM] [Info] Number of positive: 15888, number of negative: 180919\n",
      "[LightGBM] [Info] Total Bins 71923\n",
      "[LightGBM] [Info] Number of data points in the train set: 196807, number of used features: 537\n",
      "[LightGBM] [Info] Number of positive: 15888, number of negative: 180919\n",
      "[LightGBM] [Info] Total Bins 71923\n",
      "[LightGBM] [Info] Number of data points in the train set: 196807, number of used features: 537\n",
      "[LightGBM] [Info] [binary:BoostFromScore]: pavg=0.080729 -> initscore=-2.432480\n",
      "[LightGBM] [Info] Start training from score -2.432480\n",
      "[LightGBM] [Info] [binary:BoostFromScore]: pavg=0.080729 -> initscore=-2.432480\n",
      "[LightGBM] [Info] Start training from score -2.432480\n",
      "[LightGBM] [Info] [binary:BoostFromScore]: pavg=0.080729 -> initscore=-2.432480\n",
      "[LightGBM] [Info] Start training from score -2.432480\n",
      "[LightGBM] [Info] [binary:BoostFromScore]: pavg=0.080729 -> initscore=-2.432485\n",
      "[LightGBM] [Info] Start training from score -2.432485\n",
      "[LightGBM] [Info] [binary:BoostFromScore]: pavg=0.080729 -> initscore=-2.432485\n",
      "[LightGBM] [Info] Start training from score -2.432485\n",
      "Training until validation scores don't improve for 10 rounds\n",
      "[100]\tcv_agg's valid auc: 0.771555 + 0.00316479\n",
      "[200]\tcv_agg's valid auc: 0.780077 + 0.00243982\n",
      "[300]\tcv_agg's valid auc: 0.782711 + 0.00261879\n",
      "[400]\tcv_agg's valid auc: 0.78407 + 0.00250035\n",
      "[500]\tcv_agg's valid auc: 0.784726 + 0.00247002\n"
     ]
    },
    {
     "name": "stderr",
     "output_type": "stream",
     "text": [
      "regularization_factors, val_score: 0.786652: 100%|##########| 20/20 [39:12<00:00, 105.24s/it]"
     ]
    },
    {
     "name": "stdout",
     "output_type": "stream",
     "text": [
      "Early stopping, best iteration is:\n",
      "[511]\tcv_agg's valid auc: 0.784821 + 0.00249934\n"
     ]
    },
    {
     "name": "stderr",
     "output_type": "stream",
     "text": [
      "[I 2024-01-04 19:55:44,817] Trial 62 finished with value: 0.784821223263568 and parameters: {'lambda_l1': 6.140655337825277e-06, 'lambda_l2': 1.365288044878782}. Best is trial 53 with value: 0.7866518423329325.\n",
      "regularization_factors, val_score: 0.786652: 100%|##########| 20/20 [39:12<00:00, 117.65s/it]\n",
      "min_data_in_leaf, val_score: 0.786652:   0%|          | 0/5 [00:00<?, ?it/s]"
     ]
    },
    {
     "name": "stdout",
     "output_type": "stream",
     "text": [
      "[LightGBM] [Info] Number of positive: 15888, number of negative: 180918\n",
      "[LightGBM] [Info] Total Bins 71923\n",
      "[LightGBM] [Info] Number of data points in the train set: 196806, number of used features: 537\n",
      "[LightGBM] [Info] Number of positive: 15888, number of negative: 180918\n",
      "[LightGBM] [Info] Total Bins 71923\n",
      "[LightGBM] [Info] Number of data points in the train set: 196806, number of used features: 537\n",
      "[LightGBM] [Info] Number of positive: 15888, number of negative: 180918\n",
      "[LightGBM] [Info] Total Bins 71923\n",
      "[LightGBM] [Info] Number of data points in the train set: 196806, number of used features: 537\n",
      "[LightGBM] [Info] Number of positive: 15888, number of negative: 180919\n",
      "[LightGBM] [Info] Total Bins 71923\n",
      "[LightGBM] [Info] Number of data points in the train set: 196807, number of used features: 537\n",
      "[LightGBM] [Info] Number of positive: 15888, number of negative: 180919\n",
      "[LightGBM] [Info] Total Bins 71923\n",
      "[LightGBM] [Info] Number of data points in the train set: 196807, number of used features: 537\n",
      "[LightGBM] [Info] [binary:BoostFromScore]: pavg=0.080729 -> initscore=-2.432480\n",
      "[LightGBM] [Info] Start training from score -2.432480\n",
      "[LightGBM] [Info] [binary:BoostFromScore]: pavg=0.080729 -> initscore=-2.432480\n",
      "[LightGBM] [Info] Start training from score -2.432480\n",
      "[LightGBM] [Info] [binary:BoostFromScore]: pavg=0.080729 -> initscore=-2.432480\n",
      "[LightGBM] [Info] Start training from score -2.432480\n",
      "[LightGBM] [Info] [binary:BoostFromScore]: pavg=0.080729 -> initscore=-2.432485\n",
      "[LightGBM] [Info] Start training from score -2.432485\n",
      "[LightGBM] [Info] [binary:BoostFromScore]: pavg=0.080729 -> initscore=-2.432485\n",
      "[LightGBM] [Info] Start training from score -2.432485\n",
      "Training until validation scores don't improve for 10 rounds\n",
      "[100]\tcv_agg's valid auc: 0.771597 + 0.00264041\n",
      "[200]\tcv_agg's valid auc: 0.780488 + 0.00240025\n",
      "[300]\tcv_agg's valid auc: 0.783624 + 0.00220417\n",
      "[400]\tcv_agg's valid auc: 0.785157 + 0.00210551\n",
      "[500]\tcv_agg's valid auc: 0.786168 + 0.00169796\n"
     ]
    },
    {
     "name": "stderr",
     "output_type": "stream",
     "text": [
      "min_data_in_leaf, val_score: 0.786652:  20%|##        | 1/5 [01:44<06:58, 104.57s/it]"
     ]
    },
    {
     "name": "stdout",
     "output_type": "stream",
     "text": [
      "Early stopping, best iteration is:\n",
      "[520]\tcv_agg's valid auc: 0.786325 + 0.00181373\n"
     ]
    },
    {
     "name": "stderr",
     "output_type": "stream",
     "text": [
      "[I 2024-01-04 19:57:31,852] Trial 63 finished with value: 0.7863250055711124 and parameters: {'min_child_samples': 50}. Best is trial 63 with value: 0.7863250055711124.\n",
      "min_data_in_leaf, val_score: 0.786652:  20%|##        | 1/5 [01:44<06:58, 104.57s/it]"
     ]
    },
    {
     "name": "stdout",
     "output_type": "stream",
     "text": [
      "[LightGBM] [Info] Number of positive: 15888, number of negative: 180918\n",
      "[LightGBM] [Info] Total Bins 71923\n",
      "[LightGBM] [Info] Number of data points in the train set: 196806, number of used features: 537\n",
      "[LightGBM] [Info] Number of positive: 15888, number of negative: 180918\n",
      "[LightGBM] [Info] Total Bins 71923\n",
      "[LightGBM] [Info] Number of data points in the train set: 196806, number of used features: 537\n",
      "[LightGBM] [Info] Number of positive: 15888, number of negative: 180918\n",
      "[LightGBM] [Info] Total Bins 71923\n",
      "[LightGBM] [Info] Number of data points in the train set: 196806, number of used features: 537\n",
      "[LightGBM] [Info] Number of positive: 15888, number of negative: 180919\n",
      "[LightGBM] [Info] Total Bins 71923\n",
      "[LightGBM] [Info] Number of data points in the train set: 196807, number of used features: 537\n",
      "[LightGBM] [Info] Number of positive: 15888, number of negative: 180919\n",
      "[LightGBM] [Info] Total Bins 71923\n",
      "[LightGBM] [Info] Number of data points in the train set: 196807, number of used features: 537\n",
      "[LightGBM] [Info] [binary:BoostFromScore]: pavg=0.080729 -> initscore=-2.432480\n",
      "[LightGBM] [Info] Start training from score -2.432480\n",
      "[LightGBM] [Info] [binary:BoostFromScore]: pavg=0.080729 -> initscore=-2.432480\n",
      "[LightGBM] [Info] Start training from score -2.432480\n",
      "[LightGBM] [Info] [binary:BoostFromScore]: pavg=0.080729 -> initscore=-2.432480\n",
      "[LightGBM] [Info] Start training from score -2.432480\n",
      "[LightGBM] [Info] [binary:BoostFromScore]: pavg=0.080729 -> initscore=-2.432485\n",
      "[LightGBM] [Info] Start training from score -2.432485\n",
      "[LightGBM] [Info] [binary:BoostFromScore]: pavg=0.080729 -> initscore=-2.432485\n",
      "[LightGBM] [Info] Start training from score -2.432485\n",
      "Training until validation scores don't improve for 10 rounds\n",
      "[100]\tcv_agg's valid auc: 0.771597 + 0.00264041\n",
      "[200]\tcv_agg's valid auc: 0.780488 + 0.00240025\n",
      "[300]\tcv_agg's valid auc: 0.783615 + 0.00217817\n",
      "[400]\tcv_agg's valid auc: 0.785138 + 0.00210464\n",
      "[500]\tcv_agg's valid auc: 0.786116 + 0.00172142\n"
     ]
    },
    {
     "name": "stderr",
     "output_type": "stream",
     "text": [
      "min_data_in_leaf, val_score: 0.786652:  40%|####      | 2/5 [03:34<05:23, 107.77s/it][I 2024-01-04 19:59:21,841] Trial 64 finished with value: 0.7864469273546849 and parameters: {'min_child_samples': 10}. Best is trial 64 with value: 0.7864469273546849.\n"
     ]
    },
    {
     "name": "stdout",
     "output_type": "stream",
     "text": [
      "Early stopping, best iteration is:\n",
      "[551]\tcv_agg's valid auc: 0.786447 + 0.00201073\n"
     ]
    },
    {
     "name": "stderr",
     "output_type": "stream",
     "text": [
      "min_data_in_leaf, val_score: 0.786652:  40%|####      | 2/5 [03:34<05:23, 107.77s/it]"
     ]
    },
    {
     "name": "stdout",
     "output_type": "stream",
     "text": [
      "[LightGBM] [Info] Number of positive: 15888, number of negative: 180918\n",
      "[LightGBM] [Info] Total Bins 71923\n",
      "[LightGBM] [Info] Number of data points in the train set: 196806, number of used features: 537\n",
      "[LightGBM] [Info] Number of positive: 15888, number of negative: 180918\n",
      "[LightGBM] [Info] Total Bins 71923\n",
      "[LightGBM] [Info] Number of data points in the train set: 196806, number of used features: 537\n",
      "[LightGBM] [Info] Number of positive: 15888, number of negative: 180918\n",
      "[LightGBM] [Info] Total Bins 71923\n",
      "[LightGBM] [Info] Number of data points in the train set: 196806, number of used features: 537\n",
      "[LightGBM] [Info] Number of positive: 15888, number of negative: 180919\n",
      "[LightGBM] [Info] Total Bins 71923\n",
      "[LightGBM] [Info] Number of data points in the train set: 196807, number of used features: 537\n",
      "[LightGBM] [Info] Number of positive: 15888, number of negative: 180919\n",
      "[LightGBM] [Info] Total Bins 71923\n",
      "[LightGBM] [Info] Number of data points in the train set: 196807, number of used features: 537\n",
      "[LightGBM] [Info] [binary:BoostFromScore]: pavg=0.080729 -> initscore=-2.432480\n",
      "[LightGBM] [Info] Start training from score -2.432480\n",
      "[LightGBM] [Info] [binary:BoostFromScore]: pavg=0.080729 -> initscore=-2.432480\n",
      "[LightGBM] [Info] Start training from score -2.432480\n",
      "[LightGBM] [Info] [binary:BoostFromScore]: pavg=0.080729 -> initscore=-2.432480\n",
      "[LightGBM] [Info] Start training from score -2.432480\n",
      "[LightGBM] [Info] [binary:BoostFromScore]: pavg=0.080729 -> initscore=-2.432485\n",
      "[LightGBM] [Info] Start training from score -2.432485\n",
      "[LightGBM] [Info] [binary:BoostFromScore]: pavg=0.080729 -> initscore=-2.432485\n",
      "[LightGBM] [Info] Start training from score -2.432485\n",
      "Training until validation scores don't improve for 10 rounds\n",
      "[100]\tcv_agg's valid auc: 0.771597 + 0.00264041\n",
      "[200]\tcv_agg's valid auc: 0.780488 + 0.00240025\n",
      "[300]\tcv_agg's valid auc: 0.783615 + 0.00217817\n",
      "[400]\tcv_agg's valid auc: 0.785138 + 0.00210464\n",
      "[500]\tcv_agg's valid auc: 0.786116 + 0.00172142\n"
     ]
    },
    {
     "name": "stderr",
     "output_type": "stream",
     "text": [
      "min_data_in_leaf, val_score: 0.786652:  60%|######    | 3/5 [05:23<03:36, 108.22s/it]"
     ]
    },
    {
     "name": "stdout",
     "output_type": "stream",
     "text": [
      "Early stopping, best iteration is:\n",
      "[551]\tcv_agg's valid auc: 0.786447 + 0.00201073\n"
     ]
    },
    {
     "name": "stderr",
     "output_type": "stream",
     "text": [
      "[I 2024-01-04 20:01:10,614] Trial 65 finished with value: 0.7864469273546849 and parameters: {'min_child_samples': 5}. Best is trial 64 with value: 0.7864469273546849.\n",
      "min_data_in_leaf, val_score: 0.786652:  60%|######    | 3/5 [05:23<03:36, 108.22s/it]"
     ]
    },
    {
     "name": "stdout",
     "output_type": "stream",
     "text": [
      "[LightGBM] [Info] Number of positive: 15888, number of negative: 180918\n",
      "[LightGBM] [Info] Total Bins 71923\n",
      "[LightGBM] [Info] Number of data points in the train set: 196806, number of used features: 537\n",
      "[LightGBM] [Info] Number of positive: 15888, number of negative: 180918\n",
      "[LightGBM] [Info] Total Bins 71923\n",
      "[LightGBM] [Info] Number of data points in the train set: 196806, number of used features: 537\n",
      "[LightGBM] [Info] Number of positive: 15888, number of negative: 180918\n",
      "[LightGBM] [Info] Total Bins 71923\n",
      "[LightGBM] [Info] Number of data points in the train set: 196806, number of used features: 537\n",
      "[LightGBM] [Info] Number of positive: 15888, number of negative: 180919\n",
      "[LightGBM] [Info] Total Bins 71923\n",
      "[LightGBM] [Info] Number of data points in the train set: 196807, number of used features: 537\n",
      "[LightGBM] [Info] Number of positive: 15888, number of negative: 180919\n",
      "[LightGBM] [Info] Total Bins 71923\n",
      "[LightGBM] [Info] Number of data points in the train set: 196807, number of used features: 537\n",
      "[LightGBM] [Info] [binary:BoostFromScore]: pavg=0.080729 -> initscore=-2.432480\n",
      "[LightGBM] [Info] Start training from score -2.432480\n",
      "[LightGBM] [Info] [binary:BoostFromScore]: pavg=0.080729 -> initscore=-2.432480\n",
      "[LightGBM] [Info] Start training from score -2.432480\n",
      "[LightGBM] [Info] [binary:BoostFromScore]: pavg=0.080729 -> initscore=-2.432480\n",
      "[LightGBM] [Info] Start training from score -2.432480\n",
      "[LightGBM] [Info] [binary:BoostFromScore]: pavg=0.080729 -> initscore=-2.432485\n",
      "[LightGBM] [Info] Start training from score -2.432485\n",
      "[LightGBM] [Info] [binary:BoostFromScore]: pavg=0.080729 -> initscore=-2.432485\n",
      "[LightGBM] [Info] Start training from score -2.432485\n",
      "Training until validation scores don't improve for 10 rounds\n",
      "[100]\tcv_agg's valid auc: 0.771597 + 0.00264041\n",
      "[200]\tcv_agg's valid auc: 0.780517 + 0.00240618\n",
      "[300]\tcv_agg's valid auc: 0.783561 + 0.00222743\n",
      "[400]\tcv_agg's valid auc: 0.785118 + 0.00204188\n",
      "[500]\tcv_agg's valid auc: 0.786116 + 0.00170468\n"
     ]
    },
    {
     "name": "stderr",
     "output_type": "stream",
     "text": [
      "min_data_in_leaf, val_score: 0.786670:  80%|########  | 4/5 [07:20<01:51, 111.94s/it][I 2024-01-04 20:03:08,058] Trial 66 finished with value: 0.7866699644594988 and parameters: {'min_child_samples': 100}. Best is trial 66 with value: 0.7866699644594988.\n",
      "min_data_in_leaf, val_score: 0.786670:  80%|########  | 4/5 [07:20<01:51, 111.94s/it]"
     ]
    },
    {
     "name": "stdout",
     "output_type": "stream",
     "text": [
      "Early stopping, best iteration is:\n",
      "[581]\tcv_agg's valid auc: 0.78667 + 0.0017531\n",
      "[LightGBM] [Info] Number of positive: 15888, number of negative: 180918\n",
      "[LightGBM] [Info] Total Bins 71923\n",
      "[LightGBM] [Info] Number of data points in the train set: 196806, number of used features: 537\n",
      "[LightGBM] [Info] Number of positive: 15888, number of negative: 180918\n",
      "[LightGBM] [Info] Total Bins 71923\n",
      "[LightGBM] [Info] Number of data points in the train set: 196806, number of used features: 537\n",
      "[LightGBM] [Info] Number of positive: 15888, number of negative: 180918\n",
      "[LightGBM] [Info] Total Bins 71923\n",
      "[LightGBM] [Info] Number of data points in the train set: 196806, number of used features: 537\n",
      "[LightGBM] [Info] Number of positive: 15888, number of negative: 180919\n",
      "[LightGBM] [Info] Total Bins 71923\n",
      "[LightGBM] [Info] Number of data points in the train set: 196807, number of used features: 537\n",
      "[LightGBM] [Info] Number of positive: 15888, number of negative: 180919\n",
      "[LightGBM] [Info] Total Bins 71923\n",
      "[LightGBM] [Info] Number of data points in the train set: 196807, number of used features: 537\n",
      "[LightGBM] [Info] [binary:BoostFromScore]: pavg=0.080729 -> initscore=-2.432480\n",
      "[LightGBM] [Info] Start training from score -2.432480\n",
      "[LightGBM] [Info] [binary:BoostFromScore]: pavg=0.080729 -> initscore=-2.432480\n",
      "[LightGBM] [Info] Start training from score -2.432480\n",
      "[LightGBM] [Info] [binary:BoostFromScore]: pavg=0.080729 -> initscore=-2.432480\n",
      "[LightGBM] [Info] Start training from score -2.432480\n",
      "[LightGBM] [Info] [binary:BoostFromScore]: pavg=0.080729 -> initscore=-2.432485\n",
      "[LightGBM] [Info] Start training from score -2.432485\n",
      "[LightGBM] [Info] [binary:BoostFromScore]: pavg=0.080729 -> initscore=-2.432485\n",
      "[LightGBM] [Info] Start training from score -2.432485\n",
      "Training until validation scores don't improve for 10 rounds\n",
      "[100]\tcv_agg's valid auc: 0.771597 + 0.00264041\n",
      "[200]\tcv_agg's valid auc: 0.780488 + 0.00240025\n",
      "[300]\tcv_agg's valid auc: 0.783615 + 0.00217817\n",
      "[400]\tcv_agg's valid auc: 0.785138 + 0.00210464\n",
      "[500]\tcv_agg's valid auc: 0.786071 + 0.0017987\n"
     ]
    },
    {
     "name": "stderr",
     "output_type": "stream",
     "text": [
      "min_data_in_leaf, val_score: 0.786670: 100%|##########| 5/5 [09:18<00:00, 113.99s/it][I 2024-01-04 20:05:05,857] Trial 67 finished with value: 0.7866235639515882 and parameters: {'min_child_samples': 25}. Best is trial 66 with value: 0.7866699644594988.\n",
      "min_data_in_leaf, val_score: 0.786670: 100%|##########| 5/5 [09:18<00:00, 111.76s/it]"
     ]
    },
    {
     "name": "stdout",
     "output_type": "stream",
     "text": [
      "Early stopping, best iteration is:\n",
      "[580]\tcv_agg's valid auc: 0.786624 + 0.00182501\n"
     ]
    },
    {
     "name": "stderr",
     "output_type": "stream",
     "text": [
      "\n"
     ]
    }
   ],
   "source": [
    "gbm_tuned_cv.run()"
   ]
  },
  {
   "cell_type": "code",
   "execution_count": 26,
   "id": "2ca25b552c0c3473",
   "metadata": {
    "ExecuteTime": {
     "end_time": "2024-01-05T01:05:07.318853800Z",
     "start_time": "2024-01-05T01:05:07.295857700Z"
    }
   },
   "outputs": [],
   "source": [
    "with open('./src/lightgbm_tuned_cv.txt', 'w') as f:\n",
    "    f.write(str(gbm_tuned_cv.best_params))"
   ]
  },
  {
   "cell_type": "code",
   "execution_count": 27,
   "id": "b0dd212f545e2d37",
   "metadata": {
    "ExecuteTime": {
     "end_time": "2024-01-05T01:05:08.757881100Z",
     "start_time": "2024-01-05T01:05:07.314854900Z"
    }
   },
   "outputs": [],
   "source": [
    "import pickle\n",
    "with open('./src/lightgbm_tuned_cv.pkl', 'wb') as f:\n",
    "    pickle.dump(gbm_tuned_cv, f)"
   ]
  },
  {
   "cell_type": "code",
   "execution_count": 28,
   "id": "2076d1d6d711cb17",
   "metadata": {
    "ExecuteTime": {
     "end_time": "2024-01-05T01:05:08.917882300Z",
     "start_time": "2024-01-05T01:05:08.765882100Z"
    }
   },
   "outputs": [
    {
     "data": {
      "text/plain": [
       "<lightgbm.engine.CVBooster at 0x2004c0dfc10>"
      ]
     },
     "execution_count": 28,
     "metadata": {},
     "output_type": "execute_result"
    }
   ],
   "source": [
    "gbm_tuned_cv.get_best_booster().save_model('./src/lightgbm_tuned_cv.txt')"
   ]
  },
  {
   "cell_type": "code",
   "execution_count": 31,
   "id": "bc2585458d71e5b2",
   "metadata": {
    "ExecuteTime": {
     "end_time": "2024-01-05T01:08:41.354826400Z",
     "start_time": "2024-01-05T01:08:40.935651800Z"
    }
   },
   "outputs": [
    {
     "data": {
      "text/plain": [
       "0.7866699644594988"
      ]
     },
     "execution_count": 31,
     "metadata": {},
     "output_type": "execute_result"
    }
   ],
   "source": [
    "gbm_tuned_cv.best_score"
   ]
  },
  {
   "cell_type": "code",
   "execution_count": 32,
   "id": "37dc28bba6fe0b0f",
   "metadata": {
    "ExecuteTime": {
     "end_time": "2024-01-05T01:11:50.927773800Z",
     "start_time": "2024-01-05T01:11:50.550570300Z"
    }
   },
   "outputs": [
    {
     "data": {
      "text/plain": [
       "{'force_col_wise': True,\n",
       " 'random_state': 42,\n",
       " 'objective': 'binary',\n",
       " 'metric': 'auc',\n",
       " 'feature_pre_filter': False,\n",
       " 'lambda_l1': 6.931602168547142e-07,\n",
       " 'lambda_l2': 8.369887266722193,\n",
       " 'num_leaves': 6,\n",
       " 'feature_fraction': 0.7,\n",
       " 'bagging_fraction': 0.816595323327872,\n",
       " 'bagging_freq': 3,\n",
       " 'min_child_samples': 100}"
      ]
     },
     "execution_count": 32,
     "metadata": {},
     "output_type": "execute_result"
    }
   ],
   "source": [
    "gbm_tuned_cv.best_params"
   ]
  },
  {
   "cell_type": "code",
   "execution_count": 36,
   "id": "bdbd796cbb1058bd",
   "metadata": {
    "ExecuteTime": {
     "end_time": "2024-01-05T01:14:59.263563500Z",
     "start_time": "2024-01-05T01:14:16.630508500Z"
    }
   },
   "outputs": [
    {
     "name": "stdout",
     "output_type": "stream",
     "text": [
      "[LightGBM] [Info] Number of positive: 19860, number of negative: 226148\n",
      "[LightGBM] [Info] Total Bins 71923\n",
      "[LightGBM] [Info] Number of data points in the train set: 246008, number of used features: 537\n",
      "[LightGBM] [Info] [binary:BoostFromScore]: pavg=0.080729 -> initscore=-2.432482\n",
      "[LightGBM] [Info] Start training from score -2.432482\n"
     ]
    }
   ],
   "source": [
    "gbm_tuned_param_model = lgb.train(gbm_tuned_cv.best_params, train_data, num_boost_round=1000)"
   ]
  },
  {
   "cell_type": "code",
   "execution_count": 37,
   "id": "bbe3136804bbbda0",
   "metadata": {
    "ExecuteTime": {
     "end_time": "2024-01-05T01:15:00.389667500Z",
     "start_time": "2024-01-05T01:14:59.263563500Z"
    }
   },
   "outputs": [
    {
     "data": {
      "image/png": "[encoded data removed]",
      "text/plain": [
       "<Figure size 640x480 with 1 Axes>"
      ]
     },
     "metadata": {},
     "output_type": "display_data"
    }
   ],
   "source": [
    "ROC_plot(gbm_tuned_param_model,'Tuned LightGBM')"
   ]
  },
  {
   "cell_type": "code",
   "execution_count": 61,
   "id": "359e6415aa061ad2",
   "metadata": {
    "ExecuteTime": {
     "end_time": "2024-01-05T03:07:35.660388300Z",
     "start_time": "2024-01-05T03:07:30.233566Z"
    }
   },
   "outputs": [
    {
     "name": "stderr",
     "output_type": "stream",
     "text": [
      "C:\\Users\\kevin\\AppData\\Local\\Temp\\ipykernel_4460\\2027899338.py:4: RuntimeWarning: invalid value encountered in scalar divide\n",
      "  return [((pred<th).astype(int)*profit).sum()/((pred<th).astype(int)*loan_amount).sum() for th in thresholds]\n"
     ]
    },
    {
     "data": {
      "image/png": "[encoded data removed]",
      "text/plain": [
       "<Figure size 640x480 with 2 Axes>"
      ]
     },
     "metadata": {},
     "output_type": "display_data"
    }
   ],
   "source": [
    "Onboarding_plot(gbm_tuned_param_model,'Tuned LightGBM')"
   ]
  },
  {
   "cell_type": "code",
   "execution_count": 62,
   "id": "a57cb14330b02547",
   "metadata": {
    "ExecuteTime": {
     "end_time": "2024-01-05T03:08:11.257989400Z",
     "start_time": "2024-01-05T03:08:08.852990400Z"
    }
   },
   "outputs": [
    {
     "data": {
      "image/png": "[encoded data removed]",
      "text/plain": [
       "<Figure size 640x480 with 1 Axes>"
      ]
     },
     "metadata": {},
     "output_type": "display_data"
    }
   ],
   "source": [
    "# plot two models together\n",
    "pred = gbm.predict(test[important_features_name])\n",
    "pred_tuned = gbm_tuned_param_model.predict(test[important_features_name])\n",
    "fpr, tpr, thresholds = roc_curve(test['TARGET'], pred)\n",
    "fpr_tuned, tpr_tuned, thresholds_tuned = roc_curve(test['TARGET'], pred_tuned)\n",
    "plt.plot(fpr, tpr, label=f'ROC curve (area = {roc_auc_score(test[\"TARGET\"], pred):.4f})')\n",
    "plt.plot(fpr_tuned, tpr_tuned, label=f'ROC curve (area = {roc_auc_score(test[\"TARGET\"], pred_tuned):.4f})')\n",
    "plt.plot([0, 1], [0, 1], 'k--')\n",
    "plt.xlabel('False Positive Rate')\n",
    "plt.ylabel('True Positive Rate')\n",
    "plt.title(f'OOS ROC Curve for Default LightGBM and Tuned LightGBM')\n",
    "plt.legend(loc=\"lower right\")\n",
    "plt.show()"
   ]
  },
  {
   "cell_type": "code",
   "execution_count": 91,
   "id": "b5b92056d9b23c62",
   "metadata": {
    "ExecuteTime": {
     "end_time": "2024-01-05T03:47:41.500482500Z",
     "start_time": "2024-01-05T03:47:31.590207500Z"
    }
   },
   "outputs": [
    {
     "name": "stderr",
     "output_type": "stream",
     "text": [
      "C:\\Users\\kevin\\AppData\\Local\\Temp\\ipykernel_4460\\2982743558.py:5: RuntimeWarning: invalid value encountered in scalar divide\n",
      "  return [((pred<th).astype(int)*profit).sum()/((pred<th).astype(int)*loan_amount).sum() for th in thresholds]\n"
     ]
    },
    {
     "data": {
      "image/png": "[encoded data removed]",
      "text/plain": [
       "<Figure size 640x480 with 2 Axes>"
      ]
     },
     "metadata": {},
     "output_type": "display_data"
    }
   ],
   "source": [
    "# plot onboarding profit margin and loan amount for two models together\n",
    "_, _, thresholds = roc_curve(test['TARGET'], pred)\n",
    "_, _, thresholds_tuned = roc_curve(test['TARGET'], pred_tuned)\n",
    "profit_margin = onboarding_profit_margin(pred, thresholds)\n",
    "loan_amount = onboarding_loan_amount(pred, thresholds)\n",
    "profit_margin_tuned = onboarding_profit_margin(pred_tuned, thresholds_tuned)\n",
    "loan_amount_tuned = onboarding_loan_amount(pred_tuned, thresholds_tuned)\n",
    "fig, ax1 = plt.subplots()\n",
    "color = 'tab:red'\n",
    "ax1.set_xlabel('Thresholds')\n",
    "ax1.set_ylabel('Expected Profit Margin', color=color)\n",
    "ax1.plot(thresholds, profit_margin, color=color,label='Default LightGBM Expected Profit Margin',linestyle='dashed')\n",
    "ax1.plot(thresholds_tuned, profit_margin_tuned, color='orange',label='Tuned LightGBM Expected Profit Margin')\n",
    "ax1.tick_params(axis='y', labelcolor=color)\n",
    "# control legend position using x and y\n",
    "ax1.legend(bbox_to_anchor=(0.38,0.3))\n",
    "ax2 = ax1.twinx()  # instantiate a second axes that shares the same x-axis\n",
    "color = 'tab:blue'\n",
    "ax2.set_ylabel('Loan Amount ($)', color=color)  # we already handled the x-label with ax1\n",
    "ax2.plot(thresholds, loan_amount, color=color, linestyle='dashed',label='Default LightGBM Issued Loan Amount')\n",
    "ax2.plot(thresholds_tuned, loan_amount_tuned, color=color,label='Tuned LightGBM Issued Loan Amount')\n",
    "ax2.tick_params(axis='y', labelcolor=color)\n",
    "fig.tight_layout()  # otherwise the right y-label is slightly clipped\n",
    "plt.title(f'Onboarding Profit Margin and Loan Amount for Default LightGBM and Tuned LightGBM')\n",
    "plt.xlim(0,1)\n",
    "ax2.legend(loc=\"lower right\") \n",
    "plt.show()"
   ]
  }
 ],
 "metadata": {
  "kernelspec": {
   "display_name": "Python 3 (ipykernel)",
   "language": "python",
   "name": "python3"
  },
  "language_info": {
   "codemirror_mode": {
    "name": "ipython",
    "version": 3
   },
   "file_extension": ".py",
   "mimetype": "text/x-python",
   "name": "python",
   "nbconvert_exporter": "python",
   "pygments_lexer": "ipython3",
   "version": "3.11.4"
  }
 },
 "nbformat": 4,
 "nbformat_minor": 5
}
